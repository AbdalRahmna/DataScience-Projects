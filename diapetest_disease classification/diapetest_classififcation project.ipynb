{
 "cells": [
  {
   "cell_type": "code",
   "execution_count": 1,
   "id": "4436bcab",
   "metadata": {},
   "outputs": [],
   "source": [
    "# imports:\n",
    "import pandas as pd\n",
    "\n",
    "import numpy as np\n",
    "\n",
    "import seaborn as sns\n",
    "\n",
    "import matplotlib.pyplot as plt\n",
    "\n",
    "from sklearn.feature_selection import SelectKBest ,f_classif ,VarianceThreshold\n",
    "\n",
    "from sklearn.model_selection import train_test_split\n",
    "\n",
    "from sklearn.base import TransformerMixin , BaseEstimator\n",
    "\n",
    "from sklearn.impute import SimpleImputer\n",
    "\n",
    "from sklearn import tree"
   ]
  },
  {
   "cell_type": "code",
   "execution_count": 2,
   "id": "d7c62cea",
   "metadata": {},
   "outputs": [
    {
     "data": {
      "text/html": [
       "<div>\n",
       "<style scoped>\n",
       "    .dataframe tbody tr th:only-of-type {\n",
       "        vertical-align: middle;\n",
       "    }\n",
       "\n",
       "    .dataframe tbody tr th {\n",
       "        vertical-align: top;\n",
       "    }\n",
       "\n",
       "    .dataframe thead th {\n",
       "        text-align: right;\n",
       "    }\n",
       "</style>\n",
       "<table border=\"1\" class=\"dataframe\">\n",
       "  <thead>\n",
       "    <tr style=\"text-align: right;\">\n",
       "      <th></th>\n",
       "      <th>gender</th>\n",
       "      <th>age</th>\n",
       "      <th>hypertension</th>\n",
       "      <th>heart_disease</th>\n",
       "      <th>smoking_history</th>\n",
       "      <th>bmi</th>\n",
       "      <th>HbA1c_level</th>\n",
       "      <th>blood_glucose_level</th>\n",
       "      <th>diabetes</th>\n",
       "    </tr>\n",
       "  </thead>\n",
       "  <tbody>\n",
       "    <tr>\n",
       "      <th>0</th>\n",
       "      <td>Female</td>\n",
       "      <td>80.0</td>\n",
       "      <td>0</td>\n",
       "      <td>1</td>\n",
       "      <td>never</td>\n",
       "      <td>25.19</td>\n",
       "      <td>6.6</td>\n",
       "      <td>140</td>\n",
       "      <td>0</td>\n",
       "    </tr>\n",
       "    <tr>\n",
       "      <th>1</th>\n",
       "      <td>Female</td>\n",
       "      <td>54.0</td>\n",
       "      <td>0</td>\n",
       "      <td>0</td>\n",
       "      <td>No Info</td>\n",
       "      <td>27.32</td>\n",
       "      <td>6.6</td>\n",
       "      <td>80</td>\n",
       "      <td>0</td>\n",
       "    </tr>\n",
       "    <tr>\n",
       "      <th>2</th>\n",
       "      <td>Male</td>\n",
       "      <td>28.0</td>\n",
       "      <td>0</td>\n",
       "      <td>0</td>\n",
       "      <td>never</td>\n",
       "      <td>27.32</td>\n",
       "      <td>5.7</td>\n",
       "      <td>158</td>\n",
       "      <td>0</td>\n",
       "    </tr>\n",
       "    <tr>\n",
       "      <th>3</th>\n",
       "      <td>Female</td>\n",
       "      <td>36.0</td>\n",
       "      <td>0</td>\n",
       "      <td>0</td>\n",
       "      <td>current</td>\n",
       "      <td>23.45</td>\n",
       "      <td>5.0</td>\n",
       "      <td>155</td>\n",
       "      <td>0</td>\n",
       "    </tr>\n",
       "    <tr>\n",
       "      <th>4</th>\n",
       "      <td>Male</td>\n",
       "      <td>76.0</td>\n",
       "      <td>1</td>\n",
       "      <td>1</td>\n",
       "      <td>current</td>\n",
       "      <td>20.14</td>\n",
       "      <td>4.8</td>\n",
       "      <td>155</td>\n",
       "      <td>0</td>\n",
       "    </tr>\n",
       "  </tbody>\n",
       "</table>\n",
       "</div>"
      ],
      "text/plain": [
       "   gender   age  hypertension  heart_disease smoking_history    bmi  \\\n",
       "0  Female  80.0             0              1           never  25.19   \n",
       "1  Female  54.0             0              0         No Info  27.32   \n",
       "2    Male  28.0             0              0           never  27.32   \n",
       "3  Female  36.0             0              0         current  23.45   \n",
       "4    Male  76.0             1              1         current  20.14   \n",
       "\n",
       "   HbA1c_level  blood_glucose_level  diabetes  \n",
       "0          6.6                  140         0  \n",
       "1          6.6                   80         0  \n",
       "2          5.7                  158         0  \n",
       "3          5.0                  155         0  \n",
       "4          4.8                  155         0  "
      ]
     },
     "execution_count": 2,
     "metadata": {},
     "output_type": "execute_result"
    }
   ],
   "source": [
    "data=pd.read_csv(\"diabetes_prediction_dataset.csv\")\n",
    "data.head()"
   ]
  },
  {
   "cell_type": "code",
   "execution_count": 3,
   "id": "c361d94c",
   "metadata": {},
   "outputs": [
    {
     "name": "stdout",
     "output_type": "stream",
     "text": [
      "<class 'pandas.core.frame.DataFrame'>\n",
      "RangeIndex: 100000 entries, 0 to 99999\n",
      "Data columns (total 9 columns):\n",
      " #   Column               Non-Null Count   Dtype  \n",
      "---  ------               --------------   -----  \n",
      " 0   gender               100000 non-null  object \n",
      " 1   age                  100000 non-null  float64\n",
      " 2   hypertension         100000 non-null  int64  \n",
      " 3   heart_disease        100000 non-null  int64  \n",
      " 4   smoking_history      100000 non-null  object \n",
      " 5   bmi                  100000 non-null  float64\n",
      " 6   HbA1c_level          100000 non-null  float64\n",
      " 7   blood_glucose_level  100000 non-null  int64  \n",
      " 8   diabetes             100000 non-null  int64  \n",
      "dtypes: float64(3), int64(4), object(2)\n",
      "memory usage: 6.9+ MB\n"
     ]
    }
   ],
   "source": [
    "data.info()"
   ]
  },
  {
   "cell_type": "code",
   "execution_count": 4,
   "id": "606998bc",
   "metadata": {},
   "outputs": [
    {
     "data": {
      "text/html": [
       "<div>\n",
       "<style scoped>\n",
       "    .dataframe tbody tr th:only-of-type {\n",
       "        vertical-align: middle;\n",
       "    }\n",
       "\n",
       "    .dataframe tbody tr th {\n",
       "        vertical-align: top;\n",
       "    }\n",
       "\n",
       "    .dataframe thead th {\n",
       "        text-align: right;\n",
       "    }\n",
       "</style>\n",
       "<table border=\"1\" class=\"dataframe\">\n",
       "  <thead>\n",
       "    <tr style=\"text-align: right;\">\n",
       "      <th></th>\n",
       "      <th>age</th>\n",
       "      <th>hypertension</th>\n",
       "      <th>heart_disease</th>\n",
       "      <th>bmi</th>\n",
       "      <th>HbA1c_level</th>\n",
       "      <th>blood_glucose_level</th>\n",
       "      <th>diabetes</th>\n",
       "    </tr>\n",
       "  </thead>\n",
       "  <tbody>\n",
       "    <tr>\n",
       "      <th>count</th>\n",
       "      <td>100000.000000</td>\n",
       "      <td>100000.00000</td>\n",
       "      <td>100000.000000</td>\n",
       "      <td>100000.000000</td>\n",
       "      <td>100000.000000</td>\n",
       "      <td>100000.000000</td>\n",
       "      <td>100000.000000</td>\n",
       "    </tr>\n",
       "    <tr>\n",
       "      <th>mean</th>\n",
       "      <td>41.885856</td>\n",
       "      <td>0.07485</td>\n",
       "      <td>0.039420</td>\n",
       "      <td>27.320767</td>\n",
       "      <td>5.527507</td>\n",
       "      <td>138.058060</td>\n",
       "      <td>0.085000</td>\n",
       "    </tr>\n",
       "    <tr>\n",
       "      <th>std</th>\n",
       "      <td>22.516840</td>\n",
       "      <td>0.26315</td>\n",
       "      <td>0.194593</td>\n",
       "      <td>6.636783</td>\n",
       "      <td>1.070672</td>\n",
       "      <td>40.708136</td>\n",
       "      <td>0.278883</td>\n",
       "    </tr>\n",
       "    <tr>\n",
       "      <th>min</th>\n",
       "      <td>0.080000</td>\n",
       "      <td>0.00000</td>\n",
       "      <td>0.000000</td>\n",
       "      <td>10.010000</td>\n",
       "      <td>3.500000</td>\n",
       "      <td>80.000000</td>\n",
       "      <td>0.000000</td>\n",
       "    </tr>\n",
       "    <tr>\n",
       "      <th>25%</th>\n",
       "      <td>24.000000</td>\n",
       "      <td>0.00000</td>\n",
       "      <td>0.000000</td>\n",
       "      <td>23.630000</td>\n",
       "      <td>4.800000</td>\n",
       "      <td>100.000000</td>\n",
       "      <td>0.000000</td>\n",
       "    </tr>\n",
       "    <tr>\n",
       "      <th>50%</th>\n",
       "      <td>43.000000</td>\n",
       "      <td>0.00000</td>\n",
       "      <td>0.000000</td>\n",
       "      <td>27.320000</td>\n",
       "      <td>5.800000</td>\n",
       "      <td>140.000000</td>\n",
       "      <td>0.000000</td>\n",
       "    </tr>\n",
       "    <tr>\n",
       "      <th>75%</th>\n",
       "      <td>60.000000</td>\n",
       "      <td>0.00000</td>\n",
       "      <td>0.000000</td>\n",
       "      <td>29.580000</td>\n",
       "      <td>6.200000</td>\n",
       "      <td>159.000000</td>\n",
       "      <td>0.000000</td>\n",
       "    </tr>\n",
       "    <tr>\n",
       "      <th>max</th>\n",
       "      <td>80.000000</td>\n",
       "      <td>1.00000</td>\n",
       "      <td>1.000000</td>\n",
       "      <td>95.690000</td>\n",
       "      <td>9.000000</td>\n",
       "      <td>300.000000</td>\n",
       "      <td>1.000000</td>\n",
       "    </tr>\n",
       "  </tbody>\n",
       "</table>\n",
       "</div>"
      ],
      "text/plain": [
       "                 age  hypertension  heart_disease            bmi  \\\n",
       "count  100000.000000  100000.00000  100000.000000  100000.000000   \n",
       "mean       41.885856       0.07485       0.039420      27.320767   \n",
       "std        22.516840       0.26315       0.194593       6.636783   \n",
       "min         0.080000       0.00000       0.000000      10.010000   \n",
       "25%        24.000000       0.00000       0.000000      23.630000   \n",
       "50%        43.000000       0.00000       0.000000      27.320000   \n",
       "75%        60.000000       0.00000       0.000000      29.580000   \n",
       "max        80.000000       1.00000       1.000000      95.690000   \n",
       "\n",
       "         HbA1c_level  blood_glucose_level       diabetes  \n",
       "count  100000.000000        100000.000000  100000.000000  \n",
       "mean        5.527507           138.058060       0.085000  \n",
       "std         1.070672            40.708136       0.278883  \n",
       "min         3.500000            80.000000       0.000000  \n",
       "25%         4.800000           100.000000       0.000000  \n",
       "50%         5.800000           140.000000       0.000000  \n",
       "75%         6.200000           159.000000       0.000000  \n",
       "max         9.000000           300.000000       1.000000  "
      ]
     },
     "execution_count": 4,
     "metadata": {},
     "output_type": "execute_result"
    }
   ],
   "source": [
    "data.describe()"
   ]
  },
  {
   "cell_type": "code",
   "execution_count": 5,
   "id": "6e78e179",
   "metadata": {},
   "outputs": [
    {
     "data": {
      "text/html": [
       "<div>\n",
       "<style scoped>\n",
       "    .dataframe tbody tr th:only-of-type {\n",
       "        vertical-align: middle;\n",
       "    }\n",
       "\n",
       "    .dataframe tbody tr th {\n",
       "        vertical-align: top;\n",
       "    }\n",
       "\n",
       "    .dataframe thead th {\n",
       "        text-align: right;\n",
       "    }\n",
       "</style>\n",
       "<table border=\"1\" class=\"dataframe\">\n",
       "  <thead>\n",
       "    <tr style=\"text-align: right;\">\n",
       "      <th></th>\n",
       "      <th>gender</th>\n",
       "      <th>smoking_history</th>\n",
       "    </tr>\n",
       "  </thead>\n",
       "  <tbody>\n",
       "    <tr>\n",
       "      <th>count</th>\n",
       "      <td>100000</td>\n",
       "      <td>100000</td>\n",
       "    </tr>\n",
       "    <tr>\n",
       "      <th>unique</th>\n",
       "      <td>3</td>\n",
       "      <td>6</td>\n",
       "    </tr>\n",
       "    <tr>\n",
       "      <th>top</th>\n",
       "      <td>Female</td>\n",
       "      <td>No Info</td>\n",
       "    </tr>\n",
       "    <tr>\n",
       "      <th>freq</th>\n",
       "      <td>58552</td>\n",
       "      <td>35816</td>\n",
       "    </tr>\n",
       "  </tbody>\n",
       "</table>\n",
       "</div>"
      ],
      "text/plain": [
       "        gender smoking_history\n",
       "count   100000          100000\n",
       "unique       3               6\n",
       "top     Female         No Info\n",
       "freq     58552           35816"
      ]
     },
     "execution_count": 5,
     "metadata": {},
     "output_type": "execute_result"
    }
   ],
   "source": [
    "data.describe(include=[\"O\"])"
   ]
  },
  {
   "cell_type": "code",
   "execution_count": 6,
   "id": "55dcb6d8",
   "metadata": {},
   "outputs": [
    {
     "data": {
      "text/plain": [
       "Index(['hypertension', 'heart_disease', 'blood_glucose_level', 'diabetes'], dtype='object')"
      ]
     },
     "execution_count": 6,
     "metadata": {},
     "output_type": "execute_result"
    }
   ],
   "source": [
    "integar=data.select_dtypes(include=[\"int64\"]).columns\n",
    "integar"
   ]
  },
  {
   "cell_type": "code",
   "execution_count": 7,
   "id": "9e922155",
   "metadata": {},
   "outputs": [
    {
     "data": {
      "text/plain": [
       "Index(['age', 'bmi', 'HbA1c_level'], dtype='object')"
      ]
     },
     "execution_count": 7,
     "metadata": {},
     "output_type": "execute_result"
    }
   ],
   "source": [
    "continous=data.select_dtypes(include=[\"float64\"]).columns\n",
    "continous"
   ]
  },
  {
   "cell_type": "code",
   "execution_count": 8,
   "id": "e3a4e110",
   "metadata": {},
   "outputs": [
    {
     "data": {
      "text/plain": [
       "Index(['gender', 'smoking_history'], dtype='object')"
      ]
     },
     "execution_count": 8,
     "metadata": {},
     "output_type": "execute_result"
    }
   ],
   "source": [
    "objected=data.select_dtypes(\"object\").columns\n",
    "objected"
   ]
  },
  {
   "cell_type": "code",
   "execution_count": 9,
   "id": "04f221f7",
   "metadata": {},
   "outputs": [
    {
     "data": {
      "text/plain": [
       "<Axes: xlabel='gender'>"
      ]
     },
     "execution_count": 9,
     "metadata": {},
     "output_type": "execute_result"
    },
    {
     "data": {
      "image/png": "[encoded data removed]",
      "text/plain": [
       "<Figure size 640x480 with 1 Axes>"
      ]
     },
     "metadata": {},
     "output_type": "display_data"
    }
   ],
   "source": [
    "data.groupby([\"gender\"])[\"heart_disease\"].mean().sort_values(ascending=False).plot(kind=\"bar\",legend=True)"
   ]
  },
  {
   "cell_type": "code",
   "execution_count": 10,
   "id": "4e48ffdd",
   "metadata": {},
   "outputs": [
    {
     "data": {
      "text/plain": [
       "<Axes: xlabel='gender'>"
      ]
     },
     "execution_count": 10,
     "metadata": {},
     "output_type": "execute_result"
    },
    {
     "data": {
      "image/png": "[encoded data removed]",
      "text/plain": [
       "<Figure size 640x480 with 1 Axes>"
      ]
     },
     "metadata": {},
     "output_type": "display_data"
    }
   ],
   "source": [
    "data.groupby([\"gender\"])[\"diabetes\"].mean().sort_values(ascending=False).plot(kind=\"bar\",legend=True)"
   ]
  },
  {
   "cell_type": "code",
   "execution_count": 13,
   "id": "82bb1159",
   "metadata": {},
   "outputs": [
    {
     "data": {
      "text/plain": [
       "<Axes: xlabel='age', ylabel='Density'>"
      ]
     },
     "execution_count": 13,
     "metadata": {},
     "output_type": "execute_result"
    },
    {
     "data": {
      "image/png": "[encoded data removed]",
      "text/plain": [
       "<Figure size 640x480 with 1 Axes>"
      ]
     },
     "metadata": {},
     "output_type": "display_data"
    }
   ],
   "source": [
    "sns.kdeplot(data[\"age\"],fill=True)"
   ]
  },
  {
   "cell_type": "code",
   "execution_count": 14,
   "id": "d1540737",
   "metadata": {},
   "outputs": [
    {
     "data": {
      "text/plain": [
       "<Axes: ylabel='diabetes'>"
      ]
     },
     "execution_count": 14,
     "metadata": {},
     "output_type": "execute_result"
    },
    {
     "data": {
      "image/png": "[encoded data removed]",
      "text/plain": [
       "<Figure size 640x480 with 1 Axes>"
      ]
     },
     "metadata": {},
     "output_type": "display_data"
    }
   ],
   "source": [
    "data.groupby([\"smoking_history\"])[\"diabetes\"].mean().sort_values(ascending=False).plot(kind=\"pie\",legend=True)"
   ]
  },
  {
   "cell_type": "code",
   "execution_count": 15,
   "id": "ccdcd6cd",
   "metadata": {},
   "outputs": [
    {
     "data": {
      "text/plain": [
       "<Axes: xlabel='gender'>"
      ]
     },
     "execution_count": 15,
     "metadata": {},
     "output_type": "execute_result"
    },
    {
     "data": {
      "image/png": "[encoded data removed]",
      "text/plain": [
       "<Figure size 640x480 with 1 Axes>"
      ]
     },
     "metadata": {},
     "output_type": "display_data"
    }
   ],
   "source": [
    "data.groupby([\"gender\"])[\"bmi\"].mean().sort_values(ascending=False).plot(kind=\"bar\",legend=True)"
   ]
  },
  {
   "cell_type": "code",
   "execution_count": 16,
   "id": "91c85c4e",
   "metadata": {},
   "outputs": [
    {
     "data": {
      "text/plain": [
       "gender\n",
       "Female    58552\n",
       "Male      41430\n",
       "Other        18\n",
       "Name: count, dtype: int64"
      ]
     },
     "execution_count": 16,
     "metadata": {},
     "output_type": "execute_result"
    }
   ],
   "source": [
    "data[\"gender\"].value_counts()"
   ]
  },
  {
   "cell_type": "code",
   "execution_count": 17,
   "id": "5458b48f",
   "metadata": {},
   "outputs": [
    {
     "data": {
      "text/plain": [
       "smoking_history\n",
       "No Info        35816\n",
       "never          35095\n",
       "former          9352\n",
       "current         9286\n",
       "not current     6447\n",
       "ever            4004\n",
       "Name: count, dtype: int64"
      ]
     },
     "execution_count": 17,
     "metadata": {},
     "output_type": "execute_result"
    }
   ],
   "source": [
    "data[\"smoking_history\"].value_counts()"
   ]
  },
  {
   "cell_type": "code",
   "execution_count": 18,
   "id": "11846e44",
   "metadata": {},
   "outputs": [
    {
     "data": {
      "text/plain": [
       "diabetes\n",
       "0    91500\n",
       "1     8500\n",
       "Name: count, dtype: int64"
      ]
     },
     "execution_count": 18,
     "metadata": {},
     "output_type": "execute_result"
    }
   ],
   "source": [
    "data[\"diabetes\"].value_counts()"
   ]
  },
  {
   "cell_type": "code",
   "execution_count": 20,
   "id": "0feff004",
   "metadata": {},
   "outputs": [
    {
     "data": {
      "text/plain": [
       "<seaborn.axisgrid.FacetGrid at 0x7fa351e1c670>"
      ]
     },
     "execution_count": 20,
     "metadata": {},
     "output_type": "execute_result"
    },
    {
     "data": {
      "image/png": "[encoded data removed]",
      "text/plain": [
       "<Figure size 500x500 with 1 Axes>"
      ]
     },
     "metadata": {},
     "output_type": "display_data"
    }
   ],
   "source": [
    "sns.displot(data[\"diabetes\"],color=\"g\")"
   ]
  },
  {
   "cell_type": "code",
   "execution_count": 21,
   "id": "e9da4100",
   "metadata": {},
   "outputs": [
    {
     "data": {
      "text/plain": [
       "gender                 0.0\n",
       "age                    0.0\n",
       "hypertension           0.0\n",
       "heart_disease          0.0\n",
       "smoking_history        0.0\n",
       "bmi                    0.0\n",
       "HbA1c_level            0.0\n",
       "blood_glucose_level    0.0\n",
       "diabetes               0.0\n",
       "dtype: float64"
      ]
     },
     "execution_count": 21,
     "metadata": {},
     "output_type": "execute_result"
    }
   ],
   "source": [
    "data.isna().mean()"
   ]
  },
  {
   "cell_type": "code",
   "execution_count": 22,
   "id": "2e152c3f",
   "metadata": {},
   "outputs": [
    {
     "data": {
      "text/plain": [
       "array([[80., 54., 28., ..., 66., 24., 57.]])"
      ]
     },
     "execution_count": 22,
     "metadata": {},
     "output_type": "execute_result"
    }
   ],
   "source": [
    "from sklearn.impute import SimpleImputer\n",
    "impute=SimpleImputer(strategy=\"median\")\n",
    "impute.fit_transform(data[\"age\"].values.reshape(1,-1))"
   ]
  },
  {
   "cell_type": "code",
   "execution_count": 23,
   "id": "6abf67d3",
   "metadata": {},
   "outputs": [
    {
     "data": {
      "text/plain": [
       "gender                 0\n",
       "age                    0\n",
       "hypertension           0\n",
       "heart_disease          0\n",
       "smoking_history        0\n",
       "bmi                    0\n",
       "HbA1c_level            0\n",
       "blood_glucose_level    0\n",
       "diabetes               0\n",
       "dtype: int64"
      ]
     },
     "execution_count": 23,
     "metadata": {},
     "output_type": "execute_result"
    }
   ],
   "source": [
    "data.isna().sum()"
   ]
  },
  {
   "cell_type": "code",
   "execution_count": 24,
   "id": "1923b8cb",
   "metadata": {},
   "outputs": [
    {
     "data": {
      "text/html": [
       "<div>\n",
       "<style scoped>\n",
       "    .dataframe tbody tr th:only-of-type {\n",
       "        vertical-align: middle;\n",
       "    }\n",
       "\n",
       "    .dataframe tbody tr th {\n",
       "        vertical-align: top;\n",
       "    }\n",
       "\n",
       "    .dataframe thead th {\n",
       "        text-align: right;\n",
       "    }\n",
       "</style>\n",
       "<table border=\"1\" class=\"dataframe\">\n",
       "  <thead>\n",
       "    <tr style=\"text-align: right;\">\n",
       "      <th></th>\n",
       "      <th>age</th>\n",
       "      <th>hypertension</th>\n",
       "      <th>heart_disease</th>\n",
       "      <th>bmi</th>\n",
       "      <th>HbA1c_level</th>\n",
       "      <th>blood_glucose_level</th>\n",
       "      <th>diabetes</th>\n",
       "    </tr>\n",
       "  </thead>\n",
       "  <tbody>\n",
       "    <tr>\n",
       "      <th>count</th>\n",
       "      <td>100000.000000</td>\n",
       "      <td>100000.00000</td>\n",
       "      <td>100000.000000</td>\n",
       "      <td>100000.000000</td>\n",
       "      <td>100000.000000</td>\n",
       "      <td>100000.000000</td>\n",
       "      <td>100000.000000</td>\n",
       "    </tr>\n",
       "    <tr>\n",
       "      <th>mean</th>\n",
       "      <td>41.885856</td>\n",
       "      <td>0.07485</td>\n",
       "      <td>0.039420</td>\n",
       "      <td>27.320767</td>\n",
       "      <td>5.527507</td>\n",
       "      <td>138.058060</td>\n",
       "      <td>0.085000</td>\n",
       "    </tr>\n",
       "    <tr>\n",
       "      <th>std</th>\n",
       "      <td>22.516840</td>\n",
       "      <td>0.26315</td>\n",
       "      <td>0.194593</td>\n",
       "      <td>6.636783</td>\n",
       "      <td>1.070672</td>\n",
       "      <td>40.708136</td>\n",
       "      <td>0.278883</td>\n",
       "    </tr>\n",
       "    <tr>\n",
       "      <th>min</th>\n",
       "      <td>0.080000</td>\n",
       "      <td>0.00000</td>\n",
       "      <td>0.000000</td>\n",
       "      <td>10.010000</td>\n",
       "      <td>3.500000</td>\n",
       "      <td>80.000000</td>\n",
       "      <td>0.000000</td>\n",
       "    </tr>\n",
       "    <tr>\n",
       "      <th>25%</th>\n",
       "      <td>24.000000</td>\n",
       "      <td>0.00000</td>\n",
       "      <td>0.000000</td>\n",
       "      <td>23.630000</td>\n",
       "      <td>4.800000</td>\n",
       "      <td>100.000000</td>\n",
       "      <td>0.000000</td>\n",
       "    </tr>\n",
       "    <tr>\n",
       "      <th>50%</th>\n",
       "      <td>43.000000</td>\n",
       "      <td>0.00000</td>\n",
       "      <td>0.000000</td>\n",
       "      <td>27.320000</td>\n",
       "      <td>5.800000</td>\n",
       "      <td>140.000000</td>\n",
       "      <td>0.000000</td>\n",
       "    </tr>\n",
       "    <tr>\n",
       "      <th>75%</th>\n",
       "      <td>60.000000</td>\n",
       "      <td>0.00000</td>\n",
       "      <td>0.000000</td>\n",
       "      <td>29.580000</td>\n",
       "      <td>6.200000</td>\n",
       "      <td>159.000000</td>\n",
       "      <td>0.000000</td>\n",
       "    </tr>\n",
       "    <tr>\n",
       "      <th>max</th>\n",
       "      <td>80.000000</td>\n",
       "      <td>1.00000</td>\n",
       "      <td>1.000000</td>\n",
       "      <td>95.690000</td>\n",
       "      <td>9.000000</td>\n",
       "      <td>300.000000</td>\n",
       "      <td>1.000000</td>\n",
       "    </tr>\n",
       "  </tbody>\n",
       "</table>\n",
       "</div>"
      ],
      "text/plain": [
       "                 age  hypertension  heart_disease            bmi  \\\n",
       "count  100000.000000  100000.00000  100000.000000  100000.000000   \n",
       "mean       41.885856       0.07485       0.039420      27.320767   \n",
       "std        22.516840       0.26315       0.194593       6.636783   \n",
       "min         0.080000       0.00000       0.000000      10.010000   \n",
       "25%        24.000000       0.00000       0.000000      23.630000   \n",
       "50%        43.000000       0.00000       0.000000      27.320000   \n",
       "75%        60.000000       0.00000       0.000000      29.580000   \n",
       "max        80.000000       1.00000       1.000000      95.690000   \n",
       "\n",
       "         HbA1c_level  blood_glucose_level       diabetes  \n",
       "count  100000.000000        100000.000000  100000.000000  \n",
       "mean        5.527507           138.058060       0.085000  \n",
       "std         1.070672            40.708136       0.278883  \n",
       "min         3.500000            80.000000       0.000000  \n",
       "25%         4.800000           100.000000       0.000000  \n",
       "50%         5.800000           140.000000       0.000000  \n",
       "75%         6.200000           159.000000       0.000000  \n",
       "max         9.000000           300.000000       1.000000  "
      ]
     },
     "execution_count": 24,
     "metadata": {},
     "output_type": "execute_result"
    }
   ],
   "source": [
    "data.describe()"
   ]
  },
  {
   "cell_type": "code",
   "execution_count": 25,
   "id": "1d64c6cc",
   "metadata": {},
   "outputs": [
    {
     "data": {
      "text/plain": [
       "<Axes: xlabel='age'>"
      ]
     },
     "execution_count": 25,
     "metadata": {},
     "output_type": "execute_result"
    },
    {
     "data": {
      "image/png": "[encoded data removed]",
      "text/plain": [
       "<Figure size 640x480 with 1 Axes>"
      ]
     },
     "metadata": {},
     "output_type": "display_data"
    }
   ],
   "source": [
    "# from pervious statistical step we find that predicted there outlier in blood_glucose_level,age\n",
    "\n",
    "# 1- age:-\n",
    "\n",
    "sns.boxplot(x=data[\"age\"])\n",
    "\n",
    "# ther are Not outlier in Age:-\n"
   ]
  },
  {
   "cell_type": "code",
   "execution_count": 26,
   "id": "d47a40b8",
   "metadata": {},
   "outputs": [
    {
     "data": {
      "text/plain": [
       "<Axes: xlabel='age'>"
      ]
     },
     "execution_count": 26,
     "metadata": {},
     "output_type": "execute_result"
    },
    {
     "data": {
      "image/png": "[encoded data removed]",
      "text/plain": [
       "<Figure size 640x480 with 1 Axes>"
      ]
     },
     "metadata": {},
     "output_type": "display_data"
    }
   ],
   "source": [
    "sns.scatterplot(x=data[\"age\"],y=np.zeros_like(data[\"age\"]))"
   ]
  },
  {
   "cell_type": "code",
   "execution_count": 27,
   "id": "2262fc7f",
   "metadata": {},
   "outputs": [
    {
     "data": {
      "text/plain": [
       "<Axes: xlabel='blood_glucose_level'>"
      ]
     },
     "execution_count": 27,
     "metadata": {},
     "output_type": "execute_result"
    },
    {
     "data": {
      "image/png": "[encoded data removed]",
      "text/plain": [
       "<Figure size 640x480 with 1 Axes>"
      ]
     },
     "metadata": {},
     "output_type": "display_data"
    }
   ],
   "source": [
    "#2- blood_glucose_level:-\n",
    "\n",
    "sns.boxplot(x=data[\"blood_glucose_level\"])\n",
    "\n",
    "# ther then outlier"
   ]
  },
  {
   "cell_type": "code",
   "execution_count": 28,
   "id": "ee35a359",
   "metadata": {},
   "outputs": [
    {
     "data": {
      "text/plain": [
       "<Axes: xlabel='blood_glucose_level'>"
      ]
     },
     "execution_count": 28,
     "metadata": {},
     "output_type": "execute_result"
    },
    {
     "data": {
      "image/png": "[encoded data removed]",
      "text/plain": [
       "<Figure size 640x480 with 1 Axes>"
      ]
     },
     "metadata": {},
     "output_type": "display_data"
    }
   ],
   "source": [
    "sns.scatterplot(x=data[\"blood_glucose_level\"],y=np.zeros_like(data[\"blood_glucose_level\"]))"
   ]
  },
  {
   "cell_type": "code",
   "execution_count": 29,
   "id": "381abb19",
   "metadata": {},
   "outputs": [],
   "source": [
    "# calc the outlier for blood_glucose_level:\n",
    "\n",
    "Q1,Q3=data[\"blood_glucose_level\"].quantile([0.25,0.75])\n",
    "\n",
    "IQR=Q3-Q1\n",
    "\n",
    "low_limit=Q1-1.5*IQR\n",
    "upper_limit=Q3+1.5*IQR\n",
    "\n",
    "outlier=[]\n",
    "\n",
    "for x in data[\"blood_glucose_level\"]:\n",
    "    if((x<low_limit) or (x>upper_limit)):\n",
    "        outlier.append(x)"
   ]
  },
  {
   "cell_type": "code",
   "execution_count": 30,
   "id": "81c6cfb5",
   "metadata": {},
   "outputs": [
    {
     "name": "stdout",
     "output_type": "stream",
     "text": [
      "Q1_blood 100.0\n",
      "Q3_blood 159.0\n",
      "IQR_blood 59.0\n",
      "low_limit_blood 11.5\n",
      "upper_limit_blood 247.5\n",
      "outliers= [260, 300, 280, 280, 300, 280, 300, 280, 260, 280, 260, 260, 300, 300, 280, 280, 300, 300, 300, 280, 260, 300, 300, 260, 260, 300, 300, 280, 260, 280, 280, 260, 300, 280, 260, 260, 300, 280, 280, 260, 300, 280, 300, 260, 300, 300, 260, 260, 280, 300, 300, 260, 260, 300, 300, 280, 280, 280, 280, 300, 280, 300, 280, 260, 300, 260, 260, 300, 280, 280, 260, 260, 300, 260, 300, 280, 260, 300, 280, 280, 300, 260, 280, 280, 280, 300, 260, 300, 280, 300, 300, 260, 280, 260, 300, 280, 280, 280, 280, 260, 300, 280, 260, 260, 260, 280, 260, 300, 280, 280, 300, 280, 280, 280, 260, 280, 260, 280, 300, 300, 280, 280, 260, 300, 260, 260, 280, 300, 300, 280, 280, 260, 260, 300, 300, 300, 280, 260, 300, 280, 260, 300, 300, 300, 260, 260, 300, 280, 300, 280, 260, 260, 300, 280, 260, 300, 300, 280, 280, 280, 280, 300, 280, 260, 300, 280, 300, 300, 260, 260, 300, 260, 280, 300, 260, 260, 280, 300, 260, 260, 260, 280, 260, 300, 300, 300, 260, 280, 260, 300, 260, 260, 280, 300, 280, 280, 260, 300, 300, 260, 260, 280, 280, 300, 280, 300, 280, 280, 260, 260, 280, 280, 300, 260, 260, 280, 280, 280, 280, 280, 280, 260, 280, 280, 260, 280, 280, 260, 280, 300, 280, 260, 260, 280, 280, 280, 280, 300, 280, 300, 300, 260, 280, 300, 280, 260, 260, 300, 300, 260, 280, 280, 280, 260, 260, 280, 260, 260, 280, 300, 280, 260, 280, 260, 260, 280, 280, 300, 300, 260, 300, 280, 260, 300, 260, 280, 260, 280, 280, 300, 260, 280, 260, 280, 280, 280, 280, 280, 260, 280, 280, 280, 300, 280, 260, 280, 260, 280, 300, 300, 300, 300, 260, 260, 260, 280, 260, 260, 280, 260, 300, 260, 260, 300, 260, 300, 260, 260, 280, 260, 260, 300, 260, 260, 300, 280, 260, 300, 300, 300, 300, 280, 300, 300, 280, 280, 260, 300, 260, 300, 260, 300, 300, 300, 280, 300, 280, 300, 260, 260, 260, 300, 300, 280, 280, 300, 300, 260, 280, 300, 260, 300, 300, 260, 300, 300, 260, 300, 280, 300, 260, 280, 300, 280, 300, 300, 300, 260, 280, 300, 300, 300, 280, 280, 300, 300, 300, 300, 260, 280, 280, 280, 280, 300, 280, 300, 280, 260, 280, 260, 300, 280, 300, 300, 260, 280, 300, 280, 260, 300, 300, 280, 260, 280, 280, 300, 260, 300, 300, 300, 280, 300, 260, 280, 300, 280, 280, 280, 300, 280, 300, 300, 260, 280, 260, 300, 300, 280, 280, 280, 300, 300, 300, 260, 280, 260, 260, 300, 280, 280, 280, 280, 280, 280, 280, 260, 280, 300, 300, 300, 280, 300, 300, 300, 280, 260, 260, 300, 260, 300, 300, 280, 260, 260, 260, 300, 300, 300, 260, 300, 260, 300, 300, 300, 260, 260, 280, 260, 280, 260, 300, 260, 260, 280, 280, 260, 300, 280, 280, 300, 280, 300, 260, 280, 300, 300, 280, 260, 280, 260, 300, 280, 280, 280, 280, 280, 260, 260, 300, 260, 260, 280, 300, 260, 280, 300, 300, 280, 260, 300, 300, 280, 260, 280, 260, 280, 300, 260, 260, 260, 260, 260, 300, 280, 280, 280, 260, 280, 260, 280, 300, 300, 300, 260, 300, 300, 260, 300, 260, 280, 260, 280, 280, 280, 280, 300, 300, 260, 300, 300, 300, 260, 280, 280, 280, 280, 260, 300, 260, 280, 260, 260, 300, 280, 280, 280, 260, 260, 260, 260, 280, 300, 300, 300, 280, 280, 280, 280, 280, 260, 300, 280, 300, 260, 300, 260, 280, 300, 300, 260, 260, 300, 280, 280, 260, 280, 260, 280, 300, 300, 260, 280, 260, 300, 300, 280, 260, 260, 280, 260, 300, 300, 280, 300, 280, 300, 260, 300, 300, 280, 280, 260, 260, 260, 280, 280, 260, 260, 300, 260, 260, 280, 280, 280, 280, 300, 300, 260, 300, 280, 280, 300, 280, 280, 300, 260, 280, 260, 280, 280, 260, 300, 280, 300, 300, 260, 280, 280, 260, 280, 280, 280, 300, 280, 300, 280, 280, 280, 300, 260, 300, 260, 260, 280, 300, 300, 300, 300, 300, 260, 300, 280, 260, 260, 280, 280, 300, 260, 260, 260, 260, 280, 280, 300, 260, 280, 300, 280, 260, 300, 300, 300, 260, 300, 260, 260, 280, 260, 260, 280, 300, 280, 300, 260, 300, 300, 260, 280, 260, 300, 300, 260, 260, 300, 300, 280, 280, 280, 280, 260, 300, 300, 260, 260, 300, 260, 280, 280, 300, 280, 300, 280, 280, 280, 280, 300, 280, 300, 300, 300, 300, 260, 280, 280, 280, 280, 280, 260, 300, 300, 260, 260, 280, 260, 280, 300, 300, 260, 300, 260, 300, 280, 280, 300, 300, 280, 280, 300, 280, 260, 260, 300, 280, 260, 300, 280, 280, 280, 280, 300, 260, 280, 260, 280, 300, 280, 300, 300, 300, 300, 300, 280, 300, 280, 300, 260, 280, 280, 260, 300, 260, 280, 260, 280, 300, 300, 260, 260, 280, 300, 260, 300, 260, 260, 260, 300, 260, 260, 300, 280, 260, 300, 280, 280, 300, 300, 280, 280, 260, 300, 260, 260, 280, 300, 280, 300, 280, 280, 260, 300, 300, 260, 260, 260, 280, 280, 260, 280, 260, 300, 260, 260, 280, 300, 280, 280, 300, 300, 260, 280, 300, 280, 260, 300, 280, 300, 280, 280, 300, 280, 300, 260, 280, 300, 260, 300, 260, 300, 280, 280, 280, 280, 300, 260, 260, 280, 300, 280, 280, 300, 300, 260, 260, 280, 260, 280, 260, 260, 280, 280, 260, 260, 260, 260, 260, 300, 280, 300, 260, 280, 260, 300, 300, 300, 300, 260, 280, 280, 300, 280, 260, 300, 300, 300, 260, 260, 260, 300, 300, 300, 300, 280, 260, 280, 300, 280, 300, 280, 280, 280, 260, 300, 280, 280, 280, 280, 300, 300, 300, 260, 300, 280, 260, 300, 300, 260, 260, 300, 260, 260, 280, 300, 280, 280, 260, 260, 300, 280, 280, 300, 300, 300, 280, 260, 280, 280, 280, 260, 280, 260, 260, 260, 300, 280, 280, 260, 300, 260, 260, 260, 260, 280, 300, 280, 260, 260, 260, 280, 280, 260, 260, 300, 300, 300, 280, 280, 300, 280, 300, 300, 280, 260, 280, 280, 260, 260, 280, 280, 280, 260, 260, 300, 280, 300, 280, 260, 300, 260, 280, 260, 280, 280, 300, 300, 300, 280, 260, 280, 260, 260, 260, 280, 280, 280, 280, 280, 280, 280, 280, 280, 260, 260, 280, 260, 300, 260, 260, 300, 300, 260, 260, 280, 260, 300, 280, 280, 300, 300, 280, 280, 280, 300, 260, 300, 300, 260, 260, 260, 280, 260, 260, 300, 300, 260, 280, 280, 260, 280, 280, 280, 280, 300, 280, 260, 280, 300, 280, 260, 280, 300, 280, 260, 260, 280, 280, 300, 300, 300, 300, 300, 260, 300, 300, 300, 280, 300, 260, 260, 280, 300, 280, 280, 300, 280, 260, 280, 300, 260, 260, 300, 260, 300, 300, 260, 280, 280, 300, 300, 260, 260, 280, 300, 300, 280, 260, 260, 300, 300, 300, 280, 300, 300, 260, 280, 280, 260, 300, 280, 280, 300, 280, 260, 300, 300, 280, 260, 300, 260, 300, 260, 300, 300, 300, 280, 260, 300, 300, 280, 280, 300, 300, 280, 300, 260, 300, 280, 280, 260, 260, 300, 260, 300, 300, 260, 300, 280, 300, 300, 280, 260, 280, 280, 260, 280, 260, 260, 260, 280, 280, 280, 300, 260, 280, 280, 280, 260, 280, 260, 260, 300, 300, 260, 260, 300, 300, 300, 300, 280, 280, 260, 280, 300, 280, 260, 280, 280, 280, 260, 260, 260, 300, 280, 280, 280, 300, 300, 280, 280, 280, 260, 300, 300, 280, 260, 260, 280, 260, 280, 280, 280, 280, 280, 300, 260, 300, 280, 300, 300, 260, 260, 280, 260, 280, 300, 260, 300, 300, 280, 280, 280, 260, 280, 260, 260, 300, 300, 280, 260, 280, 260, 300, 260, 260, 260, 260, 300, 280, 300, 300, 280, 300, 260, 280, 280, 280, 280, 260, 300, 300, 280, 260, 300, 260, 260, 300, 280, 280, 280, 260, 280, 280, 260, 260, 260, 260, 280, 280, 300, 260, 260, 280, 280, 300, 260, 280, 280, 280, 260, 300, 260, 260, 280, 300, 300, 280, 260, 280, 280, 300, 280, 280, 260, 300, 300, 260, 300, 280, 260, 280, 280, 260, 300, 280, 300, 280, 300, 300, 300, 280, 300, 260, 280, 280, 260, 260, 300, 300, 260, 300, 260, 260, 300, 260, 260, 280, 260, 260, 300, 300, 300, 260, 260, 280, 260, 280, 300, 300, 260, 260, 280, 280, 280, 260, 280, 300, 280, 280, 280, 260, 260, 300, 300, 280, 300, 260, 280, 300, 300, 260, 300, 300, 260, 300, 300, 300, 300, 300, 300, 280, 260, 280, 300, 300, 300, 260, 260, 300, 300, 300, 260, 260, 260, 300, 300, 260, 280, 300, 280, 280, 280, 300, 260, 280, 280, 260, 280, 280, 280, 300, 300, 280, 280, 280, 280, 260, 280, 300, 300, 280, 260, 280, 280, 280, 300, 260, 300, 300, 300, 260, 280, 280, 260, 280, 260, 280, 280, 300, 300, 260, 260, 280, 280, 260, 280, 260, 280, 300, 280, 280, 300, 300, 280, 280, 280, 280, 260, 300, 260, 300, 280, 300, 300, 280, 280, 300, 260, 300, 260, 300, 280, 260, 280, 280, 300, 300, 260, 300, 260, 300, 260, 280, 260, 280, 280, 280, 260, 260, 300, 300, 260, 300, 260, 260, 300, 260, 260, 300, 300, 300, 280, 280, 260, 280, 260, 280, 300, 300, 280, 280, 280, 280, 260, 280, 260, 300, 300, 280, 260, 260, 280, 280, 300, 260, 300, 260, 300, 300, 280, 260, 280, 280, 300, 300, 260, 300, 260, 280, 260, 260, 260, 300, 260, 280, 260, 300, 300, 260, 260, 260, 300, 280, 300, 280, 300, 300, 260, 280, 260, 300, 280, 300, 300, 260, 260, 280, 260, 280, 260, 300, 300, 280, 260, 280, 300, 260, 300, 260, 260, 260, 260, 260, 300, 280, 280, 300, 280, 260, 260, 300, 260, 280, 260, 300, 260, 280, 300, 300, 300, 280, 300, 280, 300, 260, 260, 300, 260, 280, 260, 260, 260, 280, 280, 280, 260, 260, 300, 280, 280, 280, 260, 280, 300, 300, 300, 280, 300, 280, 260, 280, 300, 300, 260, 260, 280, 260, 280, 280, 300, 260, 280, 280, 260, 260, 280, 300, 300, 280, 280, 260, 280, 280, 260, 300, 280, 300, 300, 300, 300, 280, 260, 280, 260, 300, 280, 280, 280, 300, 280, 280, 280, 280, 300, 260, 260, 260, 300, 300, 280, 260, 300, 300, 300, 300, 260, 280, 280, 280, 280, 260, 300, 260, 260, 260, 260, 260, 260, 260, 300, 300, 260, 280, 260, 300, 280, 300, 280, 280, 260, 300, 260, 300, 280, 280, 300, 300, 280, 300, 260, 260, 260, 280, 280, 260, 280, 300, 280, 280, 300, 280, 280, 300, 280, 300, 260, 260, 280, 300, 260, 260, 300, 300, 280, 260, 260, 300, 280, 300, 260, 280, 260, 280, 260, 260, 260, 280, 260, 300, 300, 300, 280, 280, 260, 280, 260, 300, 280, 300, 300, 260, 280, 300, 280, 280, 260, 280, 300, 280, 260, 300, 280, 300, 300, 260, 300, 280, 280, 280, 300, 260, 260, 260, 280, 280, 280, 280, 300, 280, 300, 300, 280, 280, 280, 280, 260, 300, 280, 260, 300, 280, 300, 280, 280, 300, 260, 280, 260, 260, 300, 280, 260, 260, 260, 300, 300, 260, 300, 300, 300, 260, 280, 280, 260, 260, 280, 260, 280, 280, 260, 260, 260, 300, 280, 300, 280, 260, 260, 260, 300, 260, 300, 280, 280, 260, 280, 280, 300, 280, 280, 300, 260, 260, 260, 300, 280, 280, 280, 280, 300, 300, 300, 280, 280, 260, 300, 260, 260, 260, 300, 300, 300, 300, 280, 260, 260, 300, 280, 300, 260, 300, 300, 300, 260, 260, 300, 280, 260, 260, 280, 280, 260, 280, 260, 300, 260, 280, 280, 260, 300, 280, 300, 260, 300, 300, 300, 260, 300, 300, 260, 280, 280, 260, 260, 300, 300, 300, 300, 300, 280, 260, 260, 300, 300, 260, 300, 300, 280, 280, 260, 280, 280, 280, 280, 260, 280, 280, 300, 280, 300, 300, 260, 300, 280, 300, 280, 300, 300, 300, 280]\n",
      "number outliers value = 2038\n"
     ]
    }
   ],
   "source": [
    "print(\"Q1_blood\",Q1)\n",
    "print(\"Q3_blood\",Q3)\n",
    "print(\"IQR_blood\",IQR)\n",
    "print(\"low_limit_blood\",low_limit)\n",
    "print(\"upper_limit_blood\",upper_limit)\n",
    "print(\"outliers=\",outlier)\n",
    "print(\"number outliers value =\",len(outlier))"
   ]
  },
  {
   "cell_type": "code",
   "execution_count": 31,
   "id": "f10a1d1a",
   "metadata": {},
   "outputs": [
    {
     "data": {
      "text/plain": [
       "Index(['age', 'hypertension', 'heart_disease', 'bmi', 'HbA1c_level',\n",
       "       'blood_glucose_level', 'diabetes'],\n",
       "      dtype='object')"
      ]
     },
     "execution_count": 31,
     "metadata": {},
     "output_type": "execute_result"
    }
   ],
   "source": [
    "num_cols=data.select_dtypes(\"number\").columns\n",
    "num_cols"
   ]
  },
  {
   "cell_type": "code",
   "execution_count": 32,
   "id": "0f0451bf",
   "metadata": {},
   "outputs": [
    {
     "data": {
      "text/plain": [
       "array([0, 1, 2, 3, 4, 5, 6])"
      ]
     },
     "execution_count": 32,
     "metadata": {},
     "output_type": "execute_result"
    }
   ],
   "source": [
    "selector=VarianceThreshold(threshold=0.01)\n",
    "selector.fit(data.select_dtypes(\"number\"))\n",
    "selector.get_support(indices =True)"
   ]
  },
  {
   "cell_type": "code",
   "execution_count": 33,
   "id": "4b9dc4c1",
   "metadata": {},
   "outputs": [
    {
     "data": {
      "text/plain": [
       "Index(['age', 'hypertension', 'heart_disease', 'bmi', 'HbA1c_level',\n",
       "       'blood_glucose_level', 'diabetes'],\n",
       "      dtype='object')"
      ]
     },
     "execution_count": 33,
     "metadata": {},
     "output_type": "execute_result"
    }
   ],
   "source": [
    "num_cols[selector.get_support(indices =True)]"
   ]
  },
  {
   "cell_type": "code",
   "execution_count": 34,
   "id": "bdb95658",
   "metadata": {},
   "outputs": [
    {
     "data": {
      "text/html": [
       "<div>\n",
       "<style scoped>\n",
       "    .dataframe tbody tr th:only-of-type {\n",
       "        vertical-align: middle;\n",
       "    }\n",
       "\n",
       "    .dataframe tbody tr th {\n",
       "        vertical-align: top;\n",
       "    }\n",
       "\n",
       "    .dataframe thead th {\n",
       "        text-align: right;\n",
       "    }\n",
       "</style>\n",
       "<table border=\"1\" class=\"dataframe\">\n",
       "  <thead>\n",
       "    <tr style=\"text-align: right;\">\n",
       "      <th></th>\n",
       "      <th>age</th>\n",
       "      <th>hypertension</th>\n",
       "      <th>heart_disease</th>\n",
       "      <th>bmi</th>\n",
       "      <th>HbA1c_level</th>\n",
       "      <th>blood_glucose_level</th>\n",
       "      <th>diabetes</th>\n",
       "    </tr>\n",
       "  </thead>\n",
       "  <tbody>\n",
       "    <tr>\n",
       "      <th>age</th>\n",
       "      <td>1.000000</td>\n",
       "      <td>0.251171</td>\n",
       "      <td>0.233354</td>\n",
       "      <td>0.337396</td>\n",
       "      <td>0.101354</td>\n",
       "      <td>0.110672</td>\n",
       "      <td>0.258008</td>\n",
       "    </tr>\n",
       "    <tr>\n",
       "      <th>hypertension</th>\n",
       "      <td>0.251171</td>\n",
       "      <td>1.000000</td>\n",
       "      <td>0.121262</td>\n",
       "      <td>0.147666</td>\n",
       "      <td>0.080939</td>\n",
       "      <td>0.084429</td>\n",
       "      <td>0.197823</td>\n",
       "    </tr>\n",
       "    <tr>\n",
       "      <th>heart_disease</th>\n",
       "      <td>0.233354</td>\n",
       "      <td>0.121262</td>\n",
       "      <td>1.000000</td>\n",
       "      <td>0.061198</td>\n",
       "      <td>0.067589</td>\n",
       "      <td>0.070066</td>\n",
       "      <td>0.171727</td>\n",
       "    </tr>\n",
       "    <tr>\n",
       "      <th>bmi</th>\n",
       "      <td>0.337396</td>\n",
       "      <td>0.147666</td>\n",
       "      <td>0.061198</td>\n",
       "      <td>1.000000</td>\n",
       "      <td>0.082997</td>\n",
       "      <td>0.091261</td>\n",
       "      <td>0.214357</td>\n",
       "    </tr>\n",
       "    <tr>\n",
       "      <th>HbA1c_level</th>\n",
       "      <td>0.101354</td>\n",
       "      <td>0.080939</td>\n",
       "      <td>0.067589</td>\n",
       "      <td>0.082997</td>\n",
       "      <td>1.000000</td>\n",
       "      <td>0.166733</td>\n",
       "      <td>0.400660</td>\n",
       "    </tr>\n",
       "    <tr>\n",
       "      <th>blood_glucose_level</th>\n",
       "      <td>0.110672</td>\n",
       "      <td>0.084429</td>\n",
       "      <td>0.070066</td>\n",
       "      <td>0.091261</td>\n",
       "      <td>0.166733</td>\n",
       "      <td>1.000000</td>\n",
       "      <td>0.419558</td>\n",
       "    </tr>\n",
       "    <tr>\n",
       "      <th>diabetes</th>\n",
       "      <td>0.258008</td>\n",
       "      <td>0.197823</td>\n",
       "      <td>0.171727</td>\n",
       "      <td>0.214357</td>\n",
       "      <td>0.400660</td>\n",
       "      <td>0.419558</td>\n",
       "      <td>1.000000</td>\n",
       "    </tr>\n",
       "  </tbody>\n",
       "</table>\n",
       "</div>"
      ],
      "text/plain": [
       "                          age  hypertension  heart_disease       bmi  \\\n",
       "age                  1.000000      0.251171       0.233354  0.337396   \n",
       "hypertension         0.251171      1.000000       0.121262  0.147666   \n",
       "heart_disease        0.233354      0.121262       1.000000  0.061198   \n",
       "bmi                  0.337396      0.147666       0.061198  1.000000   \n",
       "HbA1c_level          0.101354      0.080939       0.067589  0.082997   \n",
       "blood_glucose_level  0.110672      0.084429       0.070066  0.091261   \n",
       "diabetes             0.258008      0.197823       0.171727  0.214357   \n",
       "\n",
       "                     HbA1c_level  blood_glucose_level  diabetes  \n",
       "age                     0.101354             0.110672  0.258008  \n",
       "hypertension            0.080939             0.084429  0.197823  \n",
       "heart_disease           0.067589             0.070066  0.171727  \n",
       "bmi                     0.082997             0.091261  0.214357  \n",
       "HbA1c_level             1.000000             0.166733  0.400660  \n",
       "blood_glucose_level     0.166733             1.000000  0.419558  \n",
       "diabetes                0.400660             0.419558  1.000000  "
      ]
     },
     "execution_count": 34,
     "metadata": {},
     "output_type": "execute_result"
    }
   ],
   "source": [
    "data.select_dtypes(\"number\").corr()"
   ]
  },
  {
   "cell_type": "code",
   "execution_count": 35,
   "id": "63c997bb",
   "metadata": {},
   "outputs": [
    {
     "data": {
      "text/html": [
       "<div>\n",
       "<style scoped>\n",
       "    .dataframe tbody tr th:only-of-type {\n",
       "        vertical-align: middle;\n",
       "    }\n",
       "\n",
       "    .dataframe tbody tr th {\n",
       "        vertical-align: top;\n",
       "    }\n",
       "\n",
       "    .dataframe thead th {\n",
       "        text-align: right;\n",
       "    }\n",
       "</style>\n",
       "<table border=\"1\" class=\"dataframe\">\n",
       "  <thead>\n",
       "    <tr style=\"text-align: right;\">\n",
       "      <th></th>\n",
       "      <th>age</th>\n",
       "      <th>hypertension</th>\n",
       "      <th>heart_disease</th>\n",
       "      <th>bmi</th>\n",
       "      <th>HbA1c_level</th>\n",
       "      <th>blood_glucose_level</th>\n",
       "      <th>diabetes</th>\n",
       "    </tr>\n",
       "  </thead>\n",
       "  <tbody>\n",
       "    <tr>\n",
       "      <th>age</th>\n",
       "      <td>1.000000</td>\n",
       "      <td>0.251171</td>\n",
       "      <td>0.233354</td>\n",
       "      <td>0.337396</td>\n",
       "      <td>0.101354</td>\n",
       "      <td>0.110672</td>\n",
       "      <td>0.258008</td>\n",
       "    </tr>\n",
       "    <tr>\n",
       "      <th>hypertension</th>\n",
       "      <td>0.251171</td>\n",
       "      <td>1.000000</td>\n",
       "      <td>0.121262</td>\n",
       "      <td>0.147666</td>\n",
       "      <td>0.080939</td>\n",
       "      <td>0.084429</td>\n",
       "      <td>0.197823</td>\n",
       "    </tr>\n",
       "    <tr>\n",
       "      <th>heart_disease</th>\n",
       "      <td>0.233354</td>\n",
       "      <td>0.121262</td>\n",
       "      <td>1.000000</td>\n",
       "      <td>0.061198</td>\n",
       "      <td>0.067589</td>\n",
       "      <td>0.070066</td>\n",
       "      <td>0.171727</td>\n",
       "    </tr>\n",
       "    <tr>\n",
       "      <th>bmi</th>\n",
       "      <td>0.337396</td>\n",
       "      <td>0.147666</td>\n",
       "      <td>0.061198</td>\n",
       "      <td>1.000000</td>\n",
       "      <td>0.082997</td>\n",
       "      <td>0.091261</td>\n",
       "      <td>0.214357</td>\n",
       "    </tr>\n",
       "    <tr>\n",
       "      <th>HbA1c_level</th>\n",
       "      <td>0.101354</td>\n",
       "      <td>0.080939</td>\n",
       "      <td>0.067589</td>\n",
       "      <td>0.082997</td>\n",
       "      <td>1.000000</td>\n",
       "      <td>0.166733</td>\n",
       "      <td>0.400660</td>\n",
       "    </tr>\n",
       "    <tr>\n",
       "      <th>blood_glucose_level</th>\n",
       "      <td>0.110672</td>\n",
       "      <td>0.084429</td>\n",
       "      <td>0.070066</td>\n",
       "      <td>0.091261</td>\n",
       "      <td>0.166733</td>\n",
       "      <td>1.000000</td>\n",
       "      <td>0.419558</td>\n",
       "    </tr>\n",
       "    <tr>\n",
       "      <th>diabetes</th>\n",
       "      <td>0.258008</td>\n",
       "      <td>0.197823</td>\n",
       "      <td>0.171727</td>\n",
       "      <td>0.214357</td>\n",
       "      <td>0.400660</td>\n",
       "      <td>0.419558</td>\n",
       "      <td>1.000000</td>\n",
       "    </tr>\n",
       "  </tbody>\n",
       "</table>\n",
       "</div>"
      ],
      "text/plain": [
       "                          age  hypertension  heart_disease       bmi  \\\n",
       "age                  1.000000      0.251171       0.233354  0.337396   \n",
       "hypertension         0.251171      1.000000       0.121262  0.147666   \n",
       "heart_disease        0.233354      0.121262       1.000000  0.061198   \n",
       "bmi                  0.337396      0.147666       0.061198  1.000000   \n",
       "HbA1c_level          0.101354      0.080939       0.067589  0.082997   \n",
       "blood_glucose_level  0.110672      0.084429       0.070066  0.091261   \n",
       "diabetes             0.258008      0.197823       0.171727  0.214357   \n",
       "\n",
       "                     HbA1c_level  blood_glucose_level  diabetes  \n",
       "age                     0.101354             0.110672  0.258008  \n",
       "hypertension            0.080939             0.084429  0.197823  \n",
       "heart_disease           0.067589             0.070066  0.171727  \n",
       "bmi                     0.082997             0.091261  0.214357  \n",
       "HbA1c_level             1.000000             0.166733  0.400660  \n",
       "blood_glucose_level     0.166733             1.000000  0.419558  \n",
       "diabetes                0.400660             0.419558  1.000000  "
      ]
     },
     "execution_count": 35,
     "metadata": {},
     "output_type": "execute_result"
    }
   ],
   "source": [
    "data.select_dtypes(\"number\").corr(method=\"pearson\")"
   ]
  },
  {
   "cell_type": "code",
   "execution_count": 36,
   "id": "d318e3a7",
   "metadata": {},
   "outputs": [
    {
     "data": {
      "text/html": [
       "<div>\n",
       "<style scoped>\n",
       "    .dataframe tbody tr th:only-of-type {\n",
       "        vertical-align: middle;\n",
       "    }\n",
       "\n",
       "    .dataframe tbody tr th {\n",
       "        vertical-align: top;\n",
       "    }\n",
       "\n",
       "    .dataframe thead th {\n",
       "        text-align: right;\n",
       "    }\n",
       "</style>\n",
       "<table border=\"1\" class=\"dataframe\">\n",
       "  <thead>\n",
       "    <tr style=\"text-align: right;\">\n",
       "      <th></th>\n",
       "      <th>age</th>\n",
       "      <th>hypertension</th>\n",
       "      <th>heart_disease</th>\n",
       "      <th>bmi</th>\n",
       "      <th>HbA1c_level</th>\n",
       "      <th>blood_glucose_level</th>\n",
       "      <th>diabetes</th>\n",
       "    </tr>\n",
       "  </thead>\n",
       "  <tbody>\n",
       "    <tr>\n",
       "      <th>age</th>\n",
       "      <td>1.000000</td>\n",
       "      <td>0.254197</td>\n",
       "      <td>0.234424</td>\n",
       "      <td>0.351311</td>\n",
       "      <td>0.083634</td>\n",
       "      <td>0.075412</td>\n",
       "      <td>0.262076</td>\n",
       "    </tr>\n",
       "    <tr>\n",
       "      <th>hypertension</th>\n",
       "      <td>0.254197</td>\n",
       "      <td>1.000000</td>\n",
       "      <td>0.121262</td>\n",
       "      <td>0.147441</td>\n",
       "      <td>0.066752</td>\n",
       "      <td>0.056369</td>\n",
       "      <td>0.197823</td>\n",
       "    </tr>\n",
       "    <tr>\n",
       "      <th>heart_disease</th>\n",
       "      <td>0.234424</td>\n",
       "      <td>0.121262</td>\n",
       "      <td>1.000000</td>\n",
       "      <td>0.069601</td>\n",
       "      <td>0.055188</td>\n",
       "      <td>0.045133</td>\n",
       "      <td>0.171727</td>\n",
       "    </tr>\n",
       "    <tr>\n",
       "      <th>bmi</th>\n",
       "      <td>0.351311</td>\n",
       "      <td>0.147441</td>\n",
       "      <td>0.069601</td>\n",
       "      <td>1.000000</td>\n",
       "      <td>0.063368</td>\n",
       "      <td>0.058261</td>\n",
       "      <td>0.200061</td>\n",
       "    </tr>\n",
       "    <tr>\n",
       "      <th>HbA1c_level</th>\n",
       "      <td>0.083634</td>\n",
       "      <td>0.066752</td>\n",
       "      <td>0.055188</td>\n",
       "      <td>0.063368</td>\n",
       "      <td>1.000000</td>\n",
       "      <td>0.090891</td>\n",
       "      <td>0.328705</td>\n",
       "    </tr>\n",
       "    <tr>\n",
       "      <th>blood_glucose_level</th>\n",
       "      <td>0.075412</td>\n",
       "      <td>0.056369</td>\n",
       "      <td>0.045133</td>\n",
       "      <td>0.058261</td>\n",
       "      <td>0.090891</td>\n",
       "      <td>1.000000</td>\n",
       "      <td>0.274217</td>\n",
       "    </tr>\n",
       "    <tr>\n",
       "      <th>diabetes</th>\n",
       "      <td>0.262076</td>\n",
       "      <td>0.197823</td>\n",
       "      <td>0.171727</td>\n",
       "      <td>0.200061</td>\n",
       "      <td>0.328705</td>\n",
       "      <td>0.274217</td>\n",
       "      <td>1.000000</td>\n",
       "    </tr>\n",
       "  </tbody>\n",
       "</table>\n",
       "</div>"
      ],
      "text/plain": [
       "                          age  hypertension  heart_disease       bmi  \\\n",
       "age                  1.000000      0.254197       0.234424  0.351311   \n",
       "hypertension         0.254197      1.000000       0.121262  0.147441   \n",
       "heart_disease        0.234424      0.121262       1.000000  0.069601   \n",
       "bmi                  0.351311      0.147441       0.069601  1.000000   \n",
       "HbA1c_level          0.083634      0.066752       0.055188  0.063368   \n",
       "blood_glucose_level  0.075412      0.056369       0.045133  0.058261   \n",
       "diabetes             0.262076      0.197823       0.171727  0.200061   \n",
       "\n",
       "                     HbA1c_level  blood_glucose_level  diabetes  \n",
       "age                     0.083634             0.075412  0.262076  \n",
       "hypertension            0.066752             0.056369  0.197823  \n",
       "heart_disease           0.055188             0.045133  0.171727  \n",
       "bmi                     0.063368             0.058261  0.200061  \n",
       "HbA1c_level             1.000000             0.090891  0.328705  \n",
       "blood_glucose_level     0.090891             1.000000  0.274217  \n",
       "diabetes                0.328705             0.274217  1.000000  "
      ]
     },
     "execution_count": 36,
     "metadata": {},
     "output_type": "execute_result"
    }
   ],
   "source": [
    "data.select_dtypes(\"number\").corr(method=\"spearman\")"
   ]
  },
  {
   "cell_type": "code",
   "execution_count": 37,
   "id": "e7e17de6",
   "metadata": {},
   "outputs": [
    {
     "name": "stderr",
     "output_type": "stream",
     "text": [
      "/home/abdalrahman/.local/lib/python3.8/site-packages/scipy/stats/_stats_py.py:5278: RuntimeWarning: overflow encountered in scalar multiply\n",
      "  (2 * xtie * ytie) / m + x0 * y0 / (9 * m * (size - 2)))\n"
     ]
    },
    {
     "data": {
      "text/html": [
       "<div>\n",
       "<style scoped>\n",
       "    .dataframe tbody tr th:only-of-type {\n",
       "        vertical-align: middle;\n",
       "    }\n",
       "\n",
       "    .dataframe tbody tr th {\n",
       "        vertical-align: top;\n",
       "    }\n",
       "\n",
       "    .dataframe thead th {\n",
       "        text-align: right;\n",
       "    }\n",
       "</style>\n",
       "<table border=\"1\" class=\"dataframe\">\n",
       "  <thead>\n",
       "    <tr style=\"text-align: right;\">\n",
       "      <th></th>\n",
       "      <th>age</th>\n",
       "      <th>hypertension</th>\n",
       "      <th>heart_disease</th>\n",
       "      <th>bmi</th>\n",
       "      <th>HbA1c_level</th>\n",
       "      <th>blood_glucose_level</th>\n",
       "      <th>diabetes</th>\n",
       "    </tr>\n",
       "  </thead>\n",
       "  <tbody>\n",
       "    <tr>\n",
       "      <th>age</th>\n",
       "      <td>1.000000</td>\n",
       "      <td>0.209052</td>\n",
       "      <td>0.192791</td>\n",
       "      <td>0.247000</td>\n",
       "      <td>0.058317</td>\n",
       "      <td>0.052445</td>\n",
       "      <td>0.215532</td>\n",
       "    </tr>\n",
       "    <tr>\n",
       "      <th>hypertension</th>\n",
       "      <td>0.209052</td>\n",
       "      <td>1.000000</td>\n",
       "      <td>0.121262</td>\n",
       "      <td>0.123481</td>\n",
       "      <td>0.056567</td>\n",
       "      <td>0.047657</td>\n",
       "      <td>0.197823</td>\n",
       "    </tr>\n",
       "    <tr>\n",
       "      <th>heart_disease</th>\n",
       "      <td>0.192791</td>\n",
       "      <td>0.121262</td>\n",
       "      <td>1.000000</td>\n",
       "      <td>0.058291</td>\n",
       "      <td>0.046767</td>\n",
       "      <td>0.038157</td>\n",
       "      <td>0.171727</td>\n",
       "    </tr>\n",
       "    <tr>\n",
       "      <th>bmi</th>\n",
       "      <td>0.247000</td>\n",
       "      <td>0.123481</td>\n",
       "      <td>0.058291</td>\n",
       "      <td>1.000000</td>\n",
       "      <td>0.044983</td>\n",
       "      <td>0.041260</td>\n",
       "      <td>0.167550</td>\n",
       "    </tr>\n",
       "    <tr>\n",
       "      <th>HbA1c_level</th>\n",
       "      <td>0.058317</td>\n",
       "      <td>0.056567</td>\n",
       "      <td>0.046767</td>\n",
       "      <td>0.044983</td>\n",
       "      <td>1.000000</td>\n",
       "      <td>0.065109</td>\n",
       "      <td>0.278549</td>\n",
       "    </tr>\n",
       "    <tr>\n",
       "      <th>blood_glucose_level</th>\n",
       "      <td>0.052445</td>\n",
       "      <td>0.047657</td>\n",
       "      <td>0.038157</td>\n",
       "      <td>0.041260</td>\n",
       "      <td>0.065109</td>\n",
       "      <td>1.000000</td>\n",
       "      <td>0.231834</td>\n",
       "    </tr>\n",
       "    <tr>\n",
       "      <th>diabetes</th>\n",
       "      <td>0.215532</td>\n",
       "      <td>0.197823</td>\n",
       "      <td>0.171727</td>\n",
       "      <td>0.167550</td>\n",
       "      <td>0.278549</td>\n",
       "      <td>0.231834</td>\n",
       "      <td>1.000000</td>\n",
       "    </tr>\n",
       "  </tbody>\n",
       "</table>\n",
       "</div>"
      ],
      "text/plain": [
       "                          age  hypertension  heart_disease       bmi  \\\n",
       "age                  1.000000      0.209052       0.192791  0.247000   \n",
       "hypertension         0.209052      1.000000       0.121262  0.123481   \n",
       "heart_disease        0.192791      0.121262       1.000000  0.058291   \n",
       "bmi                  0.247000      0.123481       0.058291  1.000000   \n",
       "HbA1c_level          0.058317      0.056567       0.046767  0.044983   \n",
       "blood_glucose_level  0.052445      0.047657       0.038157  0.041260   \n",
       "diabetes             0.215532      0.197823       0.171727  0.167550   \n",
       "\n",
       "                     HbA1c_level  blood_glucose_level  diabetes  \n",
       "age                     0.058317             0.052445  0.215532  \n",
       "hypertension            0.056567             0.047657  0.197823  \n",
       "heart_disease           0.046767             0.038157  0.171727  \n",
       "bmi                     0.044983             0.041260  0.167550  \n",
       "HbA1c_level             1.000000             0.065109  0.278549  \n",
       "blood_glucose_level     0.065109             1.000000  0.231834  \n",
       "diabetes                0.278549             0.231834  1.000000  "
      ]
     },
     "execution_count": 37,
     "metadata": {},
     "output_type": "execute_result"
    }
   ],
   "source": [
    "data.select_dtypes(\"number\").corr(method=\"kendall\")"
   ]
  },
  {
   "cell_type": "code",
   "execution_count": 38,
   "id": "a1db12c6",
   "metadata": {},
   "outputs": [
    {
     "data": {
      "text/plain": [
       "Text(0.5, 1.0, 'Matrix-Correlation_Heatmap')"
      ]
     },
     "execution_count": 38,
     "metadata": {},
     "output_type": "execute_result"
    },
    {
     "data": {
      "image/png": "[encoded data removed]",
      "text/plain": [
       "<Figure size 640x480 with 2 Axes>"
      ]
     },
     "metadata": {},
     "output_type": "display_data"
    }
   ],
   "source": [
    "sns.heatmap(data.select_dtypes(\"number\").corr(),annot=True,fmt=\".2f\")\n",
    "plt.title(\"Matrix-Correlation_Heatmap\")"
   ]
  },
  {
   "cell_type": "code",
   "execution_count": 39,
   "id": "f658c348",
   "metadata": {},
   "outputs": [
    {
     "data": {
      "text/html": [
       "<style>#sk-container-id-1 {color: black;}#sk-container-id-1 pre{padding: 0;}#sk-container-id-1 div.sk-toggleable {background-color: white;}#sk-container-id-1 label.sk-toggleable__label {cursor: pointer;display: block;width: 100%;margin-bottom: 0;padding: 0.3em;box-sizing: border-box;text-align: center;}#sk-container-id-1 label.sk-toggleable__label-arrow:before {content: \"▸\";float: left;margin-right: 0.25em;color: #696969;}#sk-container-id-1 label.sk-toggleable__label-arrow:hover:before {color: black;}#sk-container-id-1 div.sk-estimator:hover label.sk-toggleable__label-arrow:before {color: black;}#sk-container-id-1 div.sk-toggleable__content {max-height: 0;max-width: 0;overflow: hidden;text-align: left;background-color: #f0f8ff;}#sk-container-id-1 div.sk-toggleable__content pre {margin: 0.2em;color: black;border-radius: 0.25em;background-color: #f0f8ff;}#sk-container-id-1 input.sk-toggleable__control:checked~div.sk-toggleable__content {max-height: 200px;max-width: 100%;overflow: auto;}#sk-container-id-1 input.sk-toggleable__control:checked~label.sk-toggleable__label-arrow:before {content: \"▾\";}#sk-container-id-1 div.sk-estimator input.sk-toggleable__control:checked~label.sk-toggleable__label {background-color: #d4ebff;}#sk-container-id-1 div.sk-label input.sk-toggleable__control:checked~label.sk-toggleable__label {background-color: #d4ebff;}#sk-container-id-1 input.sk-hidden--visually {border: 0;clip: rect(1px 1px 1px 1px);clip: rect(1px, 1px, 1px, 1px);height: 1px;margin: -1px;overflow: hidden;padding: 0;position: absolute;width: 1px;}#sk-container-id-1 div.sk-estimator {font-family: monospace;background-color: #f0f8ff;border: 1px dotted black;border-radius: 0.25em;box-sizing: border-box;margin-bottom: 0.5em;}#sk-container-id-1 div.sk-estimator:hover {background-color: #d4ebff;}#sk-container-id-1 div.sk-parallel-item::after {content: \"\";width: 100%;border-bottom: 1px solid gray;flex-grow: 1;}#sk-container-id-1 div.sk-label:hover label.sk-toggleable__label {background-color: #d4ebff;}#sk-container-id-1 div.sk-serial::before {content: \"\";position: absolute;border-left: 1px solid gray;box-sizing: border-box;top: 0;bottom: 0;left: 50%;z-index: 0;}#sk-container-id-1 div.sk-serial {display: flex;flex-direction: column;align-items: center;background-color: white;padding-right: 0.2em;padding-left: 0.2em;position: relative;}#sk-container-id-1 div.sk-item {position: relative;z-index: 1;}#sk-container-id-1 div.sk-parallel {display: flex;align-items: stretch;justify-content: center;background-color: white;position: relative;}#sk-container-id-1 div.sk-item::before, #sk-container-id-1 div.sk-parallel-item::before {content: \"\";position: absolute;border-left: 1px solid gray;box-sizing: border-box;top: 0;bottom: 0;left: 50%;z-index: -1;}#sk-container-id-1 div.sk-parallel-item {display: flex;flex-direction: column;z-index: 1;position: relative;background-color: white;}#sk-container-id-1 div.sk-parallel-item:first-child::after {align-self: flex-end;width: 50%;}#sk-container-id-1 div.sk-parallel-item:last-child::after {align-self: flex-start;width: 50%;}#sk-container-id-1 div.sk-parallel-item:only-child::after {width: 0;}#sk-container-id-1 div.sk-dashed-wrapped {border: 1px dashed gray;margin: 0 0.4em 0.5em 0.4em;box-sizing: border-box;padding-bottom: 0.4em;background-color: white;}#sk-container-id-1 div.sk-label label {font-family: monospace;font-weight: bold;display: inline-block;line-height: 1.2em;}#sk-container-id-1 div.sk-label-container {text-align: center;}#sk-container-id-1 div.sk-container {/* jupyter's `normalize.less` sets `[hidden] { display: none; }` but bootstrap.min.css set `[hidden] { display: none !important; }` so we also need the `!important` here to be able to override the default hidden behavior on the sphinx rendered scikit-learn.org. See: https://github.com/scikit-learn/scikit-learn/issues/21755 */display: inline-block !important;position: relative;}#sk-container-id-1 div.sk-text-repr-fallback {display: none;}</style><div id=\"sk-container-id-1\" class=\"sk-top-container\"><div class=\"sk-text-repr-fallback\"><pre>SelectKBest(k=5)</pre><b>In a Jupyter environment, please rerun this cell to show the HTML representation or trust the notebook. <br />On GitHub, the HTML representation is unable to render, please try loading this page with nbviewer.org.</b></div><div class=\"sk-container\" hidden><div class=\"sk-item\"><div class=\"sk-estimator sk-toggleable\"><input class=\"sk-toggleable__control sk-hidden--visually\" id=\"sk-estimator-id-1\" type=\"checkbox\" checked><label for=\"sk-estimator-id-1\" class=\"sk-toggleable__label sk-toggleable__label-arrow\">SelectKBest</label><div class=\"sk-toggleable__content\"><pre>SelectKBest(k=5)</pre></div></div></div></div></div>"
      ],
      "text/plain": [
       "SelectKBest(k=5)"
      ]
     },
     "execution_count": 39,
     "metadata": {},
     "output_type": "execute_result"
    }
   ],
   "source": [
    "fs=SelectKBest(score_func=f_classif,k=5)\n",
    "fs.fit(data.drop(columns=\"diabetes\").select_dtypes(\"number\").fillna(0),data[\"diabetes\"])\n"
   ]
  },
  {
   "cell_type": "code",
   "execution_count": 40,
   "id": "fcb21732",
   "metadata": {},
   "outputs": [
    {
     "name": "stdout",
     "output_type": "stream",
     "text": [
      "['  0.000000', '  0.000000', '  0.000000', '  0.000000', '  0.000000', '  0.000000']\n",
      "['7131.405852', '4072.706875', '3038.559564', '4816.113932', '19122.211184', '21363.054361']\n"
     ]
    }
   ],
   "source": [
    "print([\"{:10f}\".format(p)for p in fs.pvalues_])\n",
    "print([\"{:10f}\".format(p)for p in fs.scores_])"
   ]
  },
  {
   "cell_type": "code",
   "execution_count": 41,
   "id": "edde7c3d",
   "metadata": {},
   "outputs": [
    {
     "data": {
      "text/html": [
       "<div>\n",
       "<style scoped>\n",
       "    .dataframe tbody tr th:only-of-type {\n",
       "        vertical-align: middle;\n",
       "    }\n",
       "\n",
       "    .dataframe tbody tr th {\n",
       "        vertical-align: top;\n",
       "    }\n",
       "\n",
       "    .dataframe thead th {\n",
       "        text-align: right;\n",
       "    }\n",
       "</style>\n",
       "<table border=\"1\" class=\"dataframe\">\n",
       "  <thead>\n",
       "    <tr style=\"text-align: right;\">\n",
       "      <th></th>\n",
       "      <th>pvalues</th>\n",
       "      <th>scores</th>\n",
       "      <th>inputs</th>\n",
       "    </tr>\n",
       "  </thead>\n",
       "  <tbody>\n",
       "    <tr>\n",
       "      <th>0</th>\n",
       "      <td>0.0</td>\n",
       "      <td>7131.405852</td>\n",
       "      <td>age</td>\n",
       "    </tr>\n",
       "    <tr>\n",
       "      <th>1</th>\n",
       "      <td>0.0</td>\n",
       "      <td>4072.706875</td>\n",
       "      <td>hypertension</td>\n",
       "    </tr>\n",
       "    <tr>\n",
       "      <th>2</th>\n",
       "      <td>0.0</td>\n",
       "      <td>3038.559564</td>\n",
       "      <td>heart_disease</td>\n",
       "    </tr>\n",
       "    <tr>\n",
       "      <th>3</th>\n",
       "      <td>0.0</td>\n",
       "      <td>4816.113932</td>\n",
       "      <td>bmi</td>\n",
       "    </tr>\n",
       "    <tr>\n",
       "      <th>4</th>\n",
       "      <td>0.0</td>\n",
       "      <td>19122.211184</td>\n",
       "      <td>HbA1c_level</td>\n",
       "    </tr>\n",
       "    <tr>\n",
       "      <th>5</th>\n",
       "      <td>0.0</td>\n",
       "      <td>21363.054361</td>\n",
       "      <td>blood_glucose_level</td>\n",
       "    </tr>\n",
       "  </tbody>\n",
       "</table>\n",
       "</div>"
      ],
      "text/plain": [
       "   pvalues        scores               inputs\n",
       "0      0.0   7131.405852                  age\n",
       "1      0.0   4072.706875         hypertension\n",
       "2      0.0   3038.559564        heart_disease\n",
       "3      0.0   4816.113932                  bmi\n",
       "4      0.0  19122.211184          HbA1c_level\n",
       "5      0.0  21363.054361  blood_glucose_level"
      ]
     },
     "execution_count": 41,
     "metadata": {},
     "output_type": "execute_result"
    }
   ],
   "source": [
    "pvalues_features=pd.DataFrame(fs.pvalues_)\n",
    "scores_features=pd.DataFrame(fs.scores_)\n",
    "features=pd.DataFrame(data.drop(columns=\"diabetes\").select_dtypes(\"number\").fillna(0).columns)\n",
    "feature_score=pd.concat([pvalues_features,scores_features,features],axis=1)\n",
    "feature_score.columns=[\"pvalues\",\"scores\",\"inputs\"]\n",
    "feature_score"
   ]
  },
  {
   "cell_type": "code",
   "execution_count": 42,
   "id": "93d1850f",
   "metadata": {},
   "outputs": [
    {
     "data": {
      "text/html": [
       "<div>\n",
       "<style scoped>\n",
       "    .dataframe tbody tr th:only-of-type {\n",
       "        vertical-align: middle;\n",
       "    }\n",
       "\n",
       "    .dataframe tbody tr th {\n",
       "        vertical-align: top;\n",
       "    }\n",
       "\n",
       "    .dataframe thead th {\n",
       "        text-align: right;\n",
       "    }\n",
       "</style>\n",
       "<table border=\"1\" class=\"dataframe\">\n",
       "  <thead>\n",
       "    <tr style=\"text-align: right;\">\n",
       "      <th></th>\n",
       "      <th>age</th>\n",
       "      <th>hypertension</th>\n",
       "      <th>heart_disease</th>\n",
       "      <th>bmi</th>\n",
       "      <th>HbA1c_level</th>\n",
       "      <th>blood_glucose_level</th>\n",
       "      <th>diabetes</th>\n",
       "      <th>gender_Female</th>\n",
       "      <th>gender_Male</th>\n",
       "      <th>gender_Other</th>\n",
       "      <th>smoking_history_No Info</th>\n",
       "      <th>smoking_history_current</th>\n",
       "      <th>smoking_history_ever</th>\n",
       "      <th>smoking_history_former</th>\n",
       "      <th>smoking_history_never</th>\n",
       "      <th>smoking_history_not current</th>\n",
       "    </tr>\n",
       "  </thead>\n",
       "  <tbody>\n",
       "    <tr>\n",
       "      <th>0</th>\n",
       "      <td>80.0</td>\n",
       "      <td>0</td>\n",
       "      <td>1</td>\n",
       "      <td>25.19</td>\n",
       "      <td>6.6</td>\n",
       "      <td>140</td>\n",
       "      <td>0</td>\n",
       "      <td>1</td>\n",
       "      <td>0</td>\n",
       "      <td>0</td>\n",
       "      <td>0</td>\n",
       "      <td>0</td>\n",
       "      <td>0</td>\n",
       "      <td>0</td>\n",
       "      <td>1</td>\n",
       "      <td>0</td>\n",
       "    </tr>\n",
       "    <tr>\n",
       "      <th>1</th>\n",
       "      <td>54.0</td>\n",
       "      <td>0</td>\n",
       "      <td>0</td>\n",
       "      <td>27.32</td>\n",
       "      <td>6.6</td>\n",
       "      <td>80</td>\n",
       "      <td>0</td>\n",
       "      <td>1</td>\n",
       "      <td>0</td>\n",
       "      <td>0</td>\n",
       "      <td>1</td>\n",
       "      <td>0</td>\n",
       "      <td>0</td>\n",
       "      <td>0</td>\n",
       "      <td>0</td>\n",
       "      <td>0</td>\n",
       "    </tr>\n",
       "    <tr>\n",
       "      <th>2</th>\n",
       "      <td>28.0</td>\n",
       "      <td>0</td>\n",
       "      <td>0</td>\n",
       "      <td>27.32</td>\n",
       "      <td>5.7</td>\n",
       "      <td>158</td>\n",
       "      <td>0</td>\n",
       "      <td>0</td>\n",
       "      <td>1</td>\n",
       "      <td>0</td>\n",
       "      <td>0</td>\n",
       "      <td>0</td>\n",
       "      <td>0</td>\n",
       "      <td>0</td>\n",
       "      <td>1</td>\n",
       "      <td>0</td>\n",
       "    </tr>\n",
       "    <tr>\n",
       "      <th>3</th>\n",
       "      <td>36.0</td>\n",
       "      <td>0</td>\n",
       "      <td>0</td>\n",
       "      <td>23.45</td>\n",
       "      <td>5.0</td>\n",
       "      <td>155</td>\n",
       "      <td>0</td>\n",
       "      <td>1</td>\n",
       "      <td>0</td>\n",
       "      <td>0</td>\n",
       "      <td>0</td>\n",
       "      <td>1</td>\n",
       "      <td>0</td>\n",
       "      <td>0</td>\n",
       "      <td>0</td>\n",
       "      <td>0</td>\n",
       "    </tr>\n",
       "    <tr>\n",
       "      <th>4</th>\n",
       "      <td>76.0</td>\n",
       "      <td>1</td>\n",
       "      <td>1</td>\n",
       "      <td>20.14</td>\n",
       "      <td>4.8</td>\n",
       "      <td>155</td>\n",
       "      <td>0</td>\n",
       "      <td>0</td>\n",
       "      <td>1</td>\n",
       "      <td>0</td>\n",
       "      <td>0</td>\n",
       "      <td>1</td>\n",
       "      <td>0</td>\n",
       "      <td>0</td>\n",
       "      <td>0</td>\n",
       "      <td>0</td>\n",
       "    </tr>\n",
       "    <tr>\n",
       "      <th>...</th>\n",
       "      <td>...</td>\n",
       "      <td>...</td>\n",
       "      <td>...</td>\n",
       "      <td>...</td>\n",
       "      <td>...</td>\n",
       "      <td>...</td>\n",
       "      <td>...</td>\n",
       "      <td>...</td>\n",
       "      <td>...</td>\n",
       "      <td>...</td>\n",
       "      <td>...</td>\n",
       "      <td>...</td>\n",
       "      <td>...</td>\n",
       "      <td>...</td>\n",
       "      <td>...</td>\n",
       "      <td>...</td>\n",
       "    </tr>\n",
       "    <tr>\n",
       "      <th>99995</th>\n",
       "      <td>80.0</td>\n",
       "      <td>0</td>\n",
       "      <td>0</td>\n",
       "      <td>27.32</td>\n",
       "      <td>6.2</td>\n",
       "      <td>90</td>\n",
       "      <td>0</td>\n",
       "      <td>1</td>\n",
       "      <td>0</td>\n",
       "      <td>0</td>\n",
       "      <td>1</td>\n",
       "      <td>0</td>\n",
       "      <td>0</td>\n",
       "      <td>0</td>\n",
       "      <td>0</td>\n",
       "      <td>0</td>\n",
       "    </tr>\n",
       "    <tr>\n",
       "      <th>99996</th>\n",
       "      <td>2.0</td>\n",
       "      <td>0</td>\n",
       "      <td>0</td>\n",
       "      <td>17.37</td>\n",
       "      <td>6.5</td>\n",
       "      <td>100</td>\n",
       "      <td>0</td>\n",
       "      <td>1</td>\n",
       "      <td>0</td>\n",
       "      <td>0</td>\n",
       "      <td>1</td>\n",
       "      <td>0</td>\n",
       "      <td>0</td>\n",
       "      <td>0</td>\n",
       "      <td>0</td>\n",
       "      <td>0</td>\n",
       "    </tr>\n",
       "    <tr>\n",
       "      <th>99997</th>\n",
       "      <td>66.0</td>\n",
       "      <td>0</td>\n",
       "      <td>0</td>\n",
       "      <td>27.83</td>\n",
       "      <td>5.7</td>\n",
       "      <td>155</td>\n",
       "      <td>0</td>\n",
       "      <td>0</td>\n",
       "      <td>1</td>\n",
       "      <td>0</td>\n",
       "      <td>0</td>\n",
       "      <td>0</td>\n",
       "      <td>0</td>\n",
       "      <td>1</td>\n",
       "      <td>0</td>\n",
       "      <td>0</td>\n",
       "    </tr>\n",
       "    <tr>\n",
       "      <th>99998</th>\n",
       "      <td>24.0</td>\n",
       "      <td>0</td>\n",
       "      <td>0</td>\n",
       "      <td>35.42</td>\n",
       "      <td>4.0</td>\n",
       "      <td>100</td>\n",
       "      <td>0</td>\n",
       "      <td>1</td>\n",
       "      <td>0</td>\n",
       "      <td>0</td>\n",
       "      <td>0</td>\n",
       "      <td>0</td>\n",
       "      <td>0</td>\n",
       "      <td>0</td>\n",
       "      <td>1</td>\n",
       "      <td>0</td>\n",
       "    </tr>\n",
       "    <tr>\n",
       "      <th>99999</th>\n",
       "      <td>57.0</td>\n",
       "      <td>0</td>\n",
       "      <td>0</td>\n",
       "      <td>22.43</td>\n",
       "      <td>6.6</td>\n",
       "      <td>90</td>\n",
       "      <td>0</td>\n",
       "      <td>1</td>\n",
       "      <td>0</td>\n",
       "      <td>0</td>\n",
       "      <td>0</td>\n",
       "      <td>1</td>\n",
       "      <td>0</td>\n",
       "      <td>0</td>\n",
       "      <td>0</td>\n",
       "      <td>0</td>\n",
       "    </tr>\n",
       "  </tbody>\n",
       "</table>\n",
       "<p>100000 rows × 16 columns</p>\n",
       "</div>"
      ],
      "text/plain": [
       "        age  hypertension  heart_disease    bmi  HbA1c_level  \\\n",
       "0      80.0             0              1  25.19          6.6   \n",
       "1      54.0             0              0  27.32          6.6   \n",
       "2      28.0             0              0  27.32          5.7   \n",
       "3      36.0             0              0  23.45          5.0   \n",
       "4      76.0             1              1  20.14          4.8   \n",
       "...     ...           ...            ...    ...          ...   \n",
       "99995  80.0             0              0  27.32          6.2   \n",
       "99996   2.0             0              0  17.37          6.5   \n",
       "99997  66.0             0              0  27.83          5.7   \n",
       "99998  24.0             0              0  35.42          4.0   \n",
       "99999  57.0             0              0  22.43          6.6   \n",
       "\n",
       "       blood_glucose_level  diabetes  gender_Female  gender_Male  \\\n",
       "0                      140         0              1            0   \n",
       "1                       80         0              1            0   \n",
       "2                      158         0              0            1   \n",
       "3                      155         0              1            0   \n",
       "4                      155         0              0            1   \n",
       "...                    ...       ...            ...          ...   \n",
       "99995                   90         0              1            0   \n",
       "99996                  100         0              1            0   \n",
       "99997                  155         0              0            1   \n",
       "99998                  100         0              1            0   \n",
       "99999                   90         0              1            0   \n",
       "\n",
       "       gender_Other  smoking_history_No Info  smoking_history_current  \\\n",
       "0                 0                        0                        0   \n",
       "1                 0                        1                        0   \n",
       "2                 0                        0                        0   \n",
       "3                 0                        0                        1   \n",
       "4                 0                        0                        1   \n",
       "...             ...                      ...                      ...   \n",
       "99995             0                        1                        0   \n",
       "99996             0                        1                        0   \n",
       "99997             0                        0                        0   \n",
       "99998             0                        0                        0   \n",
       "99999             0                        0                        1   \n",
       "\n",
       "       smoking_history_ever  smoking_history_former  smoking_history_never  \\\n",
       "0                         0                       0                      1   \n",
       "1                         0                       0                      0   \n",
       "2                         0                       0                      1   \n",
       "3                         0                       0                      0   \n",
       "4                         0                       0                      0   \n",
       "...                     ...                     ...                    ...   \n",
       "99995                     0                       0                      0   \n",
       "99996                     0                       0                      0   \n",
       "99997                     0                       1                      0   \n",
       "99998                     0                       0                      1   \n",
       "99999                     0                       0                      0   \n",
       "\n",
       "       smoking_history_not current  \n",
       "0                                0  \n",
       "1                                0  \n",
       "2                                0  \n",
       "3                                0  \n",
       "4                                0  \n",
       "...                            ...  \n",
       "99995                            0  \n",
       "99996                            0  \n",
       "99997                            0  \n",
       "99998                            0  \n",
       "99999                            0  \n",
       "\n",
       "[100000 rows x 16 columns]"
      ]
     },
     "execution_count": 42,
     "metadata": {},
     "output_type": "execute_result"
    }
   ],
   "source": [
    "data=pd.get_dummies(data,dtype=int)\n",
    "data"
   ]
  },
  {
   "cell_type": "code",
   "execution_count": 43,
   "id": "e2fe6b8c",
   "metadata": {},
   "outputs": [],
   "source": [
    "x=data.drop(\"diabetes\",axis=1)\n",
    "y=data[\"diabetes\"]"
   ]
  },
  {
   "cell_type": "code",
   "execution_count": 44,
   "id": "3226f320",
   "metadata": {},
   "outputs": [],
   "source": [
    "x_train,x_test,y_train,y_test=train_test_split(x,y,test_size=0.3,stratify=y,random_state=42)\n"
   ]
  },
  {
   "cell_type": "code",
   "execution_count": 46,
   "id": "53c8defd",
   "metadata": {},
   "outputs": [
    {
     "data": {
      "text/html": [
       "<style>#sk-container-id-2 {color: black;}#sk-container-id-2 pre{padding: 0;}#sk-container-id-2 div.sk-toggleable {background-color: white;}#sk-container-id-2 label.sk-toggleable__label {cursor: pointer;display: block;width: 100%;margin-bottom: 0;padding: 0.3em;box-sizing: border-box;text-align: center;}#sk-container-id-2 label.sk-toggleable__label-arrow:before {content: \"▸\";float: left;margin-right: 0.25em;color: #696969;}#sk-container-id-2 label.sk-toggleable__label-arrow:hover:before {color: black;}#sk-container-id-2 div.sk-estimator:hover label.sk-toggleable__label-arrow:before {color: black;}#sk-container-id-2 div.sk-toggleable__content {max-height: 0;max-width: 0;overflow: hidden;text-align: left;background-color: #f0f8ff;}#sk-container-id-2 div.sk-toggleable__content pre {margin: 0.2em;color: black;border-radius: 0.25em;background-color: #f0f8ff;}#sk-container-id-2 input.sk-toggleable__control:checked~div.sk-toggleable__content {max-height: 200px;max-width: 100%;overflow: auto;}#sk-container-id-2 input.sk-toggleable__control:checked~label.sk-toggleable__label-arrow:before {content: \"▾\";}#sk-container-id-2 div.sk-estimator input.sk-toggleable__control:checked~label.sk-toggleable__label {background-color: #d4ebff;}#sk-container-id-2 div.sk-label input.sk-toggleable__control:checked~label.sk-toggleable__label {background-color: #d4ebff;}#sk-container-id-2 input.sk-hidden--visually {border: 0;clip: rect(1px 1px 1px 1px);clip: rect(1px, 1px, 1px, 1px);height: 1px;margin: -1px;overflow: hidden;padding: 0;position: absolute;width: 1px;}#sk-container-id-2 div.sk-estimator {font-family: monospace;background-color: #f0f8ff;border: 1px dotted black;border-radius: 0.25em;box-sizing: border-box;margin-bottom: 0.5em;}#sk-container-id-2 div.sk-estimator:hover {background-color: #d4ebff;}#sk-container-id-2 div.sk-parallel-item::after {content: \"\";width: 100%;border-bottom: 1px solid gray;flex-grow: 1;}#sk-container-id-2 div.sk-label:hover label.sk-toggleable__label {background-color: #d4ebff;}#sk-container-id-2 div.sk-serial::before {content: \"\";position: absolute;border-left: 1px solid gray;box-sizing: border-box;top: 0;bottom: 0;left: 50%;z-index: 0;}#sk-container-id-2 div.sk-serial {display: flex;flex-direction: column;align-items: center;background-color: white;padding-right: 0.2em;padding-left: 0.2em;position: relative;}#sk-container-id-2 div.sk-item {position: relative;z-index: 1;}#sk-container-id-2 div.sk-parallel {display: flex;align-items: stretch;justify-content: center;background-color: white;position: relative;}#sk-container-id-2 div.sk-item::before, #sk-container-id-2 div.sk-parallel-item::before {content: \"\";position: absolute;border-left: 1px solid gray;box-sizing: border-box;top: 0;bottom: 0;left: 50%;z-index: -1;}#sk-container-id-2 div.sk-parallel-item {display: flex;flex-direction: column;z-index: 1;position: relative;background-color: white;}#sk-container-id-2 div.sk-parallel-item:first-child::after {align-self: flex-end;width: 50%;}#sk-container-id-2 div.sk-parallel-item:last-child::after {align-self: flex-start;width: 50%;}#sk-container-id-2 div.sk-parallel-item:only-child::after {width: 0;}#sk-container-id-2 div.sk-dashed-wrapped {border: 1px dashed gray;margin: 0 0.4em 0.5em 0.4em;box-sizing: border-box;padding-bottom: 0.4em;background-color: white;}#sk-container-id-2 div.sk-label label {font-family: monospace;font-weight: bold;display: inline-block;line-height: 1.2em;}#sk-container-id-2 div.sk-label-container {text-align: center;}#sk-container-id-2 div.sk-container {/* jupyter's `normalize.less` sets `[hidden] { display: none; }` but bootstrap.min.css set `[hidden] { display: none !important; }` so we also need the `!important` here to be able to override the default hidden behavior on the sphinx rendered scikit-learn.org. See: https://github.com/scikit-learn/scikit-learn/issues/21755 */display: inline-block !important;position: relative;}#sk-container-id-2 div.sk-text-repr-fallback {display: none;}</style><div id=\"sk-container-id-2\" class=\"sk-top-container\"><div class=\"sk-text-repr-fallback\"><pre>DecisionTreeClassifier(max_depth=5, random_state=42)</pre><b>In a Jupyter environment, please rerun this cell to show the HTML representation or trust the notebook. <br />On GitHub, the HTML representation is unable to render, please try loading this page with nbviewer.org.</b></div><div class=\"sk-container\" hidden><div class=\"sk-item\"><div class=\"sk-estimator sk-toggleable\"><input class=\"sk-toggleable__control sk-hidden--visually\" id=\"sk-estimator-id-2\" type=\"checkbox\" checked><label for=\"sk-estimator-id-2\" class=\"sk-toggleable__label sk-toggleable__label-arrow\">DecisionTreeClassifier</label><div class=\"sk-toggleable__content\"><pre>DecisionTreeClassifier(max_depth=5, random_state=42)</pre></div></div></div></div></div>"
      ],
      "text/plain": [
       "DecisionTreeClassifier(max_depth=5, random_state=42)"
      ]
     },
     "execution_count": 46,
     "metadata": {},
     "output_type": "execute_result"
    }
   ],
   "source": [
    "from sklearn import tree\n",
    "\n",
    "model=tree.DecisionTreeClassifier(max_depth=5,random_state=42)\n",
    "model.fit(x_train,y_train)"
   ]
  },
  {
   "cell_type": "code",
   "execution_count": 47,
   "id": "c0ebdf09",
   "metadata": {},
   "outputs": [
    {
     "name": "stdout",
     "output_type": "stream",
     "text": [
      "accuracy=97.24%\n"
     ]
    }
   ],
   "source": [
    "print(f\"accuracy={model.score(x_test,y_test)*100:0.2f}%\")"
   ]
  },
  {
   "cell_type": "code",
   "execution_count": 48,
   "id": "85c1f885",
   "metadata": {},
   "outputs": [
    {
     "name": "stdout",
     "output_type": "stream",
     "text": [
      "|--- feature_4 <= 6.70\n",
      "|   |--- feature_5 <= 210.00\n",
      "|   |   |--- feature_0 <= 53.50\n",
      "|   |   |   |--- feature_3 <= 32.69\n",
      "|   |   |   |   |--- feature_1 <= 0.50\n",
      "|   |   |   |   |   |--- class: 0\n",
      "|   |   |   |   |--- feature_1 >  0.50\n",
      "|   |   |   |   |   |--- class: 0\n",
      "|   |   |   |--- feature_3 >  32.69\n",
      "|   |   |   |   |--- feature_4 <= 5.35\n",
      "|   |   |   |   |   |--- class: 0\n",
      "|   |   |   |   |--- feature_4 >  5.35\n",
      "|   |   |   |   |   |--- class: 0\n",
      "|   |   |--- feature_0 >  53.50\n",
      "|   |   |   |--- feature_4 <= 5.35\n",
      "|   |   |   |   |--- class: 0\n",
      "|   |   |   |--- feature_4 >  5.35\n",
      "|   |   |   |   |--- feature_5 <= 113.00\n",
      "|   |   |   |   |   |--- class: 0\n",
      "|   |   |   |   |--- feature_5 >  113.00\n",
      "|   |   |   |   |   |--- class: 0\n",
      "|   |--- feature_5 >  210.00\n",
      "|   |   |--- class: 1\n",
      "|--- feature_4 >  6.70\n",
      "|   |--- class: 1\n",
      "\n"
     ]
    }
   ],
   "source": [
    "text_represention=tree.export_text(model)\n",
    "print(text_represention)"
   ]
  },
  {
   "cell_type": "code",
   "execution_count": 49,
   "id": "c8860cab",
   "metadata": {},
   "outputs": [
    {
     "data": {
      "image/png": "[encoded data removed]",
      "text/plain": [
       "<Figure size 1000x1000 with 1 Axes>"
      ]
     },
     "metadata": {},
     "output_type": "display_data"
    }
   ],
   "source": [
    "plt.figure(figsize=(10,10))\n",
    "tree.plot_tree(model,max_depth=5)\n",
    "plt.show()"
   ]
  },
  {
   "cell_type": "code",
   "execution_count": null,
   "id": "8d53fb81",
   "metadata": {},
   "outputs": [],
   "source": [
    "# Here is the End Project"
   ]
  }
 ],
 "metadata": {
  "kernelspec": {
   "display_name": "Python 3 (ipykernel)",
   "language": "python",
   "name": "python3"
  },
  "language_info": {
   "codemirror_mode": {
    "name": "ipython",
    "version": 3
   },
   "file_extension": ".py",
   "mimetype": "text/x-python",
   "name": "python",
   "nbconvert_exporter": "python",
   "pygments_lexer": "ipython3",
   "version": "3.8.10"
  }
 },
 "nbformat": 4,
 "nbformat_minor": 5
}
