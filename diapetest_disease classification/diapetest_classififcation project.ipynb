{
 "cells": [
  {
   "cell_type": "code",
   "execution_count": 1,
   "id": "4436bcab",
   "metadata": {},
   "outputs": [
    {
     "ename": "ModuleNotFoundError",
     "evalue": "No module named 'pandas.core.groupby'",
     "output_type": "error",
     "traceback": [
      "\u001b[1;31m---------------------------------------------------------------------------\u001b[0m",
      "\u001b[1;31mModuleNotFoundError\u001b[0m                       Traceback (most recent call last)",
      "\u001b[1;32m~\\AppData\\Local\\Temp\\ipykernel_6464\\413005889.py\u001b[0m in \u001b[0;36m<module>\u001b[1;34m\u001b[0m\n\u001b[0;32m      1\u001b[0m \u001b[1;31m# imports:\u001b[0m\u001b[1;33m\u001b[0m\u001b[1;33m\u001b[0m\u001b[0m\n\u001b[1;32m----> 2\u001b[1;33m \u001b[1;32mimport\u001b[0m \u001b[0mpandas\u001b[0m \u001b[1;32mas\u001b[0m \u001b[0mpd\u001b[0m\u001b[1;33m\u001b[0m\u001b[1;33m\u001b[0m\u001b[0m\n\u001b[0m\u001b[0;32m      3\u001b[0m \u001b[1;33m\u001b[0m\u001b[0m\n\u001b[0;32m      4\u001b[0m \u001b[1;32mimport\u001b[0m \u001b[0mnumpy\u001b[0m \u001b[1;32mas\u001b[0m \u001b[0mnp\u001b[0m\u001b[1;33m\u001b[0m\u001b[1;33m\u001b[0m\u001b[0m\n\u001b[0;32m      5\u001b[0m \u001b[1;33m\u001b[0m\u001b[0m\n",
      "\u001b[1;32mG:\\Jupter\\lib\\site-packages\\pandas\\__init__.py\u001b[0m in \u001b[0;36m<module>\u001b[1;34m\u001b[0m\n\u001b[0;32m     71\u001b[0m \u001b[1;32mimport\u001b[0m \u001b[0mpandas\u001b[0m\u001b[1;33m.\u001b[0m\u001b[0mcore\u001b[0m\u001b[1;33m.\u001b[0m\u001b[0mconfig_init\u001b[0m  \u001b[1;31m# pyright: ignore[reportUnusedImport] # noqa: F401\u001b[0m\u001b[1;33m\u001b[0m\u001b[1;33m\u001b[0m\u001b[0m\n\u001b[0;32m     72\u001b[0m \u001b[1;33m\u001b[0m\u001b[0m\n\u001b[1;32m---> 73\u001b[1;33m from pandas.core.api import (\n\u001b[0m\u001b[0;32m     74\u001b[0m     \u001b[1;31m# dtype\u001b[0m\u001b[1;33m\u001b[0m\u001b[1;33m\u001b[0m\u001b[0m\n\u001b[0;32m     75\u001b[0m     \u001b[0mArrowDtype\u001b[0m\u001b[1;33m,\u001b[0m\u001b[1;33m\u001b[0m\u001b[1;33m\u001b[0m\u001b[0m\n",
      "\u001b[1;32mG:\\Jupter\\lib\\site-packages\\pandas\\core\\api.py\u001b[0m in \u001b[0;36m<module>\u001b[1;34m\u001b[0m\n\u001b[0;32m     45\u001b[0m \u001b[1;32mfrom\u001b[0m \u001b[0mpandas\u001b[0m\u001b[1;33m.\u001b[0m\u001b[0mcore\u001b[0m\u001b[1;33m.\u001b[0m\u001b[0mconstruction\u001b[0m \u001b[1;32mimport\u001b[0m \u001b[0marray\u001b[0m\u001b[1;33m\u001b[0m\u001b[1;33m\u001b[0m\u001b[0m\n\u001b[0;32m     46\u001b[0m \u001b[1;32mfrom\u001b[0m \u001b[0mpandas\u001b[0m\u001b[1;33m.\u001b[0m\u001b[0mcore\u001b[0m\u001b[1;33m.\u001b[0m\u001b[0mflags\u001b[0m \u001b[1;32mimport\u001b[0m \u001b[0mFlags\u001b[0m\u001b[1;33m\u001b[0m\u001b[1;33m\u001b[0m\u001b[0m\n\u001b[1;32m---> 47\u001b[1;33m from pandas.core.groupby import (\n\u001b[0m\u001b[0;32m     48\u001b[0m     \u001b[0mGrouper\u001b[0m\u001b[1;33m,\u001b[0m\u001b[1;33m\u001b[0m\u001b[1;33m\u001b[0m\u001b[0m\n\u001b[0;32m     49\u001b[0m     \u001b[0mNamedAgg\u001b[0m\u001b[1;33m,\u001b[0m\u001b[1;33m\u001b[0m\u001b[1;33m\u001b[0m\u001b[0m\n",
      "\u001b[1;31mModuleNotFoundError\u001b[0m: No module named 'pandas.core.groupby'"
     ]
    }
   ],
   "source": [
    "# imports:\n",
    "import pandas as pd\n",
    "\n",
    "import numpy as np\n",
    "\n",
    "import seaborn as sns\n",
    "\n",
    "import matplotlib.pyplot as plt\n",
    "\n",
    "from sklearn.feature_selection import SelectKBest ,f_classif ,VarianceThreshold\n",
    "\n",
    "from sklearn.model_selection import train_test_split\n",
    "\n",
    "from sklearn.base import TransformerMixin , BaseEstimator\n",
    "\n",
    "from sklearn.impute import SimpleImputer\n",
    "\n",
    "from sklearn import tree"
   ]
  },
  {
   "cell_type": "code",
   "execution_count": null,
   "id": "d7c62cea",
   "metadata": {},
   "outputs": [],
   "source": [
    "data=pd.read_csv(\"diabetes_prediction_dataset.csv\")\n",
    "data.head()"
   ]
  },
  {
   "cell_type": "code",
   "execution_count": null,
   "id": "c361d94c",
   "metadata": {},
   "outputs": [],
   "source": [
    "data.info()"
   ]
  },
  {
   "cell_type": "code",
   "execution_count": 2,
   "id": "606998bc",
   "metadata": {},
   "outputs": [
    {
     "ename": "NameError",
     "evalue": "name 'data' is not defined",
     "output_type": "error",
     "traceback": [
      "\u001b[1;31m---------------------------------------------------------------------------\u001b[0m",
      "\u001b[1;31mNameError\u001b[0m                                 Traceback (most recent call last)",
      "\u001b[1;32m~\\AppData\\Local\\Temp\\ipykernel_6464\\3175101911.py\u001b[0m in \u001b[0;36m<module>\u001b[1;34m\u001b[0m\n\u001b[1;32m----> 1\u001b[1;33m \u001b[0mdata\u001b[0m\u001b[1;33m.\u001b[0m\u001b[0mdescribe\u001b[0m\u001b[1;33m(\u001b[0m\u001b[1;33m)\u001b[0m\u001b[1;33m\u001b[0m\u001b[1;33m\u001b[0m\u001b[0m\n\u001b[0m",
      "\u001b[1;31mNameError\u001b[0m: name 'data' is not defined"
     ]
    }
   ],
   "source": [
    "data.describe()"
   ]
  },
  {
   "cell_type": "code",
   "execution_count": null,
   "id": "6e78e179",
   "metadata": {},
   "outputs": [
    {
     "data": {
      "text/html": [
       "<div>\n",
       "<style scoped>\n",
       "    .dataframe tbody tr th:only-of-type {\n",
       "        vertical-align: middle;\n",
       "    }\n",
       "\n",
       "    .dataframe tbody tr th {\n",
       "        vertical-align: top;\n",
       "    }\n",
       "\n",
       "    .dataframe thead th {\n",
       "        text-align: right;\n",
       "    }\n",
       "</style>\n",
       "<table border=\"1\" class=\"dataframe\">\n",
       "  <thead>\n",
       "    <tr style=\"text-align: right;\">\n",
       "      <th></th>\n",
       "      <th>gender</th>\n",
       "      <th>smoking_history</th>\n",
       "    </tr>\n",
       "  </thead>\n",
       "  <tbody>\n",
       "    <tr>\n",
       "      <th>count</th>\n",
       "      <td>100000</td>\n",
       "      <td>100000</td>\n",
       "    </tr>\n",
       "    <tr>\n",
       "      <th>unique</th>\n",
       "      <td>3</td>\n",
       "      <td>6</td>\n",
       "    </tr>\n",
       "    <tr>\n",
       "      <th>top</th>\n",
       "      <td>Female</td>\n",
       "      <td>No Info</td>\n",
       "    </tr>\n",
       "    <tr>\n",
       "      <th>freq</th>\n",
       "      <td>58552</td>\n",
       "      <td>35816</td>\n",
       "    </tr>\n",
       "  </tbody>\n",
       "</table>\n",
       "</div>"
      ],
      "text/plain": [
       "        gender smoking_history\n",
       "count   100000          100000\n",
       "unique       3               6\n",
       "top     Female         No Info\n",
       "freq     58552           35816"
      ]
     },
     "execution_count": 5,
     "metadata": {},
     "output_type": "execute_result"
    }
   ],
   "source": [
    "data.describe(include=[\"O\"])"
   ]
  },
  {
   "cell_type": "code",
   "execution_count": null,
   "id": "55dcb6d8",
   "metadata": {},
   "outputs": [
    {
     "data": {
      "text/plain": [
       "Index(['hypertension', 'heart_disease', 'blood_glucose_level', 'diabetes'], dtype='object')"
      ]
     },
     "execution_count": 6,
     "metadata": {},
     "output_type": "execute_result"
    }
   ],
   "source": [
    "integar=data.select_dtypes(include=[\"int64\"]).columns\n",
    "integar"
   ]
  },
  {
   "cell_type": "code",
   "execution_count": null,
   "id": "9e922155",
   "metadata": {},
   "outputs": [
    {
     "data": {
      "text/plain": [
       "Index(['age', 'bmi', 'HbA1c_level'], dtype='object')"
      ]
     },
     "execution_count": 7,
     "metadata": {},
     "output_type": "execute_result"
    }
   ],
   "source": [
    "continous=data.select_dtypes(include=[\"float64\"]).columns\n",
    "continous"
   ]
  },
  {
   "cell_type": "code",
   "execution_count": null,
   "id": "e3a4e110",
   "metadata": {},
   "outputs": [
    {
     "data": {
      "text/plain": [
       "Index(['gender', 'smoking_history'], dtype='object')"
      ]
     },
     "execution_count": 8,
     "metadata": {},
     "output_type": "execute_result"
    }
   ],
   "source": [
    "objected=data.select_dtypes(\"object\").columns\n",
    "objected"
   ]
  },
  {
   "cell_type": "code",
   "execution_count": null,
   "id": "04f221f7",
   "metadata": {},
   "outputs": [
    {
     "data": {
      "text/plain": [
       "<AxesSubplot:xlabel='gender'>"
      ]
     },
     "execution_count": 9,
     "metadata": {},
     "output_type": "execute_result"
    },
    {
     "data": {
      "image/png": "[encoded data removed]",
      "text/plain": [
       "<Figure size 640x480 with 1 Axes>"
      ]
     },
     "metadata": {},
     "output_type": "display_data"
    }
   ],
   "source": [
    "data.groupby([\"gender\"])[\"heart_disease\"].mean().sort_values(ascending=False).plot(kind=\"bar\",legend=True)"
   ]
  },
  {
   "cell_type": "code",
   "execution_count": null,
   "id": "4e48ffdd",
   "metadata": {},
   "outputs": [
    {
     "data": {
      "text/plain": [
       "<AxesSubplot:xlabel='gender'>"
      ]
     },
     "execution_count": 10,
     "metadata": {},
     "output_type": "execute_result"
    },
    {
     "data": {
      "image/png": "[encoded data removed]",
      "text/plain": [
       "<Figure size 640x480 with 1 Axes>"
      ]
     },
     "metadata": {},
     "output_type": "display_data"
    }
   ],
   "source": [
    "data.groupby([\"gender\"])[\"diabetes\"].mean().sort_values(ascending=False).plot(kind=\"bar\",legend=True)"
   ]
  },
  {
   "cell_type": "code",
   "execution_count": null,
   "id": "82bb1159",
   "metadata": {},
   "outputs": [
    {
     "data": {
      "text/plain": [
       "<AxesSubplot:xlabel='age', ylabel='Density'>"
      ]
     },
     "execution_count": 11,
     "metadata": {},
     "output_type": "execute_result"
    },
    {
     "data": {
      "image/png": "[encoded data removed]",
      "text/plain": [
       "<Figure size 640x480 with 1 Axes>"
      ]
     },
     "metadata": {},
     "output_type": "display_data"
    }
   ],
   "source": [
    "sns.kdeplot(data[\"age\"],shade=True)"
   ]
  },
  {
   "cell_type": "code",
   "execution_count": null,
   "id": "d1540737",
   "metadata": {},
   "outputs": [
    {
     "data": {
      "text/plain": [
       "<AxesSubplot:ylabel='diabetes'>"
      ]
     },
     "execution_count": 12,
     "metadata": {},
     "output_type": "execute_result"
    },
    {
     "data": {
      "image/png": "[encoded data removed]",
      "text/plain": [
       "<Figure size 640x480 with 1 Axes>"
      ]
     },
     "metadata": {},
     "output_type": "display_data"
    }
   ],
   "source": [
    "data.groupby([\"smoking_history\"])[\"diabetes\"].mean().sort_values(ascending=False).plot(kind=\"pie\",legend=True)"
   ]
  },
  {
   "cell_type": "code",
   "execution_count": null,
   "id": "ccdcd6cd",
   "metadata": {},
   "outputs": [
    {
     "data": {
      "text/plain": [
       "<AxesSubplot:xlabel='gender'>"
      ]
     },
     "execution_count": 13,
     "metadata": {},
     "output_type": "execute_result"
    },
    {
     "data": {
      "image/png": "[encoded data removed]",
      "text/plain": [
       "<Figure size 640x480 with 1 Axes>"
      ]
     },
     "metadata": {},
     "output_type": "display_data"
    }
   ],
   "source": [
    "data.groupby([\"gender\"])[\"bmi\"].mean().sort_values(ascending=False).plot(kind=\"bar\",legend=True)"
   ]
  },
  {
   "cell_type": "code",
   "execution_count": null,
   "id": "91c85c4e",
   "metadata": {},
   "outputs": [
    {
     "data": {
      "text/plain": [
       "Female    58552\n",
       "Male      41430\n",
       "Other        18\n",
       "Name: gender, dtype: int64"
      ]
     },
     "execution_count": 14,
     "metadata": {},
     "output_type": "execute_result"
    }
   ],
   "source": [
    "data[\"gender\"].value_counts()"
   ]
  },
  {
   "cell_type": "code",
   "execution_count": null,
   "id": "5458b48f",
   "metadata": {},
   "outputs": [
    {
     "data": {
      "text/plain": [
       "No Info        35816\n",
       "never          35095\n",
       "former          9352\n",
       "current         9286\n",
       "not current     6447\n",
       "ever            4004\n",
       "Name: smoking_history, dtype: int64"
      ]
     },
     "execution_count": 15,
     "metadata": {},
     "output_type": "execute_result"
    }
   ],
   "source": [
    "data[\"smoking_history\"].value_counts()"
   ]
  },
  {
   "cell_type": "code",
   "execution_count": null,
   "id": "11846e44",
   "metadata": {},
   "outputs": [
    {
     "data": {
      "text/plain": [
       "0    91500\n",
       "1     8500\n",
       "Name: diabetes, dtype: int64"
      ]
     },
     "execution_count": 16,
     "metadata": {},
     "output_type": "execute_result"
    }
   ],
   "source": [
    "data[\"diabetes\"].value_counts()"
   ]
  },
  {
   "cell_type": "code",
   "execution_count": 5,
   "id": "0feff004",
   "metadata": {},
   "outputs": [
    {
     "ename": "NameError",
     "evalue": "name 'sns' is not defined",
     "output_type": "error",
     "traceback": [
      "\u001b[1;31m---------------------------------------------------------------------------\u001b[0m",
      "\u001b[1;31mNameError\u001b[0m                                 Traceback (most recent call last)",
      "Cell \u001b[1;32mIn[5], line 1\u001b[0m\n\u001b[1;32m----> 1\u001b[0m \u001b[43msns\u001b[49m\u001b[38;5;241m.\u001b[39mdistplot(data[\u001b[38;5;124m\"\u001b[39m\u001b[38;5;124mdiabetes\u001b[39m\u001b[38;5;124m\"\u001b[39m],color\u001b[38;5;241m=\u001b[39m\u001b[38;5;124m\"\u001b[39m\u001b[38;5;124mg\u001b[39m\u001b[38;5;124m\"\u001b[39m)\n",
      "\u001b[1;31mNameError\u001b[0m: name 'sns' is not defined"
     ]
    }
   ],
   "source": [
    "sns.distplot(data[\"diabetes\"],color=\"g\")"
   ]
  },
  {
   "cell_type": "code",
   "execution_count": null,
   "id": "e9da4100",
   "metadata": {},
   "outputs": [
    {
     "data": {
      "text/plain": [
       "gender                 0.0\n",
       "age                    0.0\n",
       "hypertension           0.0\n",
       "heart_disease          0.0\n",
       "smoking_history        0.0\n",
       "bmi                    0.0\n",
       "HbA1c_level            0.0\n",
       "blood_glucose_level    0.0\n",
       "diabetes               0.0\n",
       "dtype: float64"
      ]
     },
     "execution_count": 20,
     "metadata": {},
     "output_type": "execute_result"
    }
   ],
   "source": [
    "data.isna().mean()"
   ]
  },
  {
   "cell_type": "code",
   "execution_count": null,
   "id": "2e152c3f",
   "metadata": {},
   "outputs": [
    {
     "data": {
      "text/plain": [
       "array([[80., 54., 28., ..., 66., 24., 57.]])"
      ]
     },
     "execution_count": 21,
     "metadata": {},
     "output_type": "execute_result"
    }
   ],
   "source": [
    "from sklearn.impute import SimpleImputer\n",
    "impute=SimpleImputer(strategy=\"median\")\n",
    "impute.fit_transform(data[\"age\"].values.reshape(1,-1))"
   ]
  },
  {
   "cell_type": "code",
   "execution_count": null,
   "id": "6abf67d3",
   "metadata": {},
   "outputs": [
    {
     "data": {
      "text/plain": [
       "gender                 0\n",
       "age                    0\n",
       "hypertension           0\n",
       "heart_disease          0\n",
       "smoking_history        0\n",
       "bmi                    0\n",
       "HbA1c_level            0\n",
       "blood_glucose_level    0\n",
       "diabetes               0\n",
       "dtype: int64"
      ]
     },
     "execution_count": 38,
     "metadata": {},
     "output_type": "execute_result"
    }
   ],
   "source": [
    "data.isna().sum()"
   ]
  },
  {
   "cell_type": "code",
   "execution_count": null,
   "id": "1923b8cb",
   "metadata": {},
   "outputs": [
    {
     "data": {
      "text/html": [
       "<div>\n",
       "<style scoped>\n",
       "    .dataframe tbody tr th:only-of-type {\n",
       "        vertical-align: middle;\n",
       "    }\n",
       "\n",
       "    .dataframe tbody tr th {\n",
       "        vertical-align: top;\n",
       "    }\n",
       "\n",
       "    .dataframe thead th {\n",
       "        text-align: right;\n",
       "    }\n",
       "</style>\n",
       "<table border=\"1\" class=\"dataframe\">\n",
       "  <thead>\n",
       "    <tr style=\"text-align: right;\">\n",
       "      <th></th>\n",
       "      <th>age</th>\n",
       "      <th>hypertension</th>\n",
       "      <th>heart_disease</th>\n",
       "      <th>bmi</th>\n",
       "      <th>HbA1c_level</th>\n",
       "      <th>blood_glucose_level</th>\n",
       "      <th>diabetes</th>\n",
       "    </tr>\n",
       "  </thead>\n",
       "  <tbody>\n",
       "    <tr>\n",
       "      <th>count</th>\n",
       "      <td>100000.000000</td>\n",
       "      <td>100000.00000</td>\n",
       "      <td>100000.000000</td>\n",
       "      <td>100000.000000</td>\n",
       "      <td>100000.000000</td>\n",
       "      <td>100000.000000</td>\n",
       "      <td>100000.000000</td>\n",
       "    </tr>\n",
       "    <tr>\n",
       "      <th>mean</th>\n",
       "      <td>41.885856</td>\n",
       "      <td>0.07485</td>\n",
       "      <td>0.039420</td>\n",
       "      <td>27.320767</td>\n",
       "      <td>5.527507</td>\n",
       "      <td>138.058060</td>\n",
       "      <td>0.085000</td>\n",
       "    </tr>\n",
       "    <tr>\n",
       "      <th>std</th>\n",
       "      <td>22.516840</td>\n",
       "      <td>0.26315</td>\n",
       "      <td>0.194593</td>\n",
       "      <td>6.636783</td>\n",
       "      <td>1.070672</td>\n",
       "      <td>40.708136</td>\n",
       "      <td>0.278883</td>\n",
       "    </tr>\n",
       "    <tr>\n",
       "      <th>min</th>\n",
       "      <td>0.080000</td>\n",
       "      <td>0.00000</td>\n",
       "      <td>0.000000</td>\n",
       "      <td>10.010000</td>\n",
       "      <td>3.500000</td>\n",
       "      <td>80.000000</td>\n",
       "      <td>0.000000</td>\n",
       "    </tr>\n",
       "    <tr>\n",
       "      <th>25%</th>\n",
       "      <td>24.000000</td>\n",
       "      <td>0.00000</td>\n",
       "      <td>0.000000</td>\n",
       "      <td>23.630000</td>\n",
       "      <td>4.800000</td>\n",
       "      <td>100.000000</td>\n",
       "      <td>0.000000</td>\n",
       "    </tr>\n",
       "    <tr>\n",
       "      <th>50%</th>\n",
       "      <td>43.000000</td>\n",
       "      <td>0.00000</td>\n",
       "      <td>0.000000</td>\n",
       "      <td>27.320000</td>\n",
       "      <td>5.800000</td>\n",
       "      <td>140.000000</td>\n",
       "      <td>0.000000</td>\n",
       "    </tr>\n",
       "    <tr>\n",
       "      <th>75%</th>\n",
       "      <td>60.000000</td>\n",
       "      <td>0.00000</td>\n",
       "      <td>0.000000</td>\n",
       "      <td>29.580000</td>\n",
       "      <td>6.200000</td>\n",
       "      <td>159.000000</td>\n",
       "      <td>0.000000</td>\n",
       "    </tr>\n",
       "    <tr>\n",
       "      <th>max</th>\n",
       "      <td>80.000000</td>\n",
       "      <td>1.00000</td>\n",
       "      <td>1.000000</td>\n",
       "      <td>95.690000</td>\n",
       "      <td>9.000000</td>\n",
       "      <td>300.000000</td>\n",
       "      <td>1.000000</td>\n",
       "    </tr>\n",
       "  </tbody>\n",
       "</table>\n",
       "</div>"
      ],
      "text/plain": [
       "                 age  hypertension  heart_disease            bmi  \\\n",
       "count  100000.000000  100000.00000  100000.000000  100000.000000   \n",
       "mean       41.885856       0.07485       0.039420      27.320767   \n",
       "std        22.516840       0.26315       0.194593       6.636783   \n",
       "min         0.080000       0.00000       0.000000      10.010000   \n",
       "25%        24.000000       0.00000       0.000000      23.630000   \n",
       "50%        43.000000       0.00000       0.000000      27.320000   \n",
       "75%        60.000000       0.00000       0.000000      29.580000   \n",
       "max        80.000000       1.00000       1.000000      95.690000   \n",
       "\n",
       "         HbA1c_level  blood_glucose_level       diabetes  \n",
       "count  100000.000000        100000.000000  100000.000000  \n",
       "mean        5.527507           138.058060       0.085000  \n",
       "std         1.070672            40.708136       0.278883  \n",
       "min         3.500000            80.000000       0.000000  \n",
       "25%         4.800000           100.000000       0.000000  \n",
       "50%         5.800000           140.000000       0.000000  \n",
       "75%         6.200000           159.000000       0.000000  \n",
       "max         9.000000           300.000000       1.000000  "
      ]
     },
     "execution_count": 19,
     "metadata": {},
     "output_type": "execute_result"
    }
   ],
   "source": [
    "data.describe()"
   ]
  },
  {
   "cell_type": "code",
   "execution_count": null,
   "id": "1d64c6cc",
   "metadata": {},
   "outputs": [
    {
     "data": {
      "text/plain": [
       "<AxesSubplot:xlabel='age'>"
      ]
     },
     "execution_count": 20,
     "metadata": {},
     "output_type": "execute_result"
    },
    {
     "data": {
      "image/png": "[encoded data removed]",
      "text/plain": [
       "<Figure size 640x480 with 1 Axes>"
      ]
     },
     "metadata": {},
     "output_type": "display_data"
    }
   ],
   "source": [
    "# from pervious statistical step we find that predicted there outlier in blood_glucose_level,age\n",
    "\n",
    "# 1- age:-\n",
    "\n",
    "sns.boxplot(x=data[\"age\"])\n",
    "\n",
    "# ther are Not outlier in Age:-\n"
   ]
  },
  {
   "cell_type": "code",
   "execution_count": null,
   "id": "d47a40b8",
   "metadata": {},
   "outputs": [
    {
     "data": {
      "text/plain": [
       "<AxesSubplot:xlabel='age'>"
      ]
     },
     "execution_count": 21,
     "metadata": {},
     "output_type": "execute_result"
    },
    {
     "data": {
      "image/png": "[encoded data removed]",
      "text/plain": [
       "<Figure size 640x480 with 1 Axes>"
      ]
     },
     "metadata": {},
     "output_type": "display_data"
    }
   ],
   "source": [
    "sns.scatterplot(x=data[\"age\"],y=np.zeros_like(data[\"age\"]))"
   ]
  },
  {
   "cell_type": "code",
   "execution_count": null,
   "id": "2262fc7f",
   "metadata": {},
   "outputs": [
    {
     "data": {
      "text/plain": [
       "<AxesSubplot:xlabel='blood_glucose_level'>"
      ]
     },
     "execution_count": 22,
     "metadata": {},
     "output_type": "execute_result"
    },
    {
     "data": {
      "image/png": "[encoded data removed]",
      "text/plain": [
       "<Figure size 640x480 with 1 Axes>"
      ]
     },
     "metadata": {},
     "output_type": "display_data"
    }
   ],
   "source": [
    "#2- blood_glucose_level:-\n",
    "\n",
    "sns.boxplot(x=data[\"blood_glucose_level\"])\n",
    "\n",
    "# ther then outlier"
   ]
  },
  {
   "cell_type": "code",
   "execution_count": null,
   "id": "ee35a359",
   "metadata": {},
   "outputs": [
    {
     "data": {
      "text/plain": [
       "<AxesSubplot:xlabel='blood_glucose_level'>"
      ]
     },
     "execution_count": 23,
     "metadata": {},
     "output_type": "execute_result"
    },
    {
     "data": {
      "image/png": "[encoded data removed]",
      "text/plain": [
       "<Figure size 640x480 with 1 Axes>"
      ]
     },
     "metadata": {},
     "output_type": "display_data"
    }
   ],
   "source": [
    "sns.scatterplot(x=data[\"blood_glucose_level\"],y=np.zeros_like(data[\"blood_glucose_level\"]))"
   ]
  },
  {
   "cell_type": "code",
   "execution_count": null,
   "id": "381abb19",
   "metadata": {},
   "outputs": [],
   "source": [
    "# calc the outlier for blood_glucose_level:\n",
    "\n",
    "Q1,Q3=data[\"blood_glucose_level\"].quantile([0.25,0.75])\n",
    "\n",
    "IQR=Q3-Q1\n",
    "\n",
    "low_limit=Q1-1.5*IQR\n",
    "upper_limit=Q3+1.5*IQR\n",
    "\n",
    "outlier=[]\n",
    "\n",
    "for x in data[\"blood_glucose_level\"]:\n",
    "    if((x<low_limit) or (x>upper_limit)):\n",
    "        outlier.append(x)"
   ]
  },
  {
   "cell_type": "code",
   "execution_count": null,
   "id": "81c6cfb5",
   "metadata": {},
   "outputs": [
    {
     "name": "stdout",
     "output_type": "stream",
     "text": [
      "Q1_blood 100.0\n",
      "Q3_blood 159.0\n",
      "IQR_blood 59.0\n",
      "low_limit_blood 11.5\n",
      "upper_limit_blood 247.5\n",
      "outliers= [260, 300, 280, 280, 300, 280, 300, 280, 260, 280, 260, 260, 300, 300, 280, 280, 300, 300, 300, 280, 260, 300, 300, 260, 260, 300, 300, 280, 260, 280, 280, 260, 300, 280, 260, 260, 300, 280, 280, 260, 300, 280, 300, 260, 300, 300, 260, 260, 280, 300, 300, 260, 260, 300, 300, 280, 280, 280, 280, 300, 280, 300, 280, 260, 300, 260, 260, 300, 280, 280, 260, 260, 300, 260, 300, 280, 260, 300, 280, 280, 300, 260, 280, 280, 280, 300, 260, 300, 280, 300, 300, 260, 280, 260, 300, 280, 280, 280, 280, 260, 300, 280, 260, 260, 260, 280, 260, 300, 280, 280, 300, 280, 280, 280, 260, 280, 260, 280, 300, 300, 280, 280, 260, 300, 260, 260, 280, 300, 300, 280, 280, 260, 260, 300, 300, 300, 280, 260, 300, 280, 260, 300, 300, 300, 260, 260, 300, 280, 300, 280, 260, 260, 300, 280, 260, 300, 300, 280, 280, 280, 280, 300, 280, 260, 300, 280, 300, 300, 260, 260, 300, 260, 280, 300, 260, 260, 280, 300, 260, 260, 260, 280, 260, 300, 300, 300, 260, 280, 260, 300, 260, 260, 280, 300, 280, 280, 260, 300, 300, 260, 260, 280, 280, 300, 280, 300, 280, 280, 260, 260, 280, 280, 300, 260, 260, 280, 280, 280, 280, 280, 280, 260, 280, 280, 260, 280, 280, 260, 280, 300, 280, 260, 260, 280, 280, 280, 280, 300, 280, 300, 300, 260, 280, 300, 280, 260, 260, 300, 300, 260, 280, 280, 280, 260, 260, 280, 260, 260, 280, 300, 280, 260, 280, 260, 260, 280, 280, 300, 300, 260, 300, 280, 260, 300, 260, 280, 260, 280, 280, 300, 260, 280, 260, 280, 280, 280, 280, 280, 260, 280, 280, 280, 300, 280, 260, 280, 260, 280, 300, 300, 300, 300, 260, 260, 260, 280, 260, 260, 280, 260, 300, 260, 260, 300, 260, 300, 260, 260, 280, 260, 260, 300, 260, 260, 300, 280, 260, 300, 300, 300, 300, 280, 300, 300, 280, 280, 260, 300, 260, 300, 260, 300, 300, 300, 280, 300, 280, 300, 260, 260, 260, 300, 300, 280, 280, 300, 300, 260, 280, 300, 260, 300, 300, 260, 300, 300, 260, 300, 280, 300, 260, 280, 300, 280, 300, 300, 300, 260, 280, 300, 300, 300, 280, 280, 300, 300, 300, 300, 260, 280, 280, 280, 280, 300, 280, 300, 280, 260, 280, 260, 300, 280, 300, 300, 260, 280, 300, 280, 260, 300, 300, 280, 260, 280, 280, 300, 260, 300, 300, 300, 280, 300, 260, 280, 300, 280, 280, 280, 300, 280, 300, 300, 260, 280, 260, 300, 300, 280, 280, 280, 300, 300, 300, 260, 280, 260, 260, 300, 280, 280, 280, 280, 280, 280, 280, 260, 280, 300, 300, 300, 280, 300, 300, 300, 280, 260, 260, 300, 260, 300, 300, 280, 260, 260, 260, 300, 300, 300, 260, 300, 260, 300, 300, 300, 260, 260, 280, 260, 280, 260, 300, 260, 260, 280, 280, 260, 300, 280, 280, 300, 280, 300, 260, 280, 300, 300, 280, 260, 280, 260, 300, 280, 280, 280, 280, 280, 260, 260, 300, 260, 260, 280, 300, 260, 280, 300, 300, 280, 260, 300, 300, 280, 260, 280, 260, 280, 300, 260, 260, 260, 260, 260, 300, 280, 280, 280, 260, 280, 260, 280, 300, 300, 300, 260, 300, 300, 260, 300, 260, 280, 260, 280, 280, 280, 280, 300, 300, 260, 300, 300, 300, 260, 280, 280, 280, 280, 260, 300, 260, 280, 260, 260, 300, 280, 280, 280, 260, 260, 260, 260, 280, 300, 300, 300, 280, 280, 280, 280, 280, 260, 300, 280, 300, 260, 300, 260, 280, 300, 300, 260, 260, 300, 280, 280, 260, 280, 260, 280, 300, 300, 260, 280, 260, 300, 300, 280, 260, 260, 280, 260, 300, 300, 280, 300, 280, 300, 260, 300, 300, 280, 280, 260, 260, 260, 280, 280, 260, 260, 300, 260, 260, 280, 280, 280, 280, 300, 300, 260, 300, 280, 280, 300, 280, 280, 300, 260, 280, 260, 280, 280, 260, 300, 280, 300, 300, 260, 280, 280, 260, 280, 280, 280, 300, 280, 300, 280, 280, 280, 300, 260, 300, 260, 260, 280, 300, 300, 300, 300, 300, 260, 300, 280, 260, 260, 280, 280, 300, 260, 260, 260, 260, 280, 280, 300, 260, 280, 300, 280, 260, 300, 300, 300, 260, 300, 260, 260, 280, 260, 260, 280, 300, 280, 300, 260, 300, 300, 260, 280, 260, 300, 300, 260, 260, 300, 300, 280, 280, 280, 280, 260, 300, 300, 260, 260, 300, 260, 280, 280, 300, 280, 300, 280, 280, 280, 280, 300, 280, 300, 300, 300, 300, 260, 280, 280, 280, 280, 280, 260, 300, 300, 260, 260, 280, 260, 280, 300, 300, 260, 300, 260, 300, 280, 280, 300, 300, 280, 280, 300, 280, 260, 260, 300, 280, 260, 300, 280, 280, 280, 280, 300, 260, 280, 260, 280, 300, 280, 300, 300, 300, 300, 300, 280, 300, 280, 300, 260, 280, 280, 260, 300, 260, 280, 260, 280, 300, 300, 260, 260, 280, 300, 260, 300, 260, 260, 260, 300, 260, 260, 300, 280, 260, 300, 280, 280, 300, 300, 280, 280, 260, 300, 260, 260, 280, 300, 280, 300, 280, 280, 260, 300, 300, 260, 260, 260, 280, 280, 260, 280, 260, 300, 260, 260, 280, 300, 280, 280, 300, 300, 260, 280, 300, 280, 260, 300, 280, 300, 280, 280, 300, 280, 300, 260, 280, 300, 260, 300, 260, 300, 280, 280, 280, 280, 300, 260, 260, 280, 300, 280, 280, 300, 300, 260, 260, 280, 260, 280, 260, 260, 280, 280, 260, 260, 260, 260, 260, 300, 280, 300, 260, 280, 260, 300, 300, 300, 300, 260, 280, 280, 300, 280, 260, 300, 300, 300, 260, 260, 260, 300, 300, 300, 300, 280, 260, 280, 300, 280, 300, 280, 280, 280, 260, 300, 280, 280, 280, 280, 300, 300, 300, 260, 300, 280, 260, 300, 300, 260, 260, 300, 260, 260, 280, 300, 280, 280, 260, 260, 300, 280, 280, 300, 300, 300, 280, 260, 280, 280, 280, 260, 280, 260, 260, 260, 300, 280, 280, 260, 300, 260, 260, 260, 260, 280, 300, 280, 260, 260, 260, 280, 280, 260, 260, 300, 300, 300, 280, 280, 300, 280, 300, 300, 280, 260, 280, 280, 260, 260, 280, 280, 280, 260, 260, 300, 280, 300, 280, 260, 300, 260, 280, 260, 280, 280, 300, 300, 300, 280, 260, 280, 260, 260, 260, 280, 280, 280, 280, 280, 280, 280, 280, 280, 260, 260, 280, 260, 300, 260, 260, 300, 300, 260, 260, 280, 260, 300, 280, 280, 300, 300, 280, 280, 280, 300, 260, 300, 300, 260, 260, 260, 280, 260, 260, 300, 300, 260, 280, 280, 260, 280, 280, 280, 280, 300, 280, 260, 280, 300, 280, 260, 280, 300, 280, 260, 260, 280, 280, 300, 300, 300, 300, 300, 260, 300, 300, 300, 280, 300, 260, 260, 280, 300, 280, 280, 300, 280, 260, 280, 300, 260, 260, 300, 260, 300, 300, 260, 280, 280, 300, 300, 260, 260, 280, 300, 300, 280, 260, 260, 300, 300, 300, 280, 300, 300, 260, 280, 280, 260, 300, 280, 280, 300, 280, 260, 300, 300, 280, 260, 300, 260, 300, 260, 300, 300, 300, 280, 260, 300, 300, 280, 280, 300, 300, 280, 300, 260, 300, 280, 280, 260, 260, 300, 260, 300, 300, 260, 300, 280, 300, 300, 280, 260, 280, 280, 260, 280, 260, 260, 260, 280, 280, 280, 300, 260, 280, 280, 280, 260, 280, 260, 260, 300, 300, 260, 260, 300, 300, 300, 300, 280, 280, 260, 280, 300, 280, 260, 280, 280, 280, 260, 260, 260, 300, 280, 280, 280, 300, 300, 280, 280, 280, 260, 300, 300, 280, 260, 260, 280, 260, 280, 280, 280, 280, 280, 300, 260, 300, 280, 300, 300, 260, 260, 280, 260, 280, 300, 260, 300, 300, 280, 280, 280, 260, 280, 260, 260, 300, 300, 280, 260, 280, 260, 300, 260, 260, 260, 260, 300, 280, 300, 300, 280, 300, 260, 280, 280, 280, 280, 260, 300, 300, 280, 260, 300, 260, 260, 300, 280, 280, 280, 260, 280, 280, 260, 260, 260, 260, 280, 280, 300, 260, 260, 280, 280, 300, 260, 280, 280, 280, 260, 300, 260, 260, 280, 300, 300, 280, 260, 280, 280, 300, 280, 280, 260, 300, 300, 260, 300, 280, 260, 280, 280, 260, 300, 280, 300, 280, 300, 300, 300, 280, 300, 260, 280, 280, 260, 260, 300, 300, 260, 300, 260, 260, 300, 260, 260, 280, 260, 260, 300, 300, 300, 260, 260, 280, 260, 280, 300, 300, 260, 260, 280, 280, 280, 260, 280, 300, 280, 280, 280, 260, 260, 300, 300, 280, 300, 260, 280, 300, 300, 260, 300, 300, 260, 300, 300, 300, 300, 300, 300, 280, 260, 280, 300, 300, 300, 260, 260, 300, 300, 300, 260, 260, 260, 300, 300, 260, 280, 300, 280, 280, 280, 300, 260, 280, 280, 260, 280, 280, 280, 300, 300, 280, 280, 280, 280, 260, 280, 300, 300, 280, 260, 280, 280, 280, 300, 260, 300, 300, 300, 260, 280, 280, 260, 280, 260, 280, 280, 300, 300, 260, 260, 280, 280, 260, 280, 260, 280, 300, 280, 280, 300, 300, 280, 280, 280, 280, 260, 300, 260, 300, 280, 300, 300, 280, 280, 300, 260, 300, 260, 300, 280, 260, 280, 280, 300, 300, 260, 300, 260, 300, 260, 280, 260, 280, 280, 280, 260, 260, 300, 300, 260, 300, 260, 260, 300, 260, 260, 300, 300, 300, 280, 280, 260, 280, 260, 280, 300, 300, 280, 280, 280, 280, 260, 280, 260, 300, 300, 280, 260, 260, 280, 280, 300, 260, 300, 260, 300, 300, 280, 260, 280, 280, 300, 300, 260, 300, 260, 280, 260, 260, 260, 300, 260, 280, 260, 300, 300, 260, 260, 260, 300, 280, 300, 280, 300, 300, 260, 280, 260, 300, 280, 300, 300, 260, 260, 280, 260, 280, 260, 300, 300, 280, 260, 280, 300, 260, 300, 260, 260, 260, 260, 260, 300, 280, 280, 300, 280, 260, 260, 300, 260, 280, 260, 300, 260, 280, 300, 300, 300, 280, 300, 280, 300, 260, 260, 300, 260, 280, 260, 260, 260, 280, 280, 280, 260, 260, 300, 280, 280, 280, 260, 280, 300, 300, 300, 280, 300, 280, 260, 280, 300, 300, 260, 260, 280, 260, 280, 280, 300, 260, 280, 280, 260, 260, 280, 300, 300, 280, 280, 260, 280, 280, 260, 300, 280, 300, 300, 300, 300, 280, 260, 280, 260, 300, 280, 280, 280, 300, 280, 280, 280, 280, 300, 260, 260, 260, 300, 300, 280, 260, 300, 300, 300, 300, 260, 280, 280, 280, 280, 260, 300, 260, 260, 260, 260, 260, 260, 260, 300, 300, 260, 280, 260, 300, 280, 300, 280, 280, 260, 300, 260, 300, 280, 280, 300, 300, 280, 300, 260, 260, 260, 280, 280, 260, 280, 300, 280, 280, 300, 280, 280, 300, 280, 300, 260, 260, 280, 300, 260, 260, 300, 300, 280, 260, 260, 300, 280, 300, 260, 280, 260, 280, 260, 260, 260, 280, 260, 300, 300, 300, 280, 280, 260, 280, 260, 300, 280, 300, 300, 260, 280, 300, 280, 280, 260, 280, 300, 280, 260, 300, 280, 300, 300, 260, 300, 280, 280, 280, 300, 260, 260, 260, 280, 280, 280, 280, 300, 280, 300, 300, 280, 280, 280, 280, 260, 300, 280, 260, 300, 280, 300, 280, 280, 300, 260, 280, 260, 260, 300, 280, 260, 260, 260, 300, 300, 260, 300, 300, 300, 260, 280, 280, 260, 260, 280, 260, 280, 280, 260, 260, 260, 300, 280, 300, 280, 260, 260, 260, 300, 260, 300, 280, 280, 260, 280, 280, 300, 280, 280, 300, 260, 260, 260, 300, 280, 280, 280, 280, 300, 300, 300, 280, 280, 260, 300, 260, 260, 260, 300, 300, 300, 300, 280, 260, 260, 300, 280, 300, 260, 300, 300, 300, 260, 260, 300, 280, 260, 260, 280, 280, 260, 280, 260, 300, 260, 280, 280, 260, 300, 280, 300, 260, 300, 300, 300, 260, 300, 300, 260, 280, 280, 260, 260, 300, 300, 300, 300, 300, 280, 260, 260, 300, 300, 260, 300, 300, 280, 280, 260, 280, 280, 280, 280, 260, 280, 280, 300, 280, 300, 300, 260, 300, 280, 300, 280, 300, 300, 300, 280]\n",
      "number outliers value = 2038\n"
     ]
    }
   ],
   "source": [
    "print(\"Q1_blood\",Q1)\n",
    "print(\"Q3_blood\",Q3)\n",
    "print(\"IQR_blood\",IQR)\n",
    "print(\"low_limit_blood\",low_limit)\n",
    "print(\"upper_limit_blood\",upper_limit)\n",
    "print(\"outliers=\",outlier)\n",
    "print(\"number outliers value =\",len(outlier))"
   ]
  },
  {
   "cell_type": "code",
   "execution_count": null,
   "id": "f10a1d1a",
   "metadata": {},
   "outputs": [
    {
     "data": {
      "text/plain": [
       "Index(['age', 'hypertension', 'heart_disease', 'bmi', 'HbA1c_level',\n",
       "       'blood_glucose_level', 'diabetes'],\n",
       "      dtype='object')"
      ]
     },
     "execution_count": 26,
     "metadata": {},
     "output_type": "execute_result"
    }
   ],
   "source": [
    "num_cols=data.select_dtypes(\"number\").columns\n",
    "num_cols"
   ]
  },
  {
   "cell_type": "code",
   "execution_count": null,
   "id": "0f0451bf",
   "metadata": {},
   "outputs": [
    {
     "name": "stderr",
     "output_type": "stream",
     "text": [
      "G:\\Jupter\\lib\\site-packages\\sklearn\\utils\\validation.py:623: FutureWarning: is_sparse is deprecated and will be removed in a future version. Check `isinstance(dtype, pd.SparseDtype)` instead.\n",
      "  if not hasattr(array, \"sparse\") and array.dtypes.apply(is_sparse).any():\n"
     ]
    },
    {
     "data": {
      "text/plain": [
       "array([0, 1, 2, 3, 4, 5, 6], dtype=int64)"
      ]
     },
     "execution_count": 27,
     "metadata": {},
     "output_type": "execute_result"
    }
   ],
   "source": [
    "selector=VarianceThreshold(threshold=0.01)\n",
    "selector.fit(data.select_dtypes(\"number\"))\n",
    "selector.get_support(indices =True)"
   ]
  },
  {
   "cell_type": "code",
   "execution_count": null,
   "id": "4b9dc4c1",
   "metadata": {},
   "outputs": [
    {
     "data": {
      "text/plain": [
       "Index(['age', 'hypertension', 'heart_disease', 'bmi', 'HbA1c_level',\n",
       "       'blood_glucose_level', 'diabetes'],\n",
       "      dtype='object')"
      ]
     },
     "execution_count": 28,
     "metadata": {},
     "output_type": "execute_result"
    }
   ],
   "source": [
    "num_cols[selector.get_support(indices =True)]"
   ]
  },
  {
   "cell_type": "code",
   "execution_count": null,
   "id": "bdb95658",
   "metadata": {},
   "outputs": [
    {
     "data": {
      "text/html": [
       "<div>\n",
       "<style scoped>\n",
       "    .dataframe tbody tr th:only-of-type {\n",
       "        vertical-align: middle;\n",
       "    }\n",
       "\n",
       "    .dataframe tbody tr th {\n",
       "        vertical-align: top;\n",
       "    }\n",
       "\n",
       "    .dataframe thead th {\n",
       "        text-align: right;\n",
       "    }\n",
       "</style>\n",
       "<table border=\"1\" class=\"dataframe\">\n",
       "  <thead>\n",
       "    <tr style=\"text-align: right;\">\n",
       "      <th></th>\n",
       "      <th>age</th>\n",
       "      <th>hypertension</th>\n",
       "      <th>heart_disease</th>\n",
       "      <th>bmi</th>\n",
       "      <th>HbA1c_level</th>\n",
       "      <th>blood_glucose_level</th>\n",
       "      <th>diabetes</th>\n",
       "    </tr>\n",
       "  </thead>\n",
       "  <tbody>\n",
       "    <tr>\n",
       "      <th>age</th>\n",
       "      <td>1.000000</td>\n",
       "      <td>0.251171</td>\n",
       "      <td>0.233354</td>\n",
       "      <td>0.337396</td>\n",
       "      <td>0.101354</td>\n",
       "      <td>0.110672</td>\n",
       "      <td>0.258008</td>\n",
       "    </tr>\n",
       "    <tr>\n",
       "      <th>hypertension</th>\n",
       "      <td>0.251171</td>\n",
       "      <td>1.000000</td>\n",
       "      <td>0.121262</td>\n",
       "      <td>0.147666</td>\n",
       "      <td>0.080939</td>\n",
       "      <td>0.084429</td>\n",
       "      <td>0.197823</td>\n",
       "    </tr>\n",
       "    <tr>\n",
       "      <th>heart_disease</th>\n",
       "      <td>0.233354</td>\n",
       "      <td>0.121262</td>\n",
       "      <td>1.000000</td>\n",
       "      <td>0.061198</td>\n",
       "      <td>0.067589</td>\n",
       "      <td>0.070066</td>\n",
       "      <td>0.171727</td>\n",
       "    </tr>\n",
       "    <tr>\n",
       "      <th>bmi</th>\n",
       "      <td>0.337396</td>\n",
       "      <td>0.147666</td>\n",
       "      <td>0.061198</td>\n",
       "      <td>1.000000</td>\n",
       "      <td>0.082997</td>\n",
       "      <td>0.091261</td>\n",
       "      <td>0.214357</td>\n",
       "    </tr>\n",
       "    <tr>\n",
       "      <th>HbA1c_level</th>\n",
       "      <td>0.101354</td>\n",
       "      <td>0.080939</td>\n",
       "      <td>0.067589</td>\n",
       "      <td>0.082997</td>\n",
       "      <td>1.000000</td>\n",
       "      <td>0.166733</td>\n",
       "      <td>0.400660</td>\n",
       "    </tr>\n",
       "    <tr>\n",
       "      <th>blood_glucose_level</th>\n",
       "      <td>0.110672</td>\n",
       "      <td>0.084429</td>\n",
       "      <td>0.070066</td>\n",
       "      <td>0.091261</td>\n",
       "      <td>0.166733</td>\n",
       "      <td>1.000000</td>\n",
       "      <td>0.419558</td>\n",
       "    </tr>\n",
       "    <tr>\n",
       "      <th>diabetes</th>\n",
       "      <td>0.258008</td>\n",
       "      <td>0.197823</td>\n",
       "      <td>0.171727</td>\n",
       "      <td>0.214357</td>\n",
       "      <td>0.400660</td>\n",
       "      <td>0.419558</td>\n",
       "      <td>1.000000</td>\n",
       "    </tr>\n",
       "  </tbody>\n",
       "</table>\n",
       "</div>"
      ],
      "text/plain": [
       "                          age  hypertension  heart_disease       bmi  \\\n",
       "age                  1.000000      0.251171       0.233354  0.337396   \n",
       "hypertension         0.251171      1.000000       0.121262  0.147666   \n",
       "heart_disease        0.233354      0.121262       1.000000  0.061198   \n",
       "bmi                  0.337396      0.147666       0.061198  1.000000   \n",
       "HbA1c_level          0.101354      0.080939       0.067589  0.082997   \n",
       "blood_glucose_level  0.110672      0.084429       0.070066  0.091261   \n",
       "diabetes             0.258008      0.197823       0.171727  0.214357   \n",
       "\n",
       "                     HbA1c_level  blood_glucose_level  diabetes  \n",
       "age                     0.101354             0.110672  0.258008  \n",
       "hypertension            0.080939             0.084429  0.197823  \n",
       "heart_disease           0.067589             0.070066  0.171727  \n",
       "bmi                     0.082997             0.091261  0.214357  \n",
       "HbA1c_level             1.000000             0.166733  0.400660  \n",
       "blood_glucose_level     0.166733             1.000000  0.419558  \n",
       "diabetes                0.400660             0.419558  1.000000  "
      ]
     },
     "execution_count": 29,
     "metadata": {},
     "output_type": "execute_result"
    }
   ],
   "source": [
    "data.select_dtypes(\"number\").corr()"
   ]
  },
  {
   "cell_type": "code",
   "execution_count": null,
   "id": "63c997bb",
   "metadata": {},
   "outputs": [
    {
     "data": {
      "text/html": [
       "<div>\n",
       "<style scoped>\n",
       "    .dataframe tbody tr th:only-of-type {\n",
       "        vertical-align: middle;\n",
       "    }\n",
       "\n",
       "    .dataframe tbody tr th {\n",
       "        vertical-align: top;\n",
       "    }\n",
       "\n",
       "    .dataframe thead th {\n",
       "        text-align: right;\n",
       "    }\n",
       "</style>\n",
       "<table border=\"1\" class=\"dataframe\">\n",
       "  <thead>\n",
       "    <tr style=\"text-align: right;\">\n",
       "      <th></th>\n",
       "      <th>age</th>\n",
       "      <th>hypertension</th>\n",
       "      <th>heart_disease</th>\n",
       "      <th>bmi</th>\n",
       "      <th>HbA1c_level</th>\n",
       "      <th>blood_glucose_level</th>\n",
       "      <th>diabetes</th>\n",
       "    </tr>\n",
       "  </thead>\n",
       "  <tbody>\n",
       "    <tr>\n",
       "      <th>age</th>\n",
       "      <td>1.000000</td>\n",
       "      <td>0.251171</td>\n",
       "      <td>0.233354</td>\n",
       "      <td>0.337396</td>\n",
       "      <td>0.101354</td>\n",
       "      <td>0.110672</td>\n",
       "      <td>0.258008</td>\n",
       "    </tr>\n",
       "    <tr>\n",
       "      <th>hypertension</th>\n",
       "      <td>0.251171</td>\n",
       "      <td>1.000000</td>\n",
       "      <td>0.121262</td>\n",
       "      <td>0.147666</td>\n",
       "      <td>0.080939</td>\n",
       "      <td>0.084429</td>\n",
       "      <td>0.197823</td>\n",
       "    </tr>\n",
       "    <tr>\n",
       "      <th>heart_disease</th>\n",
       "      <td>0.233354</td>\n",
       "      <td>0.121262</td>\n",
       "      <td>1.000000</td>\n",
       "      <td>0.061198</td>\n",
       "      <td>0.067589</td>\n",
       "      <td>0.070066</td>\n",
       "      <td>0.171727</td>\n",
       "    </tr>\n",
       "    <tr>\n",
       "      <th>bmi</th>\n",
       "      <td>0.337396</td>\n",
       "      <td>0.147666</td>\n",
       "      <td>0.061198</td>\n",
       "      <td>1.000000</td>\n",
       "      <td>0.082997</td>\n",
       "      <td>0.091261</td>\n",
       "      <td>0.214357</td>\n",
       "    </tr>\n",
       "    <tr>\n",
       "      <th>HbA1c_level</th>\n",
       "      <td>0.101354</td>\n",
       "      <td>0.080939</td>\n",
       "      <td>0.067589</td>\n",
       "      <td>0.082997</td>\n",
       "      <td>1.000000</td>\n",
       "      <td>0.166733</td>\n",
       "      <td>0.400660</td>\n",
       "    </tr>\n",
       "    <tr>\n",
       "      <th>blood_glucose_level</th>\n",
       "      <td>0.110672</td>\n",
       "      <td>0.084429</td>\n",
       "      <td>0.070066</td>\n",
       "      <td>0.091261</td>\n",
       "      <td>0.166733</td>\n",
       "      <td>1.000000</td>\n",
       "      <td>0.419558</td>\n",
       "    </tr>\n",
       "    <tr>\n",
       "      <th>diabetes</th>\n",
       "      <td>0.258008</td>\n",
       "      <td>0.197823</td>\n",
       "      <td>0.171727</td>\n",
       "      <td>0.214357</td>\n",
       "      <td>0.400660</td>\n",
       "      <td>0.419558</td>\n",
       "      <td>1.000000</td>\n",
       "    </tr>\n",
       "  </tbody>\n",
       "</table>\n",
       "</div>"
      ],
      "text/plain": [
       "                          age  hypertension  heart_disease       bmi  \\\n",
       "age                  1.000000      0.251171       0.233354  0.337396   \n",
       "hypertension         0.251171      1.000000       0.121262  0.147666   \n",
       "heart_disease        0.233354      0.121262       1.000000  0.061198   \n",
       "bmi                  0.337396      0.147666       0.061198  1.000000   \n",
       "HbA1c_level          0.101354      0.080939       0.067589  0.082997   \n",
       "blood_glucose_level  0.110672      0.084429       0.070066  0.091261   \n",
       "diabetes             0.258008      0.197823       0.171727  0.214357   \n",
       "\n",
       "                     HbA1c_level  blood_glucose_level  diabetes  \n",
       "age                     0.101354             0.110672  0.258008  \n",
       "hypertension            0.080939             0.084429  0.197823  \n",
       "heart_disease           0.067589             0.070066  0.171727  \n",
       "bmi                     0.082997             0.091261  0.214357  \n",
       "HbA1c_level             1.000000             0.166733  0.400660  \n",
       "blood_glucose_level     0.166733             1.000000  0.419558  \n",
       "diabetes                0.400660             0.419558  1.000000  "
      ]
     },
     "execution_count": 30,
     "metadata": {},
     "output_type": "execute_result"
    }
   ],
   "source": [
    "data.select_dtypes(\"number\").corr(method=\"pearson\")"
   ]
  },
  {
   "cell_type": "code",
   "execution_count": null,
   "id": "d318e3a7",
   "metadata": {},
   "outputs": [
    {
     "data": {
      "text/html": [
       "<div>\n",
       "<style scoped>\n",
       "    .dataframe tbody tr th:only-of-type {\n",
       "        vertical-align: middle;\n",
       "    }\n",
       "\n",
       "    .dataframe tbody tr th {\n",
       "        vertical-align: top;\n",
       "    }\n",
       "\n",
       "    .dataframe thead th {\n",
       "        text-align: right;\n",
       "    }\n",
       "</style>\n",
       "<table border=\"1\" class=\"dataframe\">\n",
       "  <thead>\n",
       "    <tr style=\"text-align: right;\">\n",
       "      <th></th>\n",
       "      <th>age</th>\n",
       "      <th>hypertension</th>\n",
       "      <th>heart_disease</th>\n",
       "      <th>bmi</th>\n",
       "      <th>HbA1c_level</th>\n",
       "      <th>blood_glucose_level</th>\n",
       "      <th>diabetes</th>\n",
       "    </tr>\n",
       "  </thead>\n",
       "  <tbody>\n",
       "    <tr>\n",
       "      <th>age</th>\n",
       "      <td>1.000000</td>\n",
       "      <td>0.254197</td>\n",
       "      <td>0.234424</td>\n",
       "      <td>0.351311</td>\n",
       "      <td>0.083634</td>\n",
       "      <td>0.075412</td>\n",
       "      <td>0.262076</td>\n",
       "    </tr>\n",
       "    <tr>\n",
       "      <th>hypertension</th>\n",
       "      <td>0.254197</td>\n",
       "      <td>1.000000</td>\n",
       "      <td>0.121262</td>\n",
       "      <td>0.147441</td>\n",
       "      <td>0.066752</td>\n",
       "      <td>0.056369</td>\n",
       "      <td>0.197823</td>\n",
       "    </tr>\n",
       "    <tr>\n",
       "      <th>heart_disease</th>\n",
       "      <td>0.234424</td>\n",
       "      <td>0.121262</td>\n",
       "      <td>1.000000</td>\n",
       "      <td>0.069601</td>\n",
       "      <td>0.055188</td>\n",
       "      <td>0.045133</td>\n",
       "      <td>0.171727</td>\n",
       "    </tr>\n",
       "    <tr>\n",
       "      <th>bmi</th>\n",
       "      <td>0.351311</td>\n",
       "      <td>0.147441</td>\n",
       "      <td>0.069601</td>\n",
       "      <td>1.000000</td>\n",
       "      <td>0.063368</td>\n",
       "      <td>0.058261</td>\n",
       "      <td>0.200061</td>\n",
       "    </tr>\n",
       "    <tr>\n",
       "      <th>HbA1c_level</th>\n",
       "      <td>0.083634</td>\n",
       "      <td>0.066752</td>\n",
       "      <td>0.055188</td>\n",
       "      <td>0.063368</td>\n",
       "      <td>1.000000</td>\n",
       "      <td>0.090891</td>\n",
       "      <td>0.328705</td>\n",
       "    </tr>\n",
       "    <tr>\n",
       "      <th>blood_glucose_level</th>\n",
       "      <td>0.075412</td>\n",
       "      <td>0.056369</td>\n",
       "      <td>0.045133</td>\n",
       "      <td>0.058261</td>\n",
       "      <td>0.090891</td>\n",
       "      <td>1.000000</td>\n",
       "      <td>0.274217</td>\n",
       "    </tr>\n",
       "    <tr>\n",
       "      <th>diabetes</th>\n",
       "      <td>0.262076</td>\n",
       "      <td>0.197823</td>\n",
       "      <td>0.171727</td>\n",
       "      <td>0.200061</td>\n",
       "      <td>0.328705</td>\n",
       "      <td>0.274217</td>\n",
       "      <td>1.000000</td>\n",
       "    </tr>\n",
       "  </tbody>\n",
       "</table>\n",
       "</div>"
      ],
      "text/plain": [
       "                          age  hypertension  heart_disease       bmi  \\\n",
       "age                  1.000000      0.254197       0.234424  0.351311   \n",
       "hypertension         0.254197      1.000000       0.121262  0.147441   \n",
       "heart_disease        0.234424      0.121262       1.000000  0.069601   \n",
       "bmi                  0.351311      0.147441       0.069601  1.000000   \n",
       "HbA1c_level          0.083634      0.066752       0.055188  0.063368   \n",
       "blood_glucose_level  0.075412      0.056369       0.045133  0.058261   \n",
       "diabetes             0.262076      0.197823       0.171727  0.200061   \n",
       "\n",
       "                     HbA1c_level  blood_glucose_level  diabetes  \n",
       "age                     0.083634             0.075412  0.262076  \n",
       "hypertension            0.066752             0.056369  0.197823  \n",
       "heart_disease           0.055188             0.045133  0.171727  \n",
       "bmi                     0.063368             0.058261  0.200061  \n",
       "HbA1c_level             1.000000             0.090891  0.328705  \n",
       "blood_glucose_level     0.090891             1.000000  0.274217  \n",
       "diabetes                0.328705             0.274217  1.000000  "
      ]
     },
     "execution_count": 31,
     "metadata": {},
     "output_type": "execute_result"
    }
   ],
   "source": [
    "data.select_dtypes(\"number\").corr(method=\"spearman\")"
   ]
  },
  {
   "cell_type": "code",
   "execution_count": null,
   "id": "e7e17de6",
   "metadata": {},
   "outputs": [
    {
     "name": "stderr",
     "output_type": "stream",
     "text": [
      "G:\\Jupter\\lib\\site-packages\\scipy\\stats\\_stats_py.py:5215: RuntimeWarning: overflow encountered in scalar multiply\n",
      "  (2 * xtie * ytie) / m + x0 * y0 / (9 * m * (size - 2)))\n"
     ]
    },
    {
     "data": {
      "text/html": [
       "<div>\n",
       "<style scoped>\n",
       "    .dataframe tbody tr th:only-of-type {\n",
       "        vertical-align: middle;\n",
       "    }\n",
       "\n",
       "    .dataframe tbody tr th {\n",
       "        vertical-align: top;\n",
       "    }\n",
       "\n",
       "    .dataframe thead th {\n",
       "        text-align: right;\n",
       "    }\n",
       "</style>\n",
       "<table border=\"1\" class=\"dataframe\">\n",
       "  <thead>\n",
       "    <tr style=\"text-align: right;\">\n",
       "      <th></th>\n",
       "      <th>age</th>\n",
       "      <th>hypertension</th>\n",
       "      <th>heart_disease</th>\n",
       "      <th>bmi</th>\n",
       "      <th>HbA1c_level</th>\n",
       "      <th>blood_glucose_level</th>\n",
       "      <th>diabetes</th>\n",
       "    </tr>\n",
       "  </thead>\n",
       "  <tbody>\n",
       "    <tr>\n",
       "      <th>age</th>\n",
       "      <td>1.000000</td>\n",
       "      <td>0.209052</td>\n",
       "      <td>0.192791</td>\n",
       "      <td>0.247000</td>\n",
       "      <td>0.058317</td>\n",
       "      <td>0.052445</td>\n",
       "      <td>0.215532</td>\n",
       "    </tr>\n",
       "    <tr>\n",
       "      <th>hypertension</th>\n",
       "      <td>0.209052</td>\n",
       "      <td>1.000000</td>\n",
       "      <td>0.121262</td>\n",
       "      <td>0.123481</td>\n",
       "      <td>0.056567</td>\n",
       "      <td>0.047657</td>\n",
       "      <td>0.197823</td>\n",
       "    </tr>\n",
       "    <tr>\n",
       "      <th>heart_disease</th>\n",
       "      <td>0.192791</td>\n",
       "      <td>0.121262</td>\n",
       "      <td>1.000000</td>\n",
       "      <td>0.058291</td>\n",
       "      <td>0.046767</td>\n",
       "      <td>0.038157</td>\n",
       "      <td>0.171727</td>\n",
       "    </tr>\n",
       "    <tr>\n",
       "      <th>bmi</th>\n",
       "      <td>0.247000</td>\n",
       "      <td>0.123481</td>\n",
       "      <td>0.058291</td>\n",
       "      <td>1.000000</td>\n",
       "      <td>0.044983</td>\n",
       "      <td>0.041260</td>\n",
       "      <td>0.167550</td>\n",
       "    </tr>\n",
       "    <tr>\n",
       "      <th>HbA1c_level</th>\n",
       "      <td>0.058317</td>\n",
       "      <td>0.056567</td>\n",
       "      <td>0.046767</td>\n",
       "      <td>0.044983</td>\n",
       "      <td>1.000000</td>\n",
       "      <td>0.065109</td>\n",
       "      <td>0.278549</td>\n",
       "    </tr>\n",
       "    <tr>\n",
       "      <th>blood_glucose_level</th>\n",
       "      <td>0.052445</td>\n",
       "      <td>0.047657</td>\n",
       "      <td>0.038157</td>\n",
       "      <td>0.041260</td>\n",
       "      <td>0.065109</td>\n",
       "      <td>1.000000</td>\n",
       "      <td>0.231834</td>\n",
       "    </tr>\n",
       "    <tr>\n",
       "      <th>diabetes</th>\n",
       "      <td>0.215532</td>\n",
       "      <td>0.197823</td>\n",
       "      <td>0.171727</td>\n",
       "      <td>0.167550</td>\n",
       "      <td>0.278549</td>\n",
       "      <td>0.231834</td>\n",
       "      <td>1.000000</td>\n",
       "    </tr>\n",
       "  </tbody>\n",
       "</table>\n",
       "</div>"
      ],
      "text/plain": [
       "                          age  hypertension  heart_disease       bmi  \\\n",
       "age                  1.000000      0.209052       0.192791  0.247000   \n",
       "hypertension         0.209052      1.000000       0.121262  0.123481   \n",
       "heart_disease        0.192791      0.121262       1.000000  0.058291   \n",
       "bmi                  0.247000      0.123481       0.058291  1.000000   \n",
       "HbA1c_level          0.058317      0.056567       0.046767  0.044983   \n",
       "blood_glucose_level  0.052445      0.047657       0.038157  0.041260   \n",
       "diabetes             0.215532      0.197823       0.171727  0.167550   \n",
       "\n",
       "                     HbA1c_level  blood_glucose_level  diabetes  \n",
       "age                     0.058317             0.052445  0.215532  \n",
       "hypertension            0.056567             0.047657  0.197823  \n",
       "heart_disease           0.046767             0.038157  0.171727  \n",
       "bmi                     0.044983             0.041260  0.167550  \n",
       "HbA1c_level             1.000000             0.065109  0.278549  \n",
       "blood_glucose_level     0.065109             1.000000  0.231834  \n",
       "diabetes                0.278549             0.231834  1.000000  "
      ]
     },
     "execution_count": 32,
     "metadata": {},
     "output_type": "execute_result"
    }
   ],
   "source": [
    "data.select_dtypes(\"number\").corr(method=\"kendall\")"
   ]
  },
  {
   "cell_type": "code",
   "execution_count": null,
   "id": "a1db12c6",
   "metadata": {},
   "outputs": [
    {
     "data": {
      "text/plain": [
       "Text(0.5, 1.0, 'MArix-Correlation_Heatmap')"
      ]
     },
     "execution_count": 33,
     "metadata": {},
     "output_type": "execute_result"
    },
    {
     "data": {
      "image/png": "[encoded data removed]",
      "text/plain": [
       "<Figure size 640x480 with 2 Axes>"
      ]
     },
     "metadata": {},
     "output_type": "display_data"
    }
   ],
   "source": [
    "sns.heatmap(data.select_dtypes(\"number\").corr(),annot=True,fmt=\".2f\")\n",
    "plt.title(\"Matrix-Correlation_Heatmap\")"
   ]
  },
  {
   "cell_type": "code",
   "execution_count": null,
   "id": "f658c348",
   "metadata": {},
   "outputs": [
    {
     "name": "stderr",
     "output_type": "stream",
     "text": [
      "G:\\Jupter\\lib\\site-packages\\sklearn\\utils\\validation.py:623: FutureWarning: is_sparse is deprecated and will be removed in a future version. Check `isinstance(dtype, pd.SparseDtype)` instead.\n",
      "  if not hasattr(array, \"sparse\") and array.dtypes.apply(is_sparse).any():\n"
     ]
    },
    {
     "data": {
      "text/plain": [
       "SelectKBest(k=5)"
      ]
     },
     "execution_count": 18,
     "metadata": {},
     "output_type": "execute_result"
    }
   ],
   "source": [
    "fs=SelectKBest(score_func=f_classif,k=5)\n",
    "fs.fit(data.drop(columns=\"diabetes\").select_dtypes(\"number\").fillna(0),data[\"diabetes\"])\n"
   ]
  },
  {
   "cell_type": "code",
   "execution_count": null,
   "id": "fcb21732",
   "metadata": {},
   "outputs": [
    {
     "name": "stdout",
     "output_type": "stream",
     "text": [
      "['  0.000000', '  0.000000', '  0.000000', '  0.000000', '  0.000000', '  0.000000']\n",
      "['7131.405852', '4072.706875', '3038.559564', '4816.113932', '19122.211184', '21363.054361']\n"
     ]
    }
   ],
   "source": [
    "print([\"{:10f}\".format(p)for p in fs.pvalues_])\n",
    "print([\"{:10f}\".format(p)for p in fs.scores_])"
   ]
  },
  {
   "cell_type": "code",
   "execution_count": null,
   "id": "edde7c3d",
   "metadata": {},
   "outputs": [
    {
     "data": {
      "text/html": [
       "<div>\n",
       "<style scoped>\n",
       "    .dataframe tbody tr th:only-of-type {\n",
       "        vertical-align: middle;\n",
       "    }\n",
       "\n",
       "    .dataframe tbody tr th {\n",
       "        vertical-align: top;\n",
       "    }\n",
       "\n",
       "    .dataframe thead th {\n",
       "        text-align: right;\n",
       "    }\n",
       "</style>\n",
       "<table border=\"1\" class=\"dataframe\">\n",
       "  <thead>\n",
       "    <tr style=\"text-align: right;\">\n",
       "      <th></th>\n",
       "      <th>pvalues</th>\n",
       "      <th>scores</th>\n",
       "      <th>inputs</th>\n",
       "    </tr>\n",
       "  </thead>\n",
       "  <tbody>\n",
       "    <tr>\n",
       "      <th>0</th>\n",
       "      <td>0.0</td>\n",
       "      <td>7131.405852</td>\n",
       "      <td>age</td>\n",
       "    </tr>\n",
       "    <tr>\n",
       "      <th>1</th>\n",
       "      <td>0.0</td>\n",
       "      <td>4072.706875</td>\n",
       "      <td>hypertension</td>\n",
       "    </tr>\n",
       "    <tr>\n",
       "      <th>2</th>\n",
       "      <td>0.0</td>\n",
       "      <td>3038.559564</td>\n",
       "      <td>heart_disease</td>\n",
       "    </tr>\n",
       "    <tr>\n",
       "      <th>3</th>\n",
       "      <td>0.0</td>\n",
       "      <td>4816.113932</td>\n",
       "      <td>bmi</td>\n",
       "    </tr>\n",
       "    <tr>\n",
       "      <th>4</th>\n",
       "      <td>0.0</td>\n",
       "      <td>19122.211184</td>\n",
       "      <td>HbA1c_level</td>\n",
       "    </tr>\n",
       "    <tr>\n",
       "      <th>5</th>\n",
       "      <td>0.0</td>\n",
       "      <td>21363.054361</td>\n",
       "      <td>blood_glucose_level</td>\n",
       "    </tr>\n",
       "  </tbody>\n",
       "</table>\n",
       "</div>"
      ],
      "text/plain": [
       "   pvalues        scores               inputs\n",
       "0      0.0   7131.405852                  age\n",
       "1      0.0   4072.706875         hypertension\n",
       "2      0.0   3038.559564        heart_disease\n",
       "3      0.0   4816.113932                  bmi\n",
       "4      0.0  19122.211184          HbA1c_level\n",
       "5      0.0  21363.054361  blood_glucose_level"
      ]
     },
     "execution_count": 21,
     "metadata": {},
     "output_type": "execute_result"
    }
   ],
   "source": [
    "pvalues_features=pd.DataFrame(fs.pvalues_)\n",
    "scores_features=pd.DataFrame(fs.scores_)\n",
    "features=pd.DataFrame(data.drop(columns=\"diabetes\").select_dtypes(\"number\").fillna(0).columns)\n",
    "feature_score=pd.concat([pvalues_features,scores_features,features],axis=1)\n",
    "feature_score.columns=[\"pvalues\",\"scores\",\"inputs\"]\n",
    "feature_score"
   ]
  },
  {
   "cell_type": "code",
   "execution_count": null,
   "id": "93d1850f",
   "metadata": {},
   "outputs": [
    {
     "data": {
      "text/html": [
       "<div>\n",
       "<style scoped>\n",
       "    .dataframe tbody tr th:only-of-type {\n",
       "        vertical-align: middle;\n",
       "    }\n",
       "\n",
       "    .dataframe tbody tr th {\n",
       "        vertical-align: top;\n",
       "    }\n",
       "\n",
       "    .dataframe thead th {\n",
       "        text-align: right;\n",
       "    }\n",
       "</style>\n",
       "<table border=\"1\" class=\"dataframe\">\n",
       "  <thead>\n",
       "    <tr style=\"text-align: right;\">\n",
       "      <th></th>\n",
       "      <th>age</th>\n",
       "      <th>hypertension</th>\n",
       "      <th>heart_disease</th>\n",
       "      <th>bmi</th>\n",
       "      <th>HbA1c_level</th>\n",
       "      <th>blood_glucose_level</th>\n",
       "      <th>diabetes</th>\n",
       "      <th>gender_Female</th>\n",
       "      <th>gender_Male</th>\n",
       "      <th>gender_Other</th>\n",
       "      <th>smoking_history_No Info</th>\n",
       "      <th>smoking_history_current</th>\n",
       "      <th>smoking_history_ever</th>\n",
       "      <th>smoking_history_former</th>\n",
       "      <th>smoking_history_never</th>\n",
       "      <th>smoking_history_not current</th>\n",
       "    </tr>\n",
       "  </thead>\n",
       "  <tbody>\n",
       "    <tr>\n",
       "      <th>0</th>\n",
       "      <td>80.0</td>\n",
       "      <td>0</td>\n",
       "      <td>1</td>\n",
       "      <td>25.19</td>\n",
       "      <td>6.6</td>\n",
       "      <td>140</td>\n",
       "      <td>0</td>\n",
       "      <td>True</td>\n",
       "      <td>False</td>\n",
       "      <td>False</td>\n",
       "      <td>False</td>\n",
       "      <td>False</td>\n",
       "      <td>False</td>\n",
       "      <td>False</td>\n",
       "      <td>True</td>\n",
       "      <td>False</td>\n",
       "    </tr>\n",
       "    <tr>\n",
       "      <th>1</th>\n",
       "      <td>54.0</td>\n",
       "      <td>0</td>\n",
       "      <td>0</td>\n",
       "      <td>27.32</td>\n",
       "      <td>6.6</td>\n",
       "      <td>80</td>\n",
       "      <td>0</td>\n",
       "      <td>True</td>\n",
       "      <td>False</td>\n",
       "      <td>False</td>\n",
       "      <td>True</td>\n",
       "      <td>False</td>\n",
       "      <td>False</td>\n",
       "      <td>False</td>\n",
       "      <td>False</td>\n",
       "      <td>False</td>\n",
       "    </tr>\n",
       "    <tr>\n",
       "      <th>2</th>\n",
       "      <td>28.0</td>\n",
       "      <td>0</td>\n",
       "      <td>0</td>\n",
       "      <td>27.32</td>\n",
       "      <td>5.7</td>\n",
       "      <td>158</td>\n",
       "      <td>0</td>\n",
       "      <td>False</td>\n",
       "      <td>True</td>\n",
       "      <td>False</td>\n",
       "      <td>False</td>\n",
       "      <td>False</td>\n",
       "      <td>False</td>\n",
       "      <td>False</td>\n",
       "      <td>True</td>\n",
       "      <td>False</td>\n",
       "    </tr>\n",
       "    <tr>\n",
       "      <th>3</th>\n",
       "      <td>36.0</td>\n",
       "      <td>0</td>\n",
       "      <td>0</td>\n",
       "      <td>23.45</td>\n",
       "      <td>5.0</td>\n",
       "      <td>155</td>\n",
       "      <td>0</td>\n",
       "      <td>True</td>\n",
       "      <td>False</td>\n",
       "      <td>False</td>\n",
       "      <td>False</td>\n",
       "      <td>True</td>\n",
       "      <td>False</td>\n",
       "      <td>False</td>\n",
       "      <td>False</td>\n",
       "      <td>False</td>\n",
       "    </tr>\n",
       "    <tr>\n",
       "      <th>4</th>\n",
       "      <td>76.0</td>\n",
       "      <td>1</td>\n",
       "      <td>1</td>\n",
       "      <td>20.14</td>\n",
       "      <td>4.8</td>\n",
       "      <td>155</td>\n",
       "      <td>0</td>\n",
       "      <td>False</td>\n",
       "      <td>True</td>\n",
       "      <td>False</td>\n",
       "      <td>False</td>\n",
       "      <td>True</td>\n",
       "      <td>False</td>\n",
       "      <td>False</td>\n",
       "      <td>False</td>\n",
       "      <td>False</td>\n",
       "    </tr>\n",
       "    <tr>\n",
       "      <th>...</th>\n",
       "      <td>...</td>\n",
       "      <td>...</td>\n",
       "      <td>...</td>\n",
       "      <td>...</td>\n",
       "      <td>...</td>\n",
       "      <td>...</td>\n",
       "      <td>...</td>\n",
       "      <td>...</td>\n",
       "      <td>...</td>\n",
       "      <td>...</td>\n",
       "      <td>...</td>\n",
       "      <td>...</td>\n",
       "      <td>...</td>\n",
       "      <td>...</td>\n",
       "      <td>...</td>\n",
       "      <td>...</td>\n",
       "    </tr>\n",
       "    <tr>\n",
       "      <th>99995</th>\n",
       "      <td>80.0</td>\n",
       "      <td>0</td>\n",
       "      <td>0</td>\n",
       "      <td>27.32</td>\n",
       "      <td>6.2</td>\n",
       "      <td>90</td>\n",
       "      <td>0</td>\n",
       "      <td>True</td>\n",
       "      <td>False</td>\n",
       "      <td>False</td>\n",
       "      <td>True</td>\n",
       "      <td>False</td>\n",
       "      <td>False</td>\n",
       "      <td>False</td>\n",
       "      <td>False</td>\n",
       "      <td>False</td>\n",
       "    </tr>\n",
       "    <tr>\n",
       "      <th>99996</th>\n",
       "      <td>2.0</td>\n",
       "      <td>0</td>\n",
       "      <td>0</td>\n",
       "      <td>17.37</td>\n",
       "      <td>6.5</td>\n",
       "      <td>100</td>\n",
       "      <td>0</td>\n",
       "      <td>True</td>\n",
       "      <td>False</td>\n",
       "      <td>False</td>\n",
       "      <td>True</td>\n",
       "      <td>False</td>\n",
       "      <td>False</td>\n",
       "      <td>False</td>\n",
       "      <td>False</td>\n",
       "      <td>False</td>\n",
       "    </tr>\n",
       "    <tr>\n",
       "      <th>99997</th>\n",
       "      <td>66.0</td>\n",
       "      <td>0</td>\n",
       "      <td>0</td>\n",
       "      <td>27.83</td>\n",
       "      <td>5.7</td>\n",
       "      <td>155</td>\n",
       "      <td>0</td>\n",
       "      <td>False</td>\n",
       "      <td>True</td>\n",
       "      <td>False</td>\n",
       "      <td>False</td>\n",
       "      <td>False</td>\n",
       "      <td>False</td>\n",
       "      <td>True</td>\n",
       "      <td>False</td>\n",
       "      <td>False</td>\n",
       "    </tr>\n",
       "    <tr>\n",
       "      <th>99998</th>\n",
       "      <td>24.0</td>\n",
       "      <td>0</td>\n",
       "      <td>0</td>\n",
       "      <td>35.42</td>\n",
       "      <td>4.0</td>\n",
       "      <td>100</td>\n",
       "      <td>0</td>\n",
       "      <td>True</td>\n",
       "      <td>False</td>\n",
       "      <td>False</td>\n",
       "      <td>False</td>\n",
       "      <td>False</td>\n",
       "      <td>False</td>\n",
       "      <td>False</td>\n",
       "      <td>True</td>\n",
       "      <td>False</td>\n",
       "    </tr>\n",
       "    <tr>\n",
       "      <th>99999</th>\n",
       "      <td>57.0</td>\n",
       "      <td>0</td>\n",
       "      <td>0</td>\n",
       "      <td>22.43</td>\n",
       "      <td>6.6</td>\n",
       "      <td>90</td>\n",
       "      <td>0</td>\n",
       "      <td>True</td>\n",
       "      <td>False</td>\n",
       "      <td>False</td>\n",
       "      <td>False</td>\n",
       "      <td>True</td>\n",
       "      <td>False</td>\n",
       "      <td>False</td>\n",
       "      <td>False</td>\n",
       "      <td>False</td>\n",
       "    </tr>\n",
       "  </tbody>\n",
       "</table>\n",
       "<p>100000 rows × 16 columns</p>\n",
       "</div>"
      ],
      "text/plain": [
       "        age  hypertension  heart_disease    bmi  HbA1c_level  \\\n",
       "0      80.0             0              1  25.19          6.6   \n",
       "1      54.0             0              0  27.32          6.6   \n",
       "2      28.0             0              0  27.32          5.7   \n",
       "3      36.0             0              0  23.45          5.0   \n",
       "4      76.0             1              1  20.14          4.8   \n",
       "...     ...           ...            ...    ...          ...   \n",
       "99995  80.0             0              0  27.32          6.2   \n",
       "99996   2.0             0              0  17.37          6.5   \n",
       "99997  66.0             0              0  27.83          5.7   \n",
       "99998  24.0             0              0  35.42          4.0   \n",
       "99999  57.0             0              0  22.43          6.6   \n",
       "\n",
       "       blood_glucose_level  diabetes  gender_Female  gender_Male  \\\n",
       "0                      140         0           True        False   \n",
       "1                       80         0           True        False   \n",
       "2                      158         0          False         True   \n",
       "3                      155         0           True        False   \n",
       "4                      155         0          False         True   \n",
       "...                    ...       ...            ...          ...   \n",
       "99995                   90         0           True        False   \n",
       "99996                  100         0           True        False   \n",
       "99997                  155         0          False         True   \n",
       "99998                  100         0           True        False   \n",
       "99999                   90         0           True        False   \n",
       "\n",
       "       gender_Other  smoking_history_No Info  smoking_history_current  \\\n",
       "0             False                    False                    False   \n",
       "1             False                     True                    False   \n",
       "2             False                    False                    False   \n",
       "3             False                    False                     True   \n",
       "4             False                    False                     True   \n",
       "...             ...                      ...                      ...   \n",
       "99995         False                     True                    False   \n",
       "99996         False                     True                    False   \n",
       "99997         False                    False                    False   \n",
       "99998         False                    False                    False   \n",
       "99999         False                    False                     True   \n",
       "\n",
       "       smoking_history_ever  smoking_history_former  smoking_history_never  \\\n",
       "0                     False                   False                   True   \n",
       "1                     False                   False                  False   \n",
       "2                     False                   False                   True   \n",
       "3                     False                   False                  False   \n",
       "4                     False                   False                  False   \n",
       "...                     ...                     ...                    ...   \n",
       "99995                 False                   False                  False   \n",
       "99996                 False                   False                  False   \n",
       "99997                 False                    True                  False   \n",
       "99998                 False                   False                   True   \n",
       "99999                 False                   False                  False   \n",
       "\n",
       "       smoking_history_not current  \n",
       "0                            False  \n",
       "1                            False  \n",
       "2                            False  \n",
       "3                            False  \n",
       "4                            False  \n",
       "...                            ...  \n",
       "99995                        False  \n",
       "99996                        False  \n",
       "99997                        False  \n",
       "99998                        False  \n",
       "99999                        False  \n",
       "\n",
       "[100000 rows x 16 columns]"
      ]
     },
     "execution_count": 8,
     "metadata": {},
     "output_type": "execute_result"
    }
   ],
   "source": [
    "data=pd.get_dummies(data,dtype=int)\n",
    "data"
   ]
  },
  {
   "cell_type": "code",
   "execution_count": null,
   "id": "e2fe6b8c",
   "metadata": {},
   "outputs": [],
   "source": [
    "x=data.drop(\"diabetes\",axis=1)\n",
    "y=data[\"diabetes\"]"
   ]
  },
  {
   "cell_type": "code",
   "execution_count": null,
   "id": "3226f320",
   "metadata": {},
   "outputs": [],
   "source": [
    "x_train,x_test,y_train,y_test=train_test_split(x,y,test_size=0.3,stratify=y,random_state=42)\n"
   ]
  },
  {
   "cell_type": "code",
   "execution_count": null,
   "id": "53c8defd",
   "metadata": {},
   "outputs": [
    {
     "name": "stderr",
     "output_type": "stream",
     "text": [
      "G:\\Jupter\\lib\\site-packages\\sklearn\\utils\\validation.py:623: FutureWarning: is_sparse is deprecated and will be removed in a future version. Check `isinstance(dtype, pd.SparseDtype)` instead.\n",
      "  if not hasattr(array, \"sparse\") and array.dtypes.apply(is_sparse).any():\n"
     ]
    },
    {
     "data": {
      "text/plain": [
       "DecisionTreeClassifier(max_depth=5, random_state=42)"
      ]
     },
     "execution_count": 13,
     "metadata": {},
     "output_type": "execute_result"
    }
   ],
   "source": [
    "from sklearn import tree\n",
    "\n",
    "model=tree.DecisionTreeClassifier(max_depth=5,random_state=42)\n",
    "model.fit(x_train,y_train)"
   ]
  },
  {
   "cell_type": "code",
   "execution_count": null,
   "id": "c0ebdf09",
   "metadata": {},
   "outputs": [
    {
     "name": "stdout",
     "output_type": "stream",
     "text": [
      "accuracy=97.24%\n"
     ]
    },
    {
     "name": "stderr",
     "output_type": "stream",
     "text": [
      "G:\\Jupter\\lib\\site-packages\\sklearn\\utils\\validation.py:623: FutureWarning: is_sparse is deprecated and will be removed in a future version. Check `isinstance(dtype, pd.SparseDtype)` instead.\n",
      "  if not hasattr(array, \"sparse\") and array.dtypes.apply(is_sparse).any():\n"
     ]
    }
   ],
   "source": [
    "print(f\"accuracy={model.score(x_test,y_test)*100:0.2f}%\")"
   ]
  },
  {
   "cell_type": "code",
   "execution_count": null,
   "id": "85c1f885",
   "metadata": {},
   "outputs": [
    {
     "name": "stdout",
     "output_type": "stream",
     "text": [
      "|--- feature_4 <= 6.70\n",
      "|   |--- feature_5 <= 210.00\n",
      "|   |   |--- feature_0 <= 53.50\n",
      "|   |   |   |--- feature_3 <= 32.69\n",
      "|   |   |   |   |--- feature_1 <= 0.50\n",
      "|   |   |   |   |   |--- class: 0\n",
      "|   |   |   |   |--- feature_1 >  0.50\n",
      "|   |   |   |   |   |--- class: 0\n",
      "|   |   |   |--- feature_3 >  32.69\n",
      "|   |   |   |   |--- feature_4 <= 5.35\n",
      "|   |   |   |   |   |--- class: 0\n",
      "|   |   |   |   |--- feature_4 >  5.35\n",
      "|   |   |   |   |   |--- class: 0\n",
      "|   |   |--- feature_0 >  53.50\n",
      "|   |   |   |--- feature_4 <= 5.35\n",
      "|   |   |   |   |--- class: 0\n",
      "|   |   |   |--- feature_4 >  5.35\n",
      "|   |   |   |   |--- feature_5 <= 113.00\n",
      "|   |   |   |   |   |--- class: 0\n",
      "|   |   |   |   |--- feature_5 >  113.00\n",
      "|   |   |   |   |   |--- class: 0\n",
      "|   |--- feature_5 >  210.00\n",
      "|   |   |--- class: 1\n",
      "|--- feature_4 >  6.70\n",
      "|   |--- class: 1\n",
      "\n"
     ]
    }
   ],
   "source": [
    "text_represention=tree.export_text(model)\n",
    "print(text_represention)"
   ]
  },
  {
   "cell_type": "code",
   "execution_count": null,
   "id": "c8860cab",
   "metadata": {},
   "outputs": [
    {
     "data": {
      "image/png": "[encoded data removed]",
      "text/plain": [
       "<Figure size 1000x1000 with 1 Axes>"
      ]
     },
     "metadata": {},
     "output_type": "display_data"
    }
   ],
   "source": [
    "plt.figure(figsize=(10,10))\n",
    "tree.plot_tree(model,max_depth=5)\n",
    "plt.show()"
   ]
  },
  {
   "cell_type": "code",
   "execution_count": null,
   "id": "8d53fb81",
   "metadata": {},
   "outputs": [],
   "source": [
    "# Here is the End Project"
   ]
  }
 ],
 "metadata": {
  "kernelspec": {
   "display_name": "Python 3 (ipykernel)",
   "language": "python",
   "name": "python3"
  },
  "language_info": {
   "codemirror_mode": {
    "name": "ipython",
    "version": 3
   },
   "file_extension": ".py",
   "mimetype": "text/x-python",
   "name": "python",
   "nbconvert_exporter": "python",
   "pygments_lexer": "ipython3",
   "version": "3.9.13"
  }
 },
 "nbformat": 4,
 "nbformat_minor": 5
}
