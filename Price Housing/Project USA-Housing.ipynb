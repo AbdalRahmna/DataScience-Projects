{
 "cells": [
  {
   "cell_type": "code",
   "execution_count": 1,
   "id": "8486b509",
   "metadata": {},
   "outputs": [],
   "source": [
    "import pandas as pd\n",
    "import numpy as np\n",
    "import seaborn as sns\n",
    "import matplotlib.pyplot as plt\n",
    "from sklearn.feature_selection import VarianceThreshold , SelectKBest ,f_classif\n",
    "from sklearn.impute import SimpleImputer\n",
    "from sklearn.base import TransformerMixin ,BaseEstimator\n",
    "from sklearn.feature_selection import mutual_info_classif\n",
    "from sklearn.model_selection import train_test_split\n",
    "from sklearn.ensemble import RandomForestRegressor\n",
    "from sklearn.preprocessing import LabelEncoder\n",
    "\n"
   ]
  },
  {
   "cell_type": "code",
   "execution_count": 2,
   "id": "c93d8bef",
   "metadata": {},
   "outputs": [
    {
     "data": {
      "text/html": [
       "<div>\n",
       "<style scoped>\n",
       "    .dataframe tbody tr th:only-of-type {\n",
       "        vertical-align: middle;\n",
       "    }\n",
       "\n",
       "    .dataframe tbody tr th {\n",
       "        vertical-align: top;\n",
       "    }\n",
       "\n",
       "    .dataframe thead th {\n",
       "        text-align: right;\n",
       "    }\n",
       "</style>\n",
       "<table border=\"1\" class=\"dataframe\">\n",
       "  <thead>\n",
       "    <tr style=\"text-align: right;\">\n",
       "      <th></th>\n",
       "      <th>Avg. Area Income</th>\n",
       "      <th>Avg. Area House Age</th>\n",
       "      <th>Avg. Area Number of Rooms</th>\n",
       "      <th>Avg. Area Number of Bedrooms</th>\n",
       "      <th>Area Population</th>\n",
       "      <th>Price</th>\n",
       "      <th>Address</th>\n",
       "    </tr>\n",
       "  </thead>\n",
       "  <tbody>\n",
       "    <tr>\n",
       "      <th>0</th>\n",
       "      <td>79545.458574</td>\n",
       "      <td>5.682861</td>\n",
       "      <td>7.009188</td>\n",
       "      <td>4.09</td>\n",
       "      <td>23086.800503</td>\n",
       "      <td>1.059034e+06</td>\n",
       "      <td>208 Michael Ferry Apt. 674\\nLaurabury, NE 3701...</td>\n",
       "    </tr>\n",
       "    <tr>\n",
       "      <th>1</th>\n",
       "      <td>79248.642455</td>\n",
       "      <td>6.002900</td>\n",
       "      <td>6.730821</td>\n",
       "      <td>3.09</td>\n",
       "      <td>40173.072174</td>\n",
       "      <td>1.505891e+06</td>\n",
       "      <td>188 Johnson Views Suite 079\\nLake Kathleen, CA...</td>\n",
       "    </tr>\n",
       "    <tr>\n",
       "      <th>2</th>\n",
       "      <td>61287.067179</td>\n",
       "      <td>5.865890</td>\n",
       "      <td>8.512727</td>\n",
       "      <td>5.13</td>\n",
       "      <td>36882.159400</td>\n",
       "      <td>1.058988e+06</td>\n",
       "      <td>9127 Elizabeth Stravenue\\nDanieltown, WI 06482...</td>\n",
       "    </tr>\n",
       "    <tr>\n",
       "      <th>3</th>\n",
       "      <td>63345.240046</td>\n",
       "      <td>7.188236</td>\n",
       "      <td>5.586729</td>\n",
       "      <td>3.26</td>\n",
       "      <td>34310.242831</td>\n",
       "      <td>1.260617e+06</td>\n",
       "      <td>USS Barnett\\nFPO AP 44820</td>\n",
       "    </tr>\n",
       "    <tr>\n",
       "      <th>4</th>\n",
       "      <td>59982.197226</td>\n",
       "      <td>5.040555</td>\n",
       "      <td>7.839388</td>\n",
       "      <td>4.23</td>\n",
       "      <td>26354.109472</td>\n",
       "      <td>6.309435e+05</td>\n",
       "      <td>USNS Raymond\\nFPO AE 09386</td>\n",
       "    </tr>\n",
       "  </tbody>\n",
       "</table>\n",
       "</div>"
      ],
      "text/plain": [
       "   Avg. Area Income  Avg. Area House Age  Avg. Area Number of Rooms  \\\n",
       "0      79545.458574             5.682861                   7.009188   \n",
       "1      79248.642455             6.002900                   6.730821   \n",
       "2      61287.067179             5.865890                   8.512727   \n",
       "3      63345.240046             7.188236                   5.586729   \n",
       "4      59982.197226             5.040555                   7.839388   \n",
       "\n",
       "   Avg. Area Number of Bedrooms  Area Population         Price  \\\n",
       "0                          4.09     23086.800503  1.059034e+06   \n",
       "1                          3.09     40173.072174  1.505891e+06   \n",
       "2                          5.13     36882.159400  1.058988e+06   \n",
       "3                          3.26     34310.242831  1.260617e+06   \n",
       "4                          4.23     26354.109472  6.309435e+05   \n",
       "\n",
       "                                             Address  \n",
       "0  208 Michael Ferry Apt. 674\\nLaurabury, NE 3701...  \n",
       "1  188 Johnson Views Suite 079\\nLake Kathleen, CA...  \n",
       "2  9127 Elizabeth Stravenue\\nDanieltown, WI 06482...  \n",
       "3                          USS Barnett\\nFPO AP 44820  \n",
       "4                         USNS Raymond\\nFPO AE 09386  "
      ]
     },
     "execution_count": 2,
     "metadata": {},
     "output_type": "execute_result"
    }
   ],
   "source": [
    "data=pd.read_csv(\"USA_Housing.csv\")\n",
    "data.head()"
   ]
  },
  {
   "cell_type": "code",
   "execution_count": 3,
   "id": "24d10026",
   "metadata": {},
   "outputs": [
    {
     "name": "stdout",
     "output_type": "stream",
     "text": [
      "<class 'pandas.core.frame.DataFrame'>\n",
      "RangeIndex: 5000 entries, 0 to 4999\n",
      "Data columns (total 7 columns):\n",
      " #   Column                        Non-Null Count  Dtype  \n",
      "---  ------                        --------------  -----  \n",
      " 0   Avg. Area Income              5000 non-null   float64\n",
      " 1   Avg. Area House Age           5000 non-null   float64\n",
      " 2   Avg. Area Number of Rooms     5000 non-null   float64\n",
      " 3   Avg. Area Number of Bedrooms  5000 non-null   float64\n",
      " 4   Area Population               5000 non-null   float64\n",
      " 5   Price                         5000 non-null   float64\n",
      " 6   Address                       5000 non-null   object \n",
      "dtypes: float64(6), object(1)\n",
      "memory usage: 273.6+ KB\n"
     ]
    }
   ],
   "source": [
    "data.info()"
   ]
  },
  {
   "cell_type": "code",
   "execution_count": 4,
   "id": "74d9d703",
   "metadata": {},
   "outputs": [
    {
     "data": {
      "text/html": [
       "<div>\n",
       "<style scoped>\n",
       "    .dataframe tbody tr th:only-of-type {\n",
       "        vertical-align: middle;\n",
       "    }\n",
       "\n",
       "    .dataframe tbody tr th {\n",
       "        vertical-align: top;\n",
       "    }\n",
       "\n",
       "    .dataframe thead th {\n",
       "        text-align: right;\n",
       "    }\n",
       "</style>\n",
       "<table border=\"1\" class=\"dataframe\">\n",
       "  <thead>\n",
       "    <tr style=\"text-align: right;\">\n",
       "      <th></th>\n",
       "      <th>Avg. Area Income</th>\n",
       "      <th>Avg. Area House Age</th>\n",
       "      <th>Avg. Area Number of Rooms</th>\n",
       "      <th>Avg. Area Number of Bedrooms</th>\n",
       "      <th>Area Population</th>\n",
       "      <th>Price</th>\n",
       "    </tr>\n",
       "  </thead>\n",
       "  <tbody>\n",
       "    <tr>\n",
       "      <th>count</th>\n",
       "      <td>5000.000000</td>\n",
       "      <td>5000.000000</td>\n",
       "      <td>5000.000000</td>\n",
       "      <td>5000.000000</td>\n",
       "      <td>5000.000000</td>\n",
       "      <td>5.000000e+03</td>\n",
       "    </tr>\n",
       "    <tr>\n",
       "      <th>mean</th>\n",
       "      <td>68583.108984</td>\n",
       "      <td>5.977222</td>\n",
       "      <td>6.987792</td>\n",
       "      <td>3.981330</td>\n",
       "      <td>36163.516039</td>\n",
       "      <td>1.232073e+06</td>\n",
       "    </tr>\n",
       "    <tr>\n",
       "      <th>std</th>\n",
       "      <td>10657.991214</td>\n",
       "      <td>0.991456</td>\n",
       "      <td>1.005833</td>\n",
       "      <td>1.234137</td>\n",
       "      <td>9925.650114</td>\n",
       "      <td>3.531176e+05</td>\n",
       "    </tr>\n",
       "    <tr>\n",
       "      <th>min</th>\n",
       "      <td>17796.631190</td>\n",
       "      <td>2.644304</td>\n",
       "      <td>3.236194</td>\n",
       "      <td>2.000000</td>\n",
       "      <td>172.610686</td>\n",
       "      <td>1.593866e+04</td>\n",
       "    </tr>\n",
       "    <tr>\n",
       "      <th>25%</th>\n",
       "      <td>61480.562388</td>\n",
       "      <td>5.322283</td>\n",
       "      <td>6.299250</td>\n",
       "      <td>3.140000</td>\n",
       "      <td>29403.928702</td>\n",
       "      <td>9.975771e+05</td>\n",
       "    </tr>\n",
       "    <tr>\n",
       "      <th>50%</th>\n",
       "      <td>68804.286404</td>\n",
       "      <td>5.970429</td>\n",
       "      <td>7.002902</td>\n",
       "      <td>4.050000</td>\n",
       "      <td>36199.406689</td>\n",
       "      <td>1.232669e+06</td>\n",
       "    </tr>\n",
       "    <tr>\n",
       "      <th>75%</th>\n",
       "      <td>75783.338666</td>\n",
       "      <td>6.650808</td>\n",
       "      <td>7.665871</td>\n",
       "      <td>4.490000</td>\n",
       "      <td>42861.290769</td>\n",
       "      <td>1.471210e+06</td>\n",
       "    </tr>\n",
       "    <tr>\n",
       "      <th>max</th>\n",
       "      <td>107701.748378</td>\n",
       "      <td>9.519088</td>\n",
       "      <td>10.759588</td>\n",
       "      <td>6.500000</td>\n",
       "      <td>69621.713378</td>\n",
       "      <td>2.469066e+06</td>\n",
       "    </tr>\n",
       "  </tbody>\n",
       "</table>\n",
       "</div>"
      ],
      "text/plain": [
       "       Avg. Area Income  Avg. Area House Age  Avg. Area Number of Rooms  \\\n",
       "count       5000.000000          5000.000000                5000.000000   \n",
       "mean       68583.108984             5.977222                   6.987792   \n",
       "std        10657.991214             0.991456                   1.005833   \n",
       "min        17796.631190             2.644304                   3.236194   \n",
       "25%        61480.562388             5.322283                   6.299250   \n",
       "50%        68804.286404             5.970429                   7.002902   \n",
       "75%        75783.338666             6.650808                   7.665871   \n",
       "max       107701.748378             9.519088                  10.759588   \n",
       "\n",
       "       Avg. Area Number of Bedrooms  Area Population         Price  \n",
       "count                   5000.000000      5000.000000  5.000000e+03  \n",
       "mean                       3.981330     36163.516039  1.232073e+06  \n",
       "std                        1.234137      9925.650114  3.531176e+05  \n",
       "min                        2.000000       172.610686  1.593866e+04  \n",
       "25%                        3.140000     29403.928702  9.975771e+05  \n",
       "50%                        4.050000     36199.406689  1.232669e+06  \n",
       "75%                        4.490000     42861.290769  1.471210e+06  \n",
       "max                        6.500000     69621.713378  2.469066e+06  "
      ]
     },
     "execution_count": 4,
     "metadata": {},
     "output_type": "execute_result"
    }
   ],
   "source": [
    "data.describe()"
   ]
  },
  {
   "cell_type": "code",
   "execution_count": 5,
   "id": "3e48cae9",
   "metadata": {},
   "outputs": [
    {
     "data": {
      "text/plain": [
       "Avg. Area Income                float64\n",
       "Avg. Area House Age             float64\n",
       "Avg. Area Number of Rooms       float64\n",
       "Avg. Area Number of Bedrooms    float64\n",
       "Area Population                 float64\n",
       "Price                           float64\n",
       "Address                          object\n",
       "dtype: object"
      ]
     },
     "execution_count": 5,
     "metadata": {},
     "output_type": "execute_result"
    }
   ],
   "source": [
    "data.dtypes"
   ]
  },
  {
   "cell_type": "code",
   "execution_count": 6,
   "id": "e5f782ea",
   "metadata": {},
   "outputs": [
    {
     "data": {
      "text/plain": [
       "Index([], dtype='object')"
      ]
     },
     "execution_count": 6,
     "metadata": {},
     "output_type": "execute_result"
    }
   ],
   "source": [
    "discrete=data.select_dtypes(include=[\"int64\"]).columns\n",
    "discrete"
   ]
  },
  {
   "cell_type": "code",
   "execution_count": 7,
   "id": "47e2e29a",
   "metadata": {},
   "outputs": [
    {
     "data": {
      "text/plain": [
       "Index(['Avg. Area Income', 'Avg. Area House Age', 'Avg. Area Number of Rooms',\n",
       "       'Avg. Area Number of Bedrooms', 'Area Population', 'Price'],\n",
       "      dtype='object')"
      ]
     },
     "execution_count": 7,
     "metadata": {},
     "output_type": "execute_result"
    }
   ],
   "source": [
    "continous=data.select_dtypes(include=[\"float64\"]).columns\n",
    "continous"
   ]
  },
  {
   "cell_type": "code",
   "execution_count": 8,
   "id": "6ac193fe",
   "metadata": {},
   "outputs": [
    {
     "data": {
      "text/plain": [
       "Index(['Address'], dtype='object')"
      ]
     },
     "execution_count": 8,
     "metadata": {},
     "output_type": "execute_result"
    }
   ],
   "source": [
    "objected=data.select_dtypes(\"object\").columns\n",
    "objected"
   ]
  },
  {
   "cell_type": "code",
   "execution_count": 9,
   "id": "a9dd57f0",
   "metadata": {},
   "outputs": [
    {
     "data": {
      "text/plain": [
       "Address\n",
       "208 Michael Ferry Apt. 674\\nLaurabury, NE 37010-5101             1\n",
       "314 Christopher Square Apt. 404\\nLake Ronaldville, SD 42025      1\n",
       "21042 Wilson Islands Suite 238\\nFischerchester, MP 42425-4129    1\n",
       "Unit 8831 Box 5748\\nDPO AE 73012-7314                            1\n",
       "481 Kaitlin Mission Apt. 309\\nJodystad, IA 16947                 1\n",
       "PSC 3528, Box 7580\\nAPO AE 08696-0234                            1\n",
       "242 Mark Common Apt. 060\\nJohnside, SD 09329-2233                1\n",
       "94939 John Mill Apt. 765\\nNew Scott, KS 61292                    1\n",
       "89265 Robert Haven Apt. 492\\nSmithburgh, FM 58565-1105           1\n",
       "93529 Bartlett Ridges\\nLeeview, AS 96540-6448                    1\n",
       "Name: count, dtype: int64"
      ]
     },
     "execution_count": 9,
     "metadata": {},
     "output_type": "execute_result"
    }
   ],
   "source": [
    "data[\"Address\"].value_counts().head(10)"
   ]
  },
  {
   "cell_type": "code",
   "execution_count": 10,
   "id": "3813303b",
   "metadata": {},
   "outputs": [
    {
     "data": {
      "text/plain": [
       "<seaborn.axisgrid.FacetGrid at 0x7fe4399416d0>"
      ]
     },
     "execution_count": 10,
     "metadata": {},
     "output_type": "execute_result"
    },
    {
     "data": {
      "image/png": "[encoded data removed]",
      "text/plain": [
       "<Figure size 500x500 with 1 Axes>"
      ]
     },
     "metadata": {},
     "output_type": "display_data"
    }
   ],
   "source": [
    "sns.displot(data[\"Area Population\"])"
   ]
  },
  {
   "cell_type": "code",
   "execution_count": 11,
   "id": "44ac8e6e",
   "metadata": {},
   "outputs": [
    {
     "data": {
      "text/plain": [
       "<Axes: xlabel='Avg. Area House Age', ylabel='Density'>"
      ]
     },
     "execution_count": 11,
     "metadata": {},
     "output_type": "execute_result"
    },
    {
     "data": {
      "image/png": "[encoded data removed]",
      "text/plain": [
       "<Figure size 640x480 with 1 Axes>"
      ]
     },
     "metadata": {},
     "output_type": "display_data"
    }
   ],
   "source": [
    "sns.kdeplot(data[\"Avg. Area House Age\"],fill=True)"
   ]
  },
  {
   "cell_type": "code",
   "execution_count": 12,
   "id": "5f323497",
   "metadata": {},
   "outputs": [
    {
     "data": {
      "text/plain": [
       "<Axes: ylabel='Density'>"
      ]
     },
     "execution_count": 12,
     "metadata": {},
     "output_type": "execute_result"
    },
    {
     "data": {
      "image/png": "[encoded data removed]",
      "text/plain": [
       "<Figure size 640x480 with 1 Axes>"
      ]
     },
     "metadata": {},
     "output_type": "display_data"
    }
   ],
   "source": [
    "data.groupby([\"Avg. Area Number of Bedrooms\"])[\"Price\"].mean().sort_values(ascending=True).plot(kind=\"kde\",legend=True)"
   ]
  },
  {
   "cell_type": "code",
   "execution_count": 13,
   "id": "e4fe2b81-4d47-4d3d-b967-f5e6154ceaa7",
   "metadata": {},
   "outputs": [
    {
     "data": {
      "text/html": [
       "<div>\n",
       "<style scoped>\n",
       "    .dataframe tbody tr th:only-of-type {\n",
       "        vertical-align: middle;\n",
       "    }\n",
       "\n",
       "    .dataframe tbody tr th {\n",
       "        vertical-align: top;\n",
       "    }\n",
       "\n",
       "    .dataframe thead th {\n",
       "        text-align: right;\n",
       "    }\n",
       "</style>\n",
       "<table border=\"1\" class=\"dataframe\">\n",
       "  <thead>\n",
       "    <tr style=\"text-align: right;\">\n",
       "      <th></th>\n",
       "      <th>Avg. Area Income</th>\n",
       "      <th>Avg. Area House Age</th>\n",
       "      <th>Avg. Area Number of Rooms</th>\n",
       "      <th>Avg. Area Number of Bedrooms</th>\n",
       "      <th>Area Population</th>\n",
       "      <th>Price</th>\n",
       "      <th>Address</th>\n",
       "    </tr>\n",
       "  </thead>\n",
       "  <tbody>\n",
       "    <tr>\n",
       "      <th>0</th>\n",
       "      <td>4253</td>\n",
       "      <td>1942</td>\n",
       "      <td>2512</td>\n",
       "      <td>111</td>\n",
       "      <td>468</td>\n",
       "      <td>1563</td>\n",
       "      <td>962</td>\n",
       "    </tr>\n",
       "    <tr>\n",
       "      <th>1</th>\n",
       "      <td>4223</td>\n",
       "      <td>2565</td>\n",
       "      <td>1972</td>\n",
       "      <td>60</td>\n",
       "      <td>3274</td>\n",
       "      <td>3890</td>\n",
       "      <td>863</td>\n",
       "    </tr>\n",
       "    <tr>\n",
       "      <th>2</th>\n",
       "      <td>1221</td>\n",
       "      <td>2298</td>\n",
       "      <td>4689</td>\n",
       "      <td>166</td>\n",
       "      <td>2642</td>\n",
       "      <td>1562</td>\n",
       "      <td>4069</td>\n",
       "    </tr>\n",
       "    <tr>\n",
       "      <th>3</th>\n",
       "      <td>1572</td>\n",
       "      <td>4446</td>\n",
       "      <td>412</td>\n",
       "      <td>77</td>\n",
       "      <td>2122</td>\n",
       "      <td>2671</td>\n",
       "      <td>4794</td>\n",
       "    </tr>\n",
       "    <tr>\n",
       "      <th>4</th>\n",
       "      <td>1037</td>\n",
       "      <td>854</td>\n",
       "      <td>3992</td>\n",
       "      <td>125</td>\n",
       "      <td>827</td>\n",
       "      <td>225</td>\n",
       "      <td>4736</td>\n",
       "    </tr>\n",
       "    <tr>\n",
       "      <th>...</th>\n",
       "      <td>...</td>\n",
       "      <td>...</td>\n",
       "      <td>...</td>\n",
       "      <td>...</td>\n",
       "      <td>...</td>\n",
       "      <td>...</td>\n",
       "      <td>...</td>\n",
       "    </tr>\n",
       "    <tr>\n",
       "      <th>4995</th>\n",
       "      <td>1108</td>\n",
       "      <td>4847</td>\n",
       "      <td>1011</td>\n",
       "      <td>97</td>\n",
       "      <td>440</td>\n",
       "      <td>1570</td>\n",
       "      <td>4750</td>\n",
       "    </tr>\n",
       "    <tr>\n",
       "      <th>4996</th>\n",
       "      <td>4135</td>\n",
       "      <td>4223</td>\n",
       "      <td>1685</td>\n",
       "      <td>104</td>\n",
       "      <td>735</td>\n",
       "      <td>3798</td>\n",
       "      <td>4636</td>\n",
       "    </tr>\n",
       "    <tr>\n",
       "      <th>4997</th>\n",
       "      <td>1581</td>\n",
       "      <td>4506</td>\n",
       "      <td>87</td>\n",
       "      <td>13</td>\n",
       "      <td>1941</td>\n",
       "      <td>1411</td>\n",
       "      <td>1897</td>\n",
       "    </tr>\n",
       "    <tr>\n",
       "      <th>4998</th>\n",
       "      <td>2363</td>\n",
       "      <td>1644</td>\n",
       "      <td>2758</td>\n",
       "      <td>197</td>\n",
       "      <td>3707</td>\n",
       "      <td>2308</td>\n",
       "      <td>4833</td>\n",
       "    </tr>\n",
       "    <tr>\n",
       "      <th>4999</th>\n",
       "      <td>1923</td>\n",
       "      <td>2539</td>\n",
       "      <td>2083</td>\n",
       "      <td>109</td>\n",
       "      <td>4283</td>\n",
       "      <td>2879</td>\n",
       "      <td>1703</td>\n",
       "    </tr>\n",
       "  </tbody>\n",
       "</table>\n",
       "<p>5000 rows × 7 columns</p>\n",
       "</div>"
      ],
      "text/plain": [
       "      Avg. Area Income  Avg. Area House Age  Avg. Area Number of Rooms  \\\n",
       "0                 4253                 1942                       2512   \n",
       "1                 4223                 2565                       1972   \n",
       "2                 1221                 2298                       4689   \n",
       "3                 1572                 4446                        412   \n",
       "4                 1037                  854                       3992   \n",
       "...                ...                  ...                        ...   \n",
       "4995              1108                 4847                       1011   \n",
       "4996              4135                 4223                       1685   \n",
       "4997              1581                 4506                         87   \n",
       "4998              2363                 1644                       2758   \n",
       "4999              1923                 2539                       2083   \n",
       "\n",
       "      Avg. Area Number of Bedrooms  Area Population  Price  Address  \n",
       "0                              111              468   1563      962  \n",
       "1                               60             3274   3890      863  \n",
       "2                              166             2642   1562     4069  \n",
       "3                               77             2122   2671     4794  \n",
       "4                              125              827    225     4736  \n",
       "...                            ...              ...    ...      ...  \n",
       "4995                            97              440   1570     4750  \n",
       "4996                           104              735   3798     4636  \n",
       "4997                            13             1941   1411     1897  \n",
       "4998                           197             3707   2308     4833  \n",
       "4999                           109             4283   2879     1703  \n",
       "\n",
       "[5000 rows x 7 columns]"
      ]
     },
     "execution_count": 13,
     "metadata": {},
     "output_type": "execute_result"
    }
   ],
   "source": [
    "#convert all categorical (object_data) into Numerical data:\n",
    "label_encoder=LabelEncoder()\n",
    "for col in data.columns:\n",
    "    data[col]=label_encoder.fit_transform(data[col])\n",
    "data    "
   ]
  },
  {
   "cell_type": "code",
   "execution_count": 14,
   "id": "b8e4d909",
   "metadata": {},
   "outputs": [
    {
     "data": {
      "text/plain": [
       "Avg. Area Income                0.0\n",
       "Avg. Area House Age             0.0\n",
       "Avg. Area Number of Rooms       0.0\n",
       "Avg. Area Number of Bedrooms    0.0\n",
       "Area Population                 0.0\n",
       "Price                           0.0\n",
       "Address                         0.0\n",
       "dtype: float64"
      ]
     },
     "execution_count": 14,
     "metadata": {},
     "output_type": "execute_result"
    }
   ],
   "source": [
    "data.isna().mean()"
   ]
  },
  {
   "cell_type": "code",
   "execution_count": 15,
   "id": "aa9ea61b",
   "metadata": {},
   "outputs": [],
   "source": [
    "data=data.fillna({\n",
    "    \"Area Population\":data[\"Area Population\"].median(),\n",
    "    \"Avg. Area Income\":data[\"Avg. Area Income\"].median()\n",
    "                 })"
   ]
  },
  {
   "cell_type": "code",
   "execution_count": 16,
   "id": "9927495d",
   "metadata": {},
   "outputs": [
    {
     "data": {
      "text/plain": [
       "Avg. Area Income                0\n",
       "Avg. Area House Age             0\n",
       "Avg. Area Number of Rooms       0\n",
       "Avg. Area Number of Bedrooms    0\n",
       "Area Population                 0\n",
       "Price                           0\n",
       "Address                         0\n",
       "dtype: int64"
      ]
     },
     "execution_count": 16,
     "metadata": {},
     "output_type": "execute_result"
    }
   ],
   "source": [
    "data.isna().sum()"
   ]
  },
  {
   "cell_type": "code",
   "execution_count": 17,
   "id": "e21f2d6a",
   "metadata": {},
   "outputs": [
    {
     "data": {
      "text/html": [
       "<div>\n",
       "<style scoped>\n",
       "    .dataframe tbody tr th:only-of-type {\n",
       "        vertical-align: middle;\n",
       "    }\n",
       "\n",
       "    .dataframe tbody tr th {\n",
       "        vertical-align: top;\n",
       "    }\n",
       "\n",
       "    .dataframe thead th {\n",
       "        text-align: right;\n",
       "    }\n",
       "</style>\n",
       "<table border=\"1\" class=\"dataframe\">\n",
       "  <thead>\n",
       "    <tr style=\"text-align: right;\">\n",
       "      <th></th>\n",
       "      <th>Avg. Area Income</th>\n",
       "      <th>Avg. Area House Age</th>\n",
       "      <th>Avg. Area Number of Rooms</th>\n",
       "      <th>Avg. Area Number of Bedrooms</th>\n",
       "      <th>Area Population</th>\n",
       "      <th>Price</th>\n",
       "      <th>Address</th>\n",
       "    </tr>\n",
       "  </thead>\n",
       "  <tbody>\n",
       "    <tr>\n",
       "      <th>count</th>\n",
       "      <td>5000.000000</td>\n",
       "      <td>5000.000000</td>\n",
       "      <td>5000.000000</td>\n",
       "      <td>5000.000000</td>\n",
       "      <td>5000.000000</td>\n",
       "      <td>5000.000000</td>\n",
       "      <td>5000.000000</td>\n",
       "    </tr>\n",
       "    <tr>\n",
       "      <th>mean</th>\n",
       "      <td>2499.500000</td>\n",
       "      <td>2499.500000</td>\n",
       "      <td>2499.500000</td>\n",
       "      <td>113.245400</td>\n",
       "      <td>2499.500000</td>\n",
       "      <td>2499.500000</td>\n",
       "      <td>2499.500000</td>\n",
       "    </tr>\n",
       "    <tr>\n",
       "      <th>std</th>\n",
       "      <td>1443.520003</td>\n",
       "      <td>1443.520003</td>\n",
       "      <td>1443.520003</td>\n",
       "      <td>64.174484</td>\n",
       "      <td>1443.520003</td>\n",
       "      <td>1443.520003</td>\n",
       "      <td>1443.520003</td>\n",
       "    </tr>\n",
       "    <tr>\n",
       "      <th>min</th>\n",
       "      <td>0.000000</td>\n",
       "      <td>0.000000</td>\n",
       "      <td>0.000000</td>\n",
       "      <td>0.000000</td>\n",
       "      <td>0.000000</td>\n",
       "      <td>0.000000</td>\n",
       "      <td>0.000000</td>\n",
       "    </tr>\n",
       "    <tr>\n",
       "      <th>25%</th>\n",
       "      <td>1249.750000</td>\n",
       "      <td>1249.750000</td>\n",
       "      <td>1249.750000</td>\n",
       "      <td>65.000000</td>\n",
       "      <td>1249.750000</td>\n",
       "      <td>1249.750000</td>\n",
       "      <td>1249.750000</td>\n",
       "    </tr>\n",
       "    <tr>\n",
       "      <th>50%</th>\n",
       "      <td>2499.500000</td>\n",
       "      <td>2499.500000</td>\n",
       "      <td>2499.500000</td>\n",
       "      <td>107.000000</td>\n",
       "      <td>2499.500000</td>\n",
       "      <td>2499.500000</td>\n",
       "      <td>2499.500000</td>\n",
       "    </tr>\n",
       "    <tr>\n",
       "      <th>75%</th>\n",
       "      <td>3749.250000</td>\n",
       "      <td>3749.250000</td>\n",
       "      <td>3749.250000</td>\n",
       "      <td>151.000000</td>\n",
       "      <td>3749.250000</td>\n",
       "      <td>3749.250000</td>\n",
       "      <td>3749.250000</td>\n",
       "    </tr>\n",
       "    <tr>\n",
       "      <th>max</th>\n",
       "      <td>4999.000000</td>\n",
       "      <td>4999.000000</td>\n",
       "      <td>4999.000000</td>\n",
       "      <td>254.000000</td>\n",
       "      <td>4999.000000</td>\n",
       "      <td>4999.000000</td>\n",
       "      <td>4999.000000</td>\n",
       "    </tr>\n",
       "  </tbody>\n",
       "</table>\n",
       "</div>"
      ],
      "text/plain": [
       "       Avg. Area Income  Avg. Area House Age  Avg. Area Number of Rooms  \\\n",
       "count       5000.000000          5000.000000                5000.000000   \n",
       "mean        2499.500000          2499.500000                2499.500000   \n",
       "std         1443.520003          1443.520003                1443.520003   \n",
       "min            0.000000             0.000000                   0.000000   \n",
       "25%         1249.750000          1249.750000                1249.750000   \n",
       "50%         2499.500000          2499.500000                2499.500000   \n",
       "75%         3749.250000          3749.250000                3749.250000   \n",
       "max         4999.000000          4999.000000                4999.000000   \n",
       "\n",
       "       Avg. Area Number of Bedrooms  Area Population        Price      Address  \n",
       "count                   5000.000000      5000.000000  5000.000000  5000.000000  \n",
       "mean                     113.245400      2499.500000  2499.500000  2499.500000  \n",
       "std                       64.174484      1443.520003  1443.520003  1443.520003  \n",
       "min                        0.000000         0.000000     0.000000     0.000000  \n",
       "25%                       65.000000      1249.750000  1249.750000  1249.750000  \n",
       "50%                      107.000000      2499.500000  2499.500000  2499.500000  \n",
       "75%                      151.000000      3749.250000  3749.250000  3749.250000  \n",
       "max                      254.000000      4999.000000  4999.000000  4999.000000  "
      ]
     },
     "execution_count": 17,
     "metadata": {},
     "output_type": "execute_result"
    }
   ],
   "source": [
    "data.describe()"
   ]
  },
  {
   "cell_type": "code",
   "execution_count": 18,
   "id": "ca6b960a",
   "metadata": {},
   "outputs": [
    {
     "data": {
      "text/plain": [
       "<Axes: xlabel='Area Population'>"
      ]
     },
     "execution_count": 18,
     "metadata": {},
     "output_type": "execute_result"
    },
    {
     "data": {
      "image/png": "[encoded data removed]",
      "text/plain": [
       "<Figure size 640x480 with 1 Axes>"
      ]
     },
     "metadata": {},
     "output_type": "display_data"
    }
   ],
   "source": [
    "# check the outliers in Area population:\n",
    "\n",
    "sns.boxplot(x=data[\"Area Population\"])\n",
    "# there in this column alittle outlier"
   ]
  },
  {
   "cell_type": "code",
   "execution_count": 19,
   "id": "42f623d4",
   "metadata": {},
   "outputs": [
    {
     "data": {
      "text/plain": [
       "<Axes: xlabel='Area Population'>"
      ]
     },
     "execution_count": 19,
     "metadata": {},
     "output_type": "execute_result"
    },
    {
     "data": {
      "image/png": "[encoded data removed]",
      "text/plain": [
       "<Figure size 640x480 with 1 Axes>"
      ]
     },
     "metadata": {},
     "output_type": "display_data"
    }
   ],
   "source": [
    "sns.scatterplot(x=data[\"Area Population\"],y=np.zeros_like(data[\"Area Population\"]))"
   ]
  },
  {
   "cell_type": "code",
   "execution_count": 20,
   "id": "8ab51eaf",
   "metadata": {},
   "outputs": [
    {
     "data": {
      "text/plain": [
       "<Axes: xlabel='Avg. Area Income'>"
      ]
     },
     "execution_count": 20,
     "metadata": {},
     "output_type": "execute_result"
    },
    {
     "data": {
      "image/png": "[encoded data removed]",
      "text/plain": [
       "<Figure size 640x480 with 1 Axes>"
      ]
     },
     "metadata": {},
     "output_type": "display_data"
    }
   ],
   "source": [
    "sns.boxplot(x=data[\"Avg. Area Income\"])\n",
    "# there alittle outliers:"
   ]
  },
  {
   "cell_type": "code",
   "execution_count": 21,
   "id": "a49dcb5e",
   "metadata": {},
   "outputs": [
    {
     "data": {
      "text/plain": [
       "<Axes: xlabel='Avg. Area Income'>"
      ]
     },
     "execution_count": 21,
     "metadata": {},
     "output_type": "execute_result"
    },
    {
     "data": {
      "image/png": "[encoded data removed]",
      "text/plain": [
       "<Figure size 640x480 with 1 Axes>"
      ]
     },
     "metadata": {},
     "output_type": "display_data"
    }
   ],
   "source": [
    "sns.scatterplot(x=data[\"Avg. Area Income\"],y=np.zeros_like(data[\"Area Population\"]))"
   ]
  },
  {
   "cell_type": "code",
   "execution_count": 22,
   "id": "2ebcb1a6",
   "metadata": {},
   "outputs": [],
   "source": [
    "# calc the outlier for Avg.Area income:\n",
    "\n",
    "Q1,Q3=data[\"Avg. Area Income\"].quantile([0.25,0.75])\n",
    "IQR=Q3-Q1\n",
    "low_limit=Q1-1.5*IQR\n",
    "upper_limit=Q3+1.5*IQR\n",
    "\n",
    "outlier=[]\n",
    "\n",
    "for x in data[\"Avg. Area Income\"]:\n",
    "    if((x<low_limit) or (x>upper_limit)):\n",
    "        outlier.append(x)"
   ]
  },
  {
   "cell_type": "code",
   "execution_count": 23,
   "id": "2d401a3e",
   "metadata": {},
   "outputs": [
    {
     "name": "stdout",
     "output_type": "stream",
     "text": [
      "Q1_Avg. Area Income 1249.75\n",
      "Q3_Avg. Area Income 3749.25\n",
      "IQR_Avg. Area Income 2499.5\n",
      "low_limit_Avg. Area Income -2499.5\n",
      "upper_limit_Avg. Area Income 7498.5\n",
      "outliers_Avg. Area Income []\n"
     ]
    }
   ],
   "source": [
    "print(\"Q1_Avg. Area Income\",Q1)\n",
    "print(\"Q3_Avg. Area Income\",Q3)\n",
    "print(\"IQR_Avg. Area Income\",IQR)\n",
    "print(\"low_limit_Avg. Area Income\",low_limit)\n",
    "print(\"upper_limit_Avg. Area Income\",upper_limit)\n",
    "print(\"outliers_Avg. Area Income\",outlier)"
   ]
  },
  {
   "cell_type": "code",
   "execution_count": 24,
   "id": "a247f965",
   "metadata": {},
   "outputs": [
    {
     "data": {
      "text/plain": [
       "0"
      ]
     },
     "execution_count": 24,
     "metadata": {},
     "output_type": "execute_result"
    }
   ],
   "source": [
    "len(outlier)"
   ]
  },
  {
   "cell_type": "code",
   "execution_count": 25,
   "id": "7f527f2a",
   "metadata": {},
   "outputs": [
    {
     "data": {
      "text/plain": [
       "Index(['Avg. Area Income', 'Avg. Area House Age', 'Avg. Area Number of Rooms',\n",
       "       'Avg. Area Number of Bedrooms', 'Area Population', 'Price', 'Address'],\n",
       "      dtype='object')"
      ]
     },
     "execution_count": 25,
     "metadata": {},
     "output_type": "execute_result"
    }
   ],
   "source": [
    "num_cols=data.select_dtypes(\"number\").columns\n",
    "num_cols"
   ]
  },
  {
   "cell_type": "code",
   "execution_count": 26,
   "id": "84006366",
   "metadata": {},
   "outputs": [
    {
     "data": {
      "text/plain": [
       "array([0, 1, 2, 3, 4, 5, 6])"
      ]
     },
     "execution_count": 26,
     "metadata": {},
     "output_type": "execute_result"
    }
   ],
   "source": [
    "selector=VarianceThreshold(threshold=0.01)\n",
    "selector.fit(data.select_dtypes(\"number\"))\n",
    "selector.get_support(indices=True)"
   ]
  },
  {
   "cell_type": "code",
   "execution_count": 27,
   "id": "1da6c456",
   "metadata": {},
   "outputs": [
    {
     "data": {
      "text/plain": [
       "Index(['Avg. Area Income', 'Avg. Area House Age', 'Avg. Area Number of Rooms',\n",
       "       'Avg. Area Number of Bedrooms', 'Area Population', 'Price', 'Address'],\n",
       "      dtype='object')"
      ]
     },
     "execution_count": 27,
     "metadata": {},
     "output_type": "execute_result"
    }
   ],
   "source": [
    "num_cols[selector.get_support(indices=True)]"
   ]
  },
  {
   "cell_type": "code",
   "execution_count": 28,
   "id": "b93fce23",
   "metadata": {},
   "outputs": [
    {
     "name": "stdout",
     "output_type": "stream",
     "text": [
      "0\n"
     ]
    },
    {
     "data": {
      "text/html": [
       "<div>\n",
       "<style scoped>\n",
       "    .dataframe tbody tr th:only-of-type {\n",
       "        vertical-align: middle;\n",
       "    }\n",
       "\n",
       "    .dataframe tbody tr th {\n",
       "        vertical-align: top;\n",
       "    }\n",
       "\n",
       "    .dataframe thead th {\n",
       "        text-align: right;\n",
       "    }\n",
       "</style>\n",
       "<table border=\"1\" class=\"dataframe\">\n",
       "  <thead>\n",
       "    <tr style=\"text-align: right;\">\n",
       "      <th></th>\n",
       "      <th>Avg. Area Income</th>\n",
       "      <th>Avg. Area House Age</th>\n",
       "      <th>Avg. Area Number of Rooms</th>\n",
       "      <th>Avg. Area Number of Bedrooms</th>\n",
       "      <th>Area Population</th>\n",
       "      <th>Price</th>\n",
       "      <th>Address</th>\n",
       "    </tr>\n",
       "  </thead>\n",
       "  <tbody>\n",
       "    <tr>\n",
       "      <th>0</th>\n",
       "      <td>4253</td>\n",
       "      <td>1942</td>\n",
       "      <td>2512</td>\n",
       "      <td>111</td>\n",
       "      <td>468</td>\n",
       "      <td>1563</td>\n",
       "      <td>962</td>\n",
       "    </tr>\n",
       "    <tr>\n",
       "      <th>1</th>\n",
       "      <td>4223</td>\n",
       "      <td>2565</td>\n",
       "      <td>1972</td>\n",
       "      <td>60</td>\n",
       "      <td>3274</td>\n",
       "      <td>3890</td>\n",
       "      <td>863</td>\n",
       "    </tr>\n",
       "    <tr>\n",
       "      <th>2</th>\n",
       "      <td>1221</td>\n",
       "      <td>2298</td>\n",
       "      <td>4689</td>\n",
       "      <td>166</td>\n",
       "      <td>2642</td>\n",
       "      <td>1562</td>\n",
       "      <td>4069</td>\n",
       "    </tr>\n",
       "    <tr>\n",
       "      <th>3</th>\n",
       "      <td>1572</td>\n",
       "      <td>4446</td>\n",
       "      <td>412</td>\n",
       "      <td>77</td>\n",
       "      <td>2122</td>\n",
       "      <td>2671</td>\n",
       "      <td>4794</td>\n",
       "    </tr>\n",
       "    <tr>\n",
       "      <th>4</th>\n",
       "      <td>1037</td>\n",
       "      <td>854</td>\n",
       "      <td>3992</td>\n",
       "      <td>125</td>\n",
       "      <td>827</td>\n",
       "      <td>225</td>\n",
       "      <td>4736</td>\n",
       "    </tr>\n",
       "    <tr>\n",
       "      <th>...</th>\n",
       "      <td>...</td>\n",
       "      <td>...</td>\n",
       "      <td>...</td>\n",
       "      <td>...</td>\n",
       "      <td>...</td>\n",
       "      <td>...</td>\n",
       "      <td>...</td>\n",
       "    </tr>\n",
       "    <tr>\n",
       "      <th>4995</th>\n",
       "      <td>1108</td>\n",
       "      <td>4847</td>\n",
       "      <td>1011</td>\n",
       "      <td>97</td>\n",
       "      <td>440</td>\n",
       "      <td>1570</td>\n",
       "      <td>4750</td>\n",
       "    </tr>\n",
       "    <tr>\n",
       "      <th>4996</th>\n",
       "      <td>4135</td>\n",
       "      <td>4223</td>\n",
       "      <td>1685</td>\n",
       "      <td>104</td>\n",
       "      <td>735</td>\n",
       "      <td>3798</td>\n",
       "      <td>4636</td>\n",
       "    </tr>\n",
       "    <tr>\n",
       "      <th>4997</th>\n",
       "      <td>1581</td>\n",
       "      <td>4506</td>\n",
       "      <td>87</td>\n",
       "      <td>13</td>\n",
       "      <td>1941</td>\n",
       "      <td>1411</td>\n",
       "      <td>1897</td>\n",
       "    </tr>\n",
       "    <tr>\n",
       "      <th>4998</th>\n",
       "      <td>2363</td>\n",
       "      <td>1644</td>\n",
       "      <td>2758</td>\n",
       "      <td>197</td>\n",
       "      <td>3707</td>\n",
       "      <td>2308</td>\n",
       "      <td>4833</td>\n",
       "    </tr>\n",
       "    <tr>\n",
       "      <th>4999</th>\n",
       "      <td>1923</td>\n",
       "      <td>2539</td>\n",
       "      <td>2083</td>\n",
       "      <td>109</td>\n",
       "      <td>4283</td>\n",
       "      <td>2879</td>\n",
       "      <td>1703</td>\n",
       "    </tr>\n",
       "  </tbody>\n",
       "</table>\n",
       "<p>5000 rows × 7 columns</p>\n",
       "</div>"
      ],
      "text/plain": [
       "      Avg. Area Income  Avg. Area House Age  Avg. Area Number of Rooms  \\\n",
       "0                 4253                 1942                       2512   \n",
       "1                 4223                 2565                       1972   \n",
       "2                 1221                 2298                       4689   \n",
       "3                 1572                 4446                        412   \n",
       "4                 1037                  854                       3992   \n",
       "...                ...                  ...                        ...   \n",
       "4995              1108                 4847                       1011   \n",
       "4996              4135                 4223                       1685   \n",
       "4997              1581                 4506                         87   \n",
       "4998              2363                 1644                       2758   \n",
       "4999              1923                 2539                       2083   \n",
       "\n",
       "      Avg. Area Number of Bedrooms  Area Population  Price  Address  \n",
       "0                              111              468   1563      962  \n",
       "1                               60             3274   3890      863  \n",
       "2                              166             2642   1562     4069  \n",
       "3                               77             2122   2671     4794  \n",
       "4                              125              827    225     4736  \n",
       "...                            ...              ...    ...      ...  \n",
       "4995                            97              440   1570     4750  \n",
       "4996                           104              735   3798     4636  \n",
       "4997                            13             1941   1411     1897  \n",
       "4998                           197             3707   2308     4833  \n",
       "4999                           109             4283   2879     1703  \n",
       "\n",
       "[5000 rows x 7 columns]"
      ]
     },
     "execution_count": 28,
     "metadata": {},
     "output_type": "execute_result"
    }
   ],
   "source": [
    "df=data.T\n",
    "duplicates_features=df.duplicated().sum()\n",
    "print(duplicates_features)\n",
    "data.drop_duplicates()"
   ]
  },
  {
   "cell_type": "code",
   "execution_count": 29,
   "id": "6be4e2a8",
   "metadata": {},
   "outputs": [
    {
     "name": "stderr",
     "output_type": "stream",
     "text": [
      "/home/abdalrahman/.local/lib/python3.8/site-packages/sklearn/feature_selection/_univariate_selection.py:109: RuntimeWarning: invalid value encountered in divide\n",
      "  msw = sswn / float(dfwn)\n"
     ]
    },
    {
     "data": {
      "text/html": [
       "<style>#sk-container-id-1 {color: black;}#sk-container-id-1 pre{padding: 0;}#sk-container-id-1 div.sk-toggleable {background-color: white;}#sk-container-id-1 label.sk-toggleable__label {cursor: pointer;display: block;width: 100%;margin-bottom: 0;padding: 0.3em;box-sizing: border-box;text-align: center;}#sk-container-id-1 label.sk-toggleable__label-arrow:before {content: \"▸\";float: left;margin-right: 0.25em;color: #696969;}#sk-container-id-1 label.sk-toggleable__label-arrow:hover:before {color: black;}#sk-container-id-1 div.sk-estimator:hover label.sk-toggleable__label-arrow:before {color: black;}#sk-container-id-1 div.sk-toggleable__content {max-height: 0;max-width: 0;overflow: hidden;text-align: left;background-color: #f0f8ff;}#sk-container-id-1 div.sk-toggleable__content pre {margin: 0.2em;color: black;border-radius: 0.25em;background-color: #f0f8ff;}#sk-container-id-1 input.sk-toggleable__control:checked~div.sk-toggleable__content {max-height: 200px;max-width: 100%;overflow: auto;}#sk-container-id-1 input.sk-toggleable__control:checked~label.sk-toggleable__label-arrow:before {content: \"▾\";}#sk-container-id-1 div.sk-estimator input.sk-toggleable__control:checked~label.sk-toggleable__label {background-color: #d4ebff;}#sk-container-id-1 div.sk-label input.sk-toggleable__control:checked~label.sk-toggleable__label {background-color: #d4ebff;}#sk-container-id-1 input.sk-hidden--visually {border: 0;clip: rect(1px 1px 1px 1px);clip: rect(1px, 1px, 1px, 1px);height: 1px;margin: -1px;overflow: hidden;padding: 0;position: absolute;width: 1px;}#sk-container-id-1 div.sk-estimator {font-family: monospace;background-color: #f0f8ff;border: 1px dotted black;border-radius: 0.25em;box-sizing: border-box;margin-bottom: 0.5em;}#sk-container-id-1 div.sk-estimator:hover {background-color: #d4ebff;}#sk-container-id-1 div.sk-parallel-item::after {content: \"\";width: 100%;border-bottom: 1px solid gray;flex-grow: 1;}#sk-container-id-1 div.sk-label:hover label.sk-toggleable__label {background-color: #d4ebff;}#sk-container-id-1 div.sk-serial::before {content: \"\";position: absolute;border-left: 1px solid gray;box-sizing: border-box;top: 0;bottom: 0;left: 50%;z-index: 0;}#sk-container-id-1 div.sk-serial {display: flex;flex-direction: column;align-items: center;background-color: white;padding-right: 0.2em;padding-left: 0.2em;position: relative;}#sk-container-id-1 div.sk-item {position: relative;z-index: 1;}#sk-container-id-1 div.sk-parallel {display: flex;align-items: stretch;justify-content: center;background-color: white;position: relative;}#sk-container-id-1 div.sk-item::before, #sk-container-id-1 div.sk-parallel-item::before {content: \"\";position: absolute;border-left: 1px solid gray;box-sizing: border-box;top: 0;bottom: 0;left: 50%;z-index: -1;}#sk-container-id-1 div.sk-parallel-item {display: flex;flex-direction: column;z-index: 1;position: relative;background-color: white;}#sk-container-id-1 div.sk-parallel-item:first-child::after {align-self: flex-end;width: 50%;}#sk-container-id-1 div.sk-parallel-item:last-child::after {align-self: flex-start;width: 50%;}#sk-container-id-1 div.sk-parallel-item:only-child::after {width: 0;}#sk-container-id-1 div.sk-dashed-wrapped {border: 1px dashed gray;margin: 0 0.4em 0.5em 0.4em;box-sizing: border-box;padding-bottom: 0.4em;background-color: white;}#sk-container-id-1 div.sk-label label {font-family: monospace;font-weight: bold;display: inline-block;line-height: 1.2em;}#sk-container-id-1 div.sk-label-container {text-align: center;}#sk-container-id-1 div.sk-container {/* jupyter's `normalize.less` sets `[hidden] { display: none; }` but bootstrap.min.css set `[hidden] { display: none !important; }` so we also need the `!important` here to be able to override the default hidden behavior on the sphinx rendered scikit-learn.org. See: https://github.com/scikit-learn/scikit-learn/issues/21755 */display: inline-block !important;position: relative;}#sk-container-id-1 div.sk-text-repr-fallback {display: none;}</style><div id=\"sk-container-id-1\" class=\"sk-top-container\"><div class=\"sk-text-repr-fallback\"><pre>SelectKBest(k=5)</pre><b>In a Jupyter environment, please rerun this cell to show the HTML representation or trust the notebook. <br />On GitHub, the HTML representation is unable to render, please try loading this page with nbviewer.org.</b></div><div class=\"sk-container\" hidden><div class=\"sk-item\"><div class=\"sk-estimator sk-toggleable\"><input class=\"sk-toggleable__control sk-hidden--visually\" id=\"sk-estimator-id-1\" type=\"checkbox\" checked><label for=\"sk-estimator-id-1\" class=\"sk-toggleable__label sk-toggleable__label-arrow\">SelectKBest</label><div class=\"sk-toggleable__content\"><pre>SelectKBest(k=5)</pre></div></div></div></div></div>"
      ],
      "text/plain": [
       "SelectKBest(k=5)"
      ]
     },
     "execution_count": 29,
     "metadata": {},
     "output_type": "execute_result"
    }
   ],
   "source": [
    "from sklearn.feature_selection import SelectKBest ,f_classif\n",
    "\n",
    "fs=SelectKBest(score_func=f_classif,k=5)\n",
    "fs.fit(data.drop(columns=\"Avg. Area Income\").select_dtypes(\"number\").fillna(0),data[\"Avg. Area Income\"])\n"
   ]
  },
  {
   "cell_type": "code",
   "execution_count": 30,
   "id": "ae98a427",
   "metadata": {},
   "outputs": [
    {
     "name": "stdout",
     "output_type": "stream",
     "text": [
      "<generator object <genexpr> at 0x7fe434546f90>\n",
      "<generator object <genexpr> at 0x7fe434546f90>\n"
     ]
    }
   ],
   "source": [
    "print([\"{:10f}\"].format(p) for p in fs.pvalues_)\n",
    "print([\"{:10f}\"].format(p) for p in fs.scores_)"
   ]
  },
  {
   "cell_type": "code",
   "execution_count": 31,
   "id": "3df8eb55",
   "metadata": {},
   "outputs": [
    {
     "data": {
      "text/html": [
       "<div>\n",
       "<style scoped>\n",
       "    .dataframe tbody tr th:only-of-type {\n",
       "        vertical-align: middle;\n",
       "    }\n",
       "\n",
       "    .dataframe tbody tr th {\n",
       "        vertical-align: top;\n",
       "    }\n",
       "\n",
       "    .dataframe thead th {\n",
       "        text-align: right;\n",
       "    }\n",
       "</style>\n",
       "<table border=\"1\" class=\"dataframe\">\n",
       "  <thead>\n",
       "    <tr style=\"text-align: right;\">\n",
       "      <th></th>\n",
       "      <th>pvalues</th>\n",
       "      <th>scores</th>\n",
       "      <th>inputs</th>\n",
       "    </tr>\n",
       "  </thead>\n",
       "  <tbody>\n",
       "    <tr>\n",
       "      <th>0</th>\n",
       "      <td>NaN</td>\n",
       "      <td>NaN</td>\n",
       "      <td>Avg. Area House Age</td>\n",
       "    </tr>\n",
       "    <tr>\n",
       "      <th>1</th>\n",
       "      <td>NaN</td>\n",
       "      <td>NaN</td>\n",
       "      <td>Avg. Area Number of Rooms</td>\n",
       "    </tr>\n",
       "    <tr>\n",
       "      <th>2</th>\n",
       "      <td>NaN</td>\n",
       "      <td>NaN</td>\n",
       "      <td>Avg. Area Number of Bedrooms</td>\n",
       "    </tr>\n",
       "    <tr>\n",
       "      <th>3</th>\n",
       "      <td>NaN</td>\n",
       "      <td>NaN</td>\n",
       "      <td>Area Population</td>\n",
       "    </tr>\n",
       "    <tr>\n",
       "      <th>4</th>\n",
       "      <td>NaN</td>\n",
       "      <td>NaN</td>\n",
       "      <td>Price</td>\n",
       "    </tr>\n",
       "    <tr>\n",
       "      <th>5</th>\n",
       "      <td>NaN</td>\n",
       "      <td>NaN</td>\n",
       "      <td>Address</td>\n",
       "    </tr>\n",
       "  </tbody>\n",
       "</table>\n",
       "</div>"
      ],
      "text/plain": [
       "   pvalues  scores                        inputs\n",
       "0      NaN     NaN           Avg. Area House Age\n",
       "1      NaN     NaN     Avg. Area Number of Rooms\n",
       "2      NaN     NaN  Avg. Area Number of Bedrooms\n",
       "3      NaN     NaN               Area Population\n",
       "4      NaN     NaN                         Price\n",
       "5      NaN     NaN                       Address"
      ]
     },
     "execution_count": 31,
     "metadata": {},
     "output_type": "execute_result"
    }
   ],
   "source": [
    "pvalues_features=pd.DataFrame(fs.pvalues_)\n",
    "scores_features=pd.DataFrame(fs.scores_)\n",
    "features=pd.DataFrame(data.drop(columns=\"Avg. Area Income\").select_dtypes(\"number\").fillna(0).columns)\n",
    "feature_scores=pd.concat([pvalues_features,scores_features,features],axis=1)\n",
    "feature_scores.columns=[\"pvalues\",\"scores\",\"inputs\"]\n",
    "feature_scores"
   ]
  },
  {
   "cell_type": "code",
   "execution_count": 32,
   "id": "8c4f46d6",
   "metadata": {},
   "outputs": [
    {
     "data": {
      "text/html": [
       "<div>\n",
       "<style scoped>\n",
       "    .dataframe tbody tr th:only-of-type {\n",
       "        vertical-align: middle;\n",
       "    }\n",
       "\n",
       "    .dataframe tbody tr th {\n",
       "        vertical-align: top;\n",
       "    }\n",
       "\n",
       "    .dataframe thead th {\n",
       "        text-align: right;\n",
       "    }\n",
       "</style>\n",
       "<table border=\"1\" class=\"dataframe\">\n",
       "  <thead>\n",
       "    <tr style=\"text-align: right;\">\n",
       "      <th></th>\n",
       "      <th>Avg. Area Income</th>\n",
       "      <th>Avg. Area House Age</th>\n",
       "      <th>Avg. Area Number of Rooms</th>\n",
       "      <th>Avg. Area Number of Bedrooms</th>\n",
       "      <th>Area Population</th>\n",
       "      <th>Price</th>\n",
       "      <th>Address</th>\n",
       "    </tr>\n",
       "  </thead>\n",
       "  <tbody>\n",
       "    <tr>\n",
       "      <th>Avg. Area Income</th>\n",
       "      <td>1.000000</td>\n",
       "      <td>-0.001651</td>\n",
       "      <td>-0.018467</td>\n",
       "      <td>0.017602</td>\n",
       "      <td>-0.011165</td>\n",
       "      <td>0.619962</td>\n",
       "      <td>0.002989</td>\n",
       "    </tr>\n",
       "    <tr>\n",
       "      <th>Avg. Area House Age</th>\n",
       "      <td>-0.001651</td>\n",
       "      <td>1.000000</td>\n",
       "      <td>-0.005198</td>\n",
       "      <td>0.008656</td>\n",
       "      <td>-0.012077</td>\n",
       "      <td>0.442725</td>\n",
       "      <td>-0.009986</td>\n",
       "    </tr>\n",
       "    <tr>\n",
       "      <th>Avg. Area Number of Rooms</th>\n",
       "      <td>-0.018467</td>\n",
       "      <td>-0.005198</td>\n",
       "      <td>1.000000</td>\n",
       "      <td>0.490742</td>\n",
       "      <td>0.002518</td>\n",
       "      <td>0.317924</td>\n",
       "      <td>0.014251</td>\n",
       "    </tr>\n",
       "    <tr>\n",
       "      <th>Avg. Area Number of Bedrooms</th>\n",
       "      <td>0.017602</td>\n",
       "      <td>0.008656</td>\n",
       "      <td>0.490742</td>\n",
       "      <td>1.000000</td>\n",
       "      <td>-0.022816</td>\n",
       "      <td>0.164657</td>\n",
       "      <td>0.024041</td>\n",
       "    </tr>\n",
       "    <tr>\n",
       "      <th>Area Population</th>\n",
       "      <td>-0.011165</td>\n",
       "      <td>-0.012077</td>\n",
       "      <td>0.002518</td>\n",
       "      <td>-0.022816</td>\n",
       "      <td>1.000000</td>\n",
       "      <td>0.394649</td>\n",
       "      <td>0.019342</td>\n",
       "    </tr>\n",
       "    <tr>\n",
       "      <th>Price</th>\n",
       "      <td>0.619962</td>\n",
       "      <td>0.442725</td>\n",
       "      <td>0.317924</td>\n",
       "      <td>0.164657</td>\n",
       "      <td>0.394649</td>\n",
       "      <td>1.000000</td>\n",
       "      <td>0.016595</td>\n",
       "    </tr>\n",
       "    <tr>\n",
       "      <th>Address</th>\n",
       "      <td>0.002989</td>\n",
       "      <td>-0.009986</td>\n",
       "      <td>0.014251</td>\n",
       "      <td>0.024041</td>\n",
       "      <td>0.019342</td>\n",
       "      <td>0.016595</td>\n",
       "      <td>1.000000</td>\n",
       "    </tr>\n",
       "  </tbody>\n",
       "</table>\n",
       "</div>"
      ],
      "text/plain": [
       "                              Avg. Area Income  Avg. Area House Age  \\\n",
       "Avg. Area Income                      1.000000            -0.001651   \n",
       "Avg. Area House Age                  -0.001651             1.000000   \n",
       "Avg. Area Number of Rooms            -0.018467            -0.005198   \n",
       "Avg. Area Number of Bedrooms          0.017602             0.008656   \n",
       "Area Population                      -0.011165            -0.012077   \n",
       "Price                                 0.619962             0.442725   \n",
       "Address                               0.002989            -0.009986   \n",
       "\n",
       "                              Avg. Area Number of Rooms  \\\n",
       "Avg. Area Income                              -0.018467   \n",
       "Avg. Area House Age                           -0.005198   \n",
       "Avg. Area Number of Rooms                      1.000000   \n",
       "Avg. Area Number of Bedrooms                   0.490742   \n",
       "Area Population                                0.002518   \n",
       "Price                                          0.317924   \n",
       "Address                                        0.014251   \n",
       "\n",
       "                              Avg. Area Number of Bedrooms  Area Population  \\\n",
       "Avg. Area Income                                  0.017602        -0.011165   \n",
       "Avg. Area House Age                               0.008656        -0.012077   \n",
       "Avg. Area Number of Rooms                         0.490742         0.002518   \n",
       "Avg. Area Number of Bedrooms                      1.000000        -0.022816   \n",
       "Area Population                                  -0.022816         1.000000   \n",
       "Price                                             0.164657         0.394649   \n",
       "Address                                           0.024041         0.019342   \n",
       "\n",
       "                                 Price   Address  \n",
       "Avg. Area Income              0.619962  0.002989  \n",
       "Avg. Area House Age           0.442725 -0.009986  \n",
       "Avg. Area Number of Rooms     0.317924  0.014251  \n",
       "Avg. Area Number of Bedrooms  0.164657  0.024041  \n",
       "Area Population               0.394649  0.019342  \n",
       "Price                         1.000000  0.016595  \n",
       "Address                       0.016595  1.000000  "
      ]
     },
     "execution_count": 32,
     "metadata": {},
     "output_type": "execute_result"
    }
   ],
   "source": [
    "data.select_dtypes(\"number\").corr()"
   ]
  },
  {
   "cell_type": "code",
   "execution_count": 33,
   "id": "4e57fa3b",
   "metadata": {},
   "outputs": [
    {
     "data": {
      "text/plain": [
       "Text(0.5, 1.0, 'Correlation MAtrix Heatmap')"
      ]
     },
     "execution_count": 33,
     "metadata": {},
     "output_type": "execute_result"
    },
    {
     "data": {
      "image/png": "[encoded data removed]",
      "text/plain": [
       "<Figure size 640x480 with 2 Axes>"
      ]
     },
     "metadata": {},
     "output_type": "display_data"
    }
   ],
   "source": [
    "sns.heatmap(data.select_dtypes(\"number\").corr(),annot=True,fmt=\"0.2f\")\n",
    "plt.title(\"Correlation MAtrix Heatmap\")"
   ]
  },
  {
   "cell_type": "code",
   "execution_count": 34,
   "id": "3892e211",
   "metadata": {},
   "outputs": [
    {
     "data": {
      "text/html": [
       "<div>\n",
       "<style scoped>\n",
       "    .dataframe tbody tr th:only-of-type {\n",
       "        vertical-align: middle;\n",
       "    }\n",
       "\n",
       "    .dataframe tbody tr th {\n",
       "        vertical-align: top;\n",
       "    }\n",
       "\n",
       "    .dataframe thead th {\n",
       "        text-align: right;\n",
       "    }\n",
       "</style>\n",
       "<table border=\"1\" class=\"dataframe\">\n",
       "  <thead>\n",
       "    <tr style=\"text-align: right;\">\n",
       "      <th></th>\n",
       "      <th>Avg. Area Income</th>\n",
       "      <th>Avg. Area House Age</th>\n",
       "      <th>Avg. Area Number of Rooms</th>\n",
       "      <th>Avg. Area Number of Bedrooms</th>\n",
       "      <th>Area Population</th>\n",
       "      <th>Price</th>\n",
       "      <th>Address</th>\n",
       "    </tr>\n",
       "  </thead>\n",
       "  <tbody>\n",
       "    <tr>\n",
       "      <th>Avg. Area Income</th>\n",
       "      <td>1.000000</td>\n",
       "      <td>-0.001651</td>\n",
       "      <td>-0.018467</td>\n",
       "      <td>0.017602</td>\n",
       "      <td>-0.011165</td>\n",
       "      <td>0.619962</td>\n",
       "      <td>0.002989</td>\n",
       "    </tr>\n",
       "    <tr>\n",
       "      <th>Avg. Area House Age</th>\n",
       "      <td>-0.001651</td>\n",
       "      <td>1.000000</td>\n",
       "      <td>-0.005198</td>\n",
       "      <td>0.008656</td>\n",
       "      <td>-0.012077</td>\n",
       "      <td>0.442725</td>\n",
       "      <td>-0.009986</td>\n",
       "    </tr>\n",
       "    <tr>\n",
       "      <th>Avg. Area Number of Rooms</th>\n",
       "      <td>-0.018467</td>\n",
       "      <td>-0.005198</td>\n",
       "      <td>1.000000</td>\n",
       "      <td>0.490742</td>\n",
       "      <td>0.002518</td>\n",
       "      <td>0.317924</td>\n",
       "      <td>0.014251</td>\n",
       "    </tr>\n",
       "    <tr>\n",
       "      <th>Avg. Area Number of Bedrooms</th>\n",
       "      <td>0.017602</td>\n",
       "      <td>0.008656</td>\n",
       "      <td>0.490742</td>\n",
       "      <td>1.000000</td>\n",
       "      <td>-0.022816</td>\n",
       "      <td>0.164657</td>\n",
       "      <td>0.024041</td>\n",
       "    </tr>\n",
       "    <tr>\n",
       "      <th>Area Population</th>\n",
       "      <td>-0.011165</td>\n",
       "      <td>-0.012077</td>\n",
       "      <td>0.002518</td>\n",
       "      <td>-0.022816</td>\n",
       "      <td>1.000000</td>\n",
       "      <td>0.394649</td>\n",
       "      <td>0.019342</td>\n",
       "    </tr>\n",
       "    <tr>\n",
       "      <th>Price</th>\n",
       "      <td>0.619962</td>\n",
       "      <td>0.442725</td>\n",
       "      <td>0.317924</td>\n",
       "      <td>0.164657</td>\n",
       "      <td>0.394649</td>\n",
       "      <td>1.000000</td>\n",
       "      <td>0.016595</td>\n",
       "    </tr>\n",
       "    <tr>\n",
       "      <th>Address</th>\n",
       "      <td>0.002989</td>\n",
       "      <td>-0.009986</td>\n",
       "      <td>0.014251</td>\n",
       "      <td>0.024041</td>\n",
       "      <td>0.019342</td>\n",
       "      <td>0.016595</td>\n",
       "      <td>1.000000</td>\n",
       "    </tr>\n",
       "  </tbody>\n",
       "</table>\n",
       "</div>"
      ],
      "text/plain": [
       "                              Avg. Area Income  Avg. Area House Age  \\\n",
       "Avg. Area Income                      1.000000            -0.001651   \n",
       "Avg. Area House Age                  -0.001651             1.000000   \n",
       "Avg. Area Number of Rooms            -0.018467            -0.005198   \n",
       "Avg. Area Number of Bedrooms          0.017602             0.008656   \n",
       "Area Population                      -0.011165            -0.012077   \n",
       "Price                                 0.619962             0.442725   \n",
       "Address                               0.002989            -0.009986   \n",
       "\n",
       "                              Avg. Area Number of Rooms  \\\n",
       "Avg. Area Income                              -0.018467   \n",
       "Avg. Area House Age                           -0.005198   \n",
       "Avg. Area Number of Rooms                      1.000000   \n",
       "Avg. Area Number of Bedrooms                   0.490742   \n",
       "Area Population                                0.002518   \n",
       "Price                                          0.317924   \n",
       "Address                                        0.014251   \n",
       "\n",
       "                              Avg. Area Number of Bedrooms  Area Population  \\\n",
       "Avg. Area Income                                  0.017602        -0.011165   \n",
       "Avg. Area House Age                               0.008656        -0.012077   \n",
       "Avg. Area Number of Rooms                         0.490742         0.002518   \n",
       "Avg. Area Number of Bedrooms                      1.000000        -0.022816   \n",
       "Area Population                                  -0.022816         1.000000   \n",
       "Price                                             0.164657         0.394649   \n",
       "Address                                           0.024041         0.019342   \n",
       "\n",
       "                                 Price   Address  \n",
       "Avg. Area Income              0.619962  0.002989  \n",
       "Avg. Area House Age           0.442725 -0.009986  \n",
       "Avg. Area Number of Rooms     0.317924  0.014251  \n",
       "Avg. Area Number of Bedrooms  0.164657  0.024041  \n",
       "Area Population               0.394649  0.019342  \n",
       "Price                         1.000000  0.016595  \n",
       "Address                       0.016595  1.000000  "
      ]
     },
     "execution_count": 34,
     "metadata": {},
     "output_type": "execute_result"
    }
   ],
   "source": [
    "data.select_dtypes(\"number\").corr(method=\"pearson\")"
   ]
  },
  {
   "cell_type": "code",
   "execution_count": 35,
   "id": "40bfde7b",
   "metadata": {},
   "outputs": [
    {
     "data": {
      "text/html": [
       "<div>\n",
       "<style scoped>\n",
       "    .dataframe tbody tr th:only-of-type {\n",
       "        vertical-align: middle;\n",
       "    }\n",
       "\n",
       "    .dataframe tbody tr th {\n",
       "        vertical-align: top;\n",
       "    }\n",
       "\n",
       "    .dataframe thead th {\n",
       "        text-align: right;\n",
       "    }\n",
       "</style>\n",
       "<table border=\"1\" class=\"dataframe\">\n",
       "  <thead>\n",
       "    <tr style=\"text-align: right;\">\n",
       "      <th></th>\n",
       "      <th>Avg. Area Income</th>\n",
       "      <th>Avg. Area House Age</th>\n",
       "      <th>Avg. Area Number of Rooms</th>\n",
       "      <th>Avg. Area Number of Bedrooms</th>\n",
       "      <th>Area Population</th>\n",
       "      <th>Price</th>\n",
       "      <th>Address</th>\n",
       "    </tr>\n",
       "  </thead>\n",
       "  <tbody>\n",
       "    <tr>\n",
       "      <th>Avg. Area Income</th>\n",
       "      <td>1.000000</td>\n",
       "      <td>-0.001651</td>\n",
       "      <td>-0.018467</td>\n",
       "      <td>0.016115</td>\n",
       "      <td>-0.011165</td>\n",
       "      <td>0.619962</td>\n",
       "      <td>0.002989</td>\n",
       "    </tr>\n",
       "    <tr>\n",
       "      <th>Avg. Area House Age</th>\n",
       "      <td>-0.001651</td>\n",
       "      <td>1.000000</td>\n",
       "      <td>-0.005198</td>\n",
       "      <td>0.006941</td>\n",
       "      <td>-0.012077</td>\n",
       "      <td>0.442725</td>\n",
       "      <td>-0.009986</td>\n",
       "    </tr>\n",
       "    <tr>\n",
       "      <th>Avg. Area Number of Rooms</th>\n",
       "      <td>-0.018467</td>\n",
       "      <td>-0.005198</td>\n",
       "      <td>1.000000</td>\n",
       "      <td>0.474590</td>\n",
       "      <td>0.002518</td>\n",
       "      <td>0.317924</td>\n",
       "      <td>0.014251</td>\n",
       "    </tr>\n",
       "    <tr>\n",
       "      <th>Avg. Area Number of Bedrooms</th>\n",
       "      <td>0.016115</td>\n",
       "      <td>0.006941</td>\n",
       "      <td>0.474590</td>\n",
       "      <td>1.000000</td>\n",
       "      <td>-0.022362</td>\n",
       "      <td>0.158173</td>\n",
       "      <td>0.026001</td>\n",
       "    </tr>\n",
       "    <tr>\n",
       "      <th>Area Population</th>\n",
       "      <td>-0.011165</td>\n",
       "      <td>-0.012077</td>\n",
       "      <td>0.002518</td>\n",
       "      <td>-0.022362</td>\n",
       "      <td>1.000000</td>\n",
       "      <td>0.394649</td>\n",
       "      <td>0.019342</td>\n",
       "    </tr>\n",
       "    <tr>\n",
       "      <th>Price</th>\n",
       "      <td>0.619962</td>\n",
       "      <td>0.442725</td>\n",
       "      <td>0.317924</td>\n",
       "      <td>0.158173</td>\n",
       "      <td>0.394649</td>\n",
       "      <td>1.000000</td>\n",
       "      <td>0.016595</td>\n",
       "    </tr>\n",
       "    <tr>\n",
       "      <th>Address</th>\n",
       "      <td>0.002989</td>\n",
       "      <td>-0.009986</td>\n",
       "      <td>0.014251</td>\n",
       "      <td>0.026001</td>\n",
       "      <td>0.019342</td>\n",
       "      <td>0.016595</td>\n",
       "      <td>1.000000</td>\n",
       "    </tr>\n",
       "  </tbody>\n",
       "</table>\n",
       "</div>"
      ],
      "text/plain": [
       "                              Avg. Area Income  Avg. Area House Age  \\\n",
       "Avg. Area Income                      1.000000            -0.001651   \n",
       "Avg. Area House Age                  -0.001651             1.000000   \n",
       "Avg. Area Number of Rooms            -0.018467            -0.005198   \n",
       "Avg. Area Number of Bedrooms          0.016115             0.006941   \n",
       "Area Population                      -0.011165            -0.012077   \n",
       "Price                                 0.619962             0.442725   \n",
       "Address                               0.002989            -0.009986   \n",
       "\n",
       "                              Avg. Area Number of Rooms  \\\n",
       "Avg. Area Income                              -0.018467   \n",
       "Avg. Area House Age                           -0.005198   \n",
       "Avg. Area Number of Rooms                      1.000000   \n",
       "Avg. Area Number of Bedrooms                   0.474590   \n",
       "Area Population                                0.002518   \n",
       "Price                                          0.317924   \n",
       "Address                                        0.014251   \n",
       "\n",
       "                              Avg. Area Number of Bedrooms  Area Population  \\\n",
       "Avg. Area Income                                  0.016115        -0.011165   \n",
       "Avg. Area House Age                               0.006941        -0.012077   \n",
       "Avg. Area Number of Rooms                         0.474590         0.002518   \n",
       "Avg. Area Number of Bedrooms                      1.000000        -0.022362   \n",
       "Area Population                                  -0.022362         1.000000   \n",
       "Price                                             0.158173         0.394649   \n",
       "Address                                           0.026001         0.019342   \n",
       "\n",
       "                                 Price   Address  \n",
       "Avg. Area Income              0.619962  0.002989  \n",
       "Avg. Area House Age           0.442725 -0.009986  \n",
       "Avg. Area Number of Rooms     0.317924  0.014251  \n",
       "Avg. Area Number of Bedrooms  0.158173  0.026001  \n",
       "Area Population               0.394649  0.019342  \n",
       "Price                         1.000000  0.016595  \n",
       "Address                       0.016595  1.000000  "
      ]
     },
     "execution_count": 35,
     "metadata": {},
     "output_type": "execute_result"
    }
   ],
   "source": [
    "data.select_dtypes(\"number\").corr(method=\"spearman\")"
   ]
  },
  {
   "cell_type": "code",
   "execution_count": 36,
   "id": "2d3e9362",
   "metadata": {},
   "outputs": [
    {
     "data": {
      "text/html": [
       "<div>\n",
       "<style scoped>\n",
       "    .dataframe tbody tr th:only-of-type {\n",
       "        vertical-align: middle;\n",
       "    }\n",
       "\n",
       "    .dataframe tbody tr th {\n",
       "        vertical-align: top;\n",
       "    }\n",
       "\n",
       "    .dataframe thead th {\n",
       "        text-align: right;\n",
       "    }\n",
       "</style>\n",
       "<table border=\"1\" class=\"dataframe\">\n",
       "  <thead>\n",
       "    <tr style=\"text-align: right;\">\n",
       "      <th></th>\n",
       "      <th>Avg. Area Income</th>\n",
       "      <th>Avg. Area House Age</th>\n",
       "      <th>Avg. Area Number of Rooms</th>\n",
       "      <th>Avg. Area Number of Bedrooms</th>\n",
       "      <th>Area Population</th>\n",
       "      <th>Price</th>\n",
       "      <th>Address</th>\n",
       "    </tr>\n",
       "  </thead>\n",
       "  <tbody>\n",
       "    <tr>\n",
       "      <th>Avg. Area Income</th>\n",
       "      <td>1.000000</td>\n",
       "      <td>-0.000949</td>\n",
       "      <td>-0.012423</td>\n",
       "      <td>0.010662</td>\n",
       "      <td>-0.007498</td>\n",
       "      <td>0.440770</td>\n",
       "      <td>0.001905</td>\n",
       "    </tr>\n",
       "    <tr>\n",
       "      <th>Avg. Area House Age</th>\n",
       "      <td>-0.000949</td>\n",
       "      <td>1.000000</td>\n",
       "      <td>-0.003426</td>\n",
       "      <td>0.004646</td>\n",
       "      <td>-0.007987</td>\n",
       "      <td>0.303467</td>\n",
       "      <td>-0.006691</td>\n",
       "    </tr>\n",
       "    <tr>\n",
       "      <th>Avg. Area Number of Rooms</th>\n",
       "      <td>-0.012423</td>\n",
       "      <td>-0.003426</td>\n",
       "      <td>1.000000</td>\n",
       "      <td>0.316081</td>\n",
       "      <td>0.001690</td>\n",
       "      <td>0.215957</td>\n",
       "      <td>0.009455</td>\n",
       "    </tr>\n",
       "    <tr>\n",
       "      <th>Avg. Area Number of Bedrooms</th>\n",
       "      <td>0.010662</td>\n",
       "      <td>0.004646</td>\n",
       "      <td>0.316081</td>\n",
       "      <td>1.000000</td>\n",
       "      <td>-0.014843</td>\n",
       "      <td>0.105429</td>\n",
       "      <td>0.017499</td>\n",
       "    </tr>\n",
       "    <tr>\n",
       "      <th>Area Population</th>\n",
       "      <td>-0.007498</td>\n",
       "      <td>-0.007987</td>\n",
       "      <td>0.001690</td>\n",
       "      <td>-0.014843</td>\n",
       "      <td>1.000000</td>\n",
       "      <td>0.269612</td>\n",
       "      <td>0.012764</td>\n",
       "    </tr>\n",
       "    <tr>\n",
       "      <th>Price</th>\n",
       "      <td>0.440770</td>\n",
       "      <td>0.303467</td>\n",
       "      <td>0.215957</td>\n",
       "      <td>0.105429</td>\n",
       "      <td>0.269612</td>\n",
       "      <td>1.000000</td>\n",
       "      <td>0.010921</td>\n",
       "    </tr>\n",
       "    <tr>\n",
       "      <th>Address</th>\n",
       "      <td>0.001905</td>\n",
       "      <td>-0.006691</td>\n",
       "      <td>0.009455</td>\n",
       "      <td>0.017499</td>\n",
       "      <td>0.012764</td>\n",
       "      <td>0.010921</td>\n",
       "      <td>1.000000</td>\n",
       "    </tr>\n",
       "  </tbody>\n",
       "</table>\n",
       "</div>"
      ],
      "text/plain": [
       "                              Avg. Area Income  Avg. Area House Age  \\\n",
       "Avg. Area Income                      1.000000            -0.000949   \n",
       "Avg. Area House Age                  -0.000949             1.000000   \n",
       "Avg. Area Number of Rooms            -0.012423            -0.003426   \n",
       "Avg. Area Number of Bedrooms          0.010662             0.004646   \n",
       "Area Population                      -0.007498            -0.007987   \n",
       "Price                                 0.440770             0.303467   \n",
       "Address                               0.001905            -0.006691   \n",
       "\n",
       "                              Avg. Area Number of Rooms  \\\n",
       "Avg. Area Income                              -0.012423   \n",
       "Avg. Area House Age                           -0.003426   \n",
       "Avg. Area Number of Rooms                      1.000000   \n",
       "Avg. Area Number of Bedrooms                   0.316081   \n",
       "Area Population                                0.001690   \n",
       "Price                                          0.215957   \n",
       "Address                                        0.009455   \n",
       "\n",
       "                              Avg. Area Number of Bedrooms  Area Population  \\\n",
       "Avg. Area Income                                  0.010662        -0.007498   \n",
       "Avg. Area House Age                               0.004646        -0.007987   \n",
       "Avg. Area Number of Rooms                         0.316081         0.001690   \n",
       "Avg. Area Number of Bedrooms                      1.000000        -0.014843   \n",
       "Area Population                                  -0.014843         1.000000   \n",
       "Price                                             0.105429         0.269612   \n",
       "Address                                           0.017499         0.012764   \n",
       "\n",
       "                                 Price   Address  \n",
       "Avg. Area Income              0.440770  0.001905  \n",
       "Avg. Area House Age           0.303467 -0.006691  \n",
       "Avg. Area Number of Rooms     0.215957  0.009455  \n",
       "Avg. Area Number of Bedrooms  0.105429  0.017499  \n",
       "Area Population               0.269612  0.012764  \n",
       "Price                         1.000000  0.010921  \n",
       "Address                       0.010921  1.000000  "
      ]
     },
     "execution_count": 36,
     "metadata": {},
     "output_type": "execute_result"
    }
   ],
   "source": [
    "data.select_dtypes(\"number\").corr(method=\"kendall\")"
   ]
  },
  {
   "cell_type": "code",
   "execution_count": 37,
   "id": "73a215fa",
   "metadata": {},
   "outputs": [
    {
     "data": {
      "text/html": [
       "<div>\n",
       "<style scoped>\n",
       "    .dataframe tbody tr th:only-of-type {\n",
       "        vertical-align: middle;\n",
       "    }\n",
       "\n",
       "    .dataframe tbody tr th {\n",
       "        vertical-align: top;\n",
       "    }\n",
       "\n",
       "    .dataframe thead th {\n",
       "        text-align: right;\n",
       "    }\n",
       "</style>\n",
       "<table border=\"1\" class=\"dataframe\">\n",
       "  <thead>\n",
       "    <tr style=\"text-align: right;\">\n",
       "      <th></th>\n",
       "      <th>Avg. Area Income</th>\n",
       "      <th>Avg. Area House Age</th>\n",
       "      <th>Avg. Area Number of Rooms</th>\n",
       "      <th>Avg. Area Number of Bedrooms</th>\n",
       "      <th>Area Population</th>\n",
       "      <th>Price</th>\n",
       "      <th>Address</th>\n",
       "    </tr>\n",
       "  </thead>\n",
       "  <tbody>\n",
       "    <tr>\n",
       "      <th>0</th>\n",
       "      <td>4253</td>\n",
       "      <td>1942</td>\n",
       "      <td>2512</td>\n",
       "      <td>111</td>\n",
       "      <td>468</td>\n",
       "      <td>1563</td>\n",
       "      <td>962</td>\n",
       "    </tr>\n",
       "    <tr>\n",
       "      <th>1</th>\n",
       "      <td>4223</td>\n",
       "      <td>2565</td>\n",
       "      <td>1972</td>\n",
       "      <td>60</td>\n",
       "      <td>3274</td>\n",
       "      <td>3890</td>\n",
       "      <td>863</td>\n",
       "    </tr>\n",
       "    <tr>\n",
       "      <th>2</th>\n",
       "      <td>1221</td>\n",
       "      <td>2298</td>\n",
       "      <td>4689</td>\n",
       "      <td>166</td>\n",
       "      <td>2642</td>\n",
       "      <td>1562</td>\n",
       "      <td>4069</td>\n",
       "    </tr>\n",
       "    <tr>\n",
       "      <th>3</th>\n",
       "      <td>1572</td>\n",
       "      <td>4446</td>\n",
       "      <td>412</td>\n",
       "      <td>77</td>\n",
       "      <td>2122</td>\n",
       "      <td>2671</td>\n",
       "      <td>4794</td>\n",
       "    </tr>\n",
       "    <tr>\n",
       "      <th>4</th>\n",
       "      <td>1037</td>\n",
       "      <td>854</td>\n",
       "      <td>3992</td>\n",
       "      <td>125</td>\n",
       "      <td>827</td>\n",
       "      <td>225</td>\n",
       "      <td>4736</td>\n",
       "    </tr>\n",
       "    <tr>\n",
       "      <th>...</th>\n",
       "      <td>...</td>\n",
       "      <td>...</td>\n",
       "      <td>...</td>\n",
       "      <td>...</td>\n",
       "      <td>...</td>\n",
       "      <td>...</td>\n",
       "      <td>...</td>\n",
       "    </tr>\n",
       "    <tr>\n",
       "      <th>4995</th>\n",
       "      <td>1108</td>\n",
       "      <td>4847</td>\n",
       "      <td>1011</td>\n",
       "      <td>97</td>\n",
       "      <td>440</td>\n",
       "      <td>1570</td>\n",
       "      <td>4750</td>\n",
       "    </tr>\n",
       "    <tr>\n",
       "      <th>4996</th>\n",
       "      <td>4135</td>\n",
       "      <td>4223</td>\n",
       "      <td>1685</td>\n",
       "      <td>104</td>\n",
       "      <td>735</td>\n",
       "      <td>3798</td>\n",
       "      <td>4636</td>\n",
       "    </tr>\n",
       "    <tr>\n",
       "      <th>4997</th>\n",
       "      <td>1581</td>\n",
       "      <td>4506</td>\n",
       "      <td>87</td>\n",
       "      <td>13</td>\n",
       "      <td>1941</td>\n",
       "      <td>1411</td>\n",
       "      <td>1897</td>\n",
       "    </tr>\n",
       "    <tr>\n",
       "      <th>4998</th>\n",
       "      <td>2363</td>\n",
       "      <td>1644</td>\n",
       "      <td>2758</td>\n",
       "      <td>197</td>\n",
       "      <td>3707</td>\n",
       "      <td>2308</td>\n",
       "      <td>4833</td>\n",
       "    </tr>\n",
       "    <tr>\n",
       "      <th>4999</th>\n",
       "      <td>1923</td>\n",
       "      <td>2539</td>\n",
       "      <td>2083</td>\n",
       "      <td>109</td>\n",
       "      <td>4283</td>\n",
       "      <td>2879</td>\n",
       "      <td>1703</td>\n",
       "    </tr>\n",
       "  </tbody>\n",
       "</table>\n",
       "<p>5000 rows × 7 columns</p>\n",
       "</div>"
      ],
      "text/plain": [
       "      Avg. Area Income  Avg. Area House Age  Avg. Area Number of Rooms  \\\n",
       "0                 4253                 1942                       2512   \n",
       "1                 4223                 2565                       1972   \n",
       "2                 1221                 2298                       4689   \n",
       "3                 1572                 4446                        412   \n",
       "4                 1037                  854                       3992   \n",
       "...                ...                  ...                        ...   \n",
       "4995              1108                 4847                       1011   \n",
       "4996              4135                 4223                       1685   \n",
       "4997              1581                 4506                         87   \n",
       "4998              2363                 1644                       2758   \n",
       "4999              1923                 2539                       2083   \n",
       "\n",
       "      Avg. Area Number of Bedrooms  Area Population  Price  Address  \n",
       "0                              111              468   1563      962  \n",
       "1                               60             3274   3890      863  \n",
       "2                              166             2642   1562     4069  \n",
       "3                               77             2122   2671     4794  \n",
       "4                              125              827    225     4736  \n",
       "...                            ...              ...    ...      ...  \n",
       "4995                            97              440   1570     4750  \n",
       "4996                           104              735   3798     4636  \n",
       "4997                            13             1941   1411     1897  \n",
       "4998                           197             3707   2308     4833  \n",
       "4999                           109             4283   2879     1703  \n",
       "\n",
       "[5000 rows x 7 columns]"
      ]
     },
     "execution_count": 37,
     "metadata": {},
     "output_type": "execute_result"
    }
   ],
   "source": [
    "data=pd.get_dummies(data,dtype=float)\n",
    "data"
   ]
  },
  {
   "cell_type": "code",
   "execution_count": 38,
   "id": "f37cd2fa",
   "metadata": {},
   "outputs": [
    {
     "name": "stdout",
     "output_type": "stream",
     "text": [
      "(5000, 6) (5000,)\n"
     ]
    }
   ],
   "source": [
    "x=data.drop(\"Price\",axis=1)\n",
    "y=data[\"Price\"]\n",
    "print(np.shape(x),np.shape(y))"
   ]
  },
  {
   "cell_type": "code",
   "execution_count": 39,
   "id": "d9d39f9c",
   "metadata": {},
   "outputs": [
    {
     "data": {
      "text/plain": [
       "((3500, 6), (1500, 6), (3500,), (1500,))"
      ]
     },
     "execution_count": 39,
     "metadata": {},
     "output_type": "execute_result"
    }
   ],
   "source": [
    "x_train,x_test,y_train,y_test=train_test_split(x,y,test_size=0.3,random_state=42)\n",
    "np.shape(x_train),np.shape(x_test),np.shape(y_train),np.shape(y_test)"
   ]
  },
  {
   "cell_type": "code",
   "execution_count": 40,
   "id": "9642afb5-c676-4619-a71b-6e5c575b0c27",
   "metadata": {},
   "outputs": [],
   "source": [
    "model=RandomForestRegressor(max_depth=5,random_state=42,n_estimators=100,n_jobs=-1)"
   ]
  },
  {
   "cell_type": "code",
   "execution_count": 41,
   "id": "7e383ee6",
   "metadata": {},
   "outputs": [
    {
     "data": {
      "text/html": [
       "<style>#sk-container-id-2 {color: black;}#sk-container-id-2 pre{padding: 0;}#sk-container-id-2 div.sk-toggleable {background-color: white;}#sk-container-id-2 label.sk-toggleable__label {cursor: pointer;display: block;width: 100%;margin-bottom: 0;padding: 0.3em;box-sizing: border-box;text-align: center;}#sk-container-id-2 label.sk-toggleable__label-arrow:before {content: \"▸\";float: left;margin-right: 0.25em;color: #696969;}#sk-container-id-2 label.sk-toggleable__label-arrow:hover:before {color: black;}#sk-container-id-2 div.sk-estimator:hover label.sk-toggleable__label-arrow:before {color: black;}#sk-container-id-2 div.sk-toggleable__content {max-height: 0;max-width: 0;overflow: hidden;text-align: left;background-color: #f0f8ff;}#sk-container-id-2 div.sk-toggleable__content pre {margin: 0.2em;color: black;border-radius: 0.25em;background-color: #f0f8ff;}#sk-container-id-2 input.sk-toggleable__control:checked~div.sk-toggleable__content {max-height: 200px;max-width: 100%;overflow: auto;}#sk-container-id-2 input.sk-toggleable__control:checked~label.sk-toggleable__label-arrow:before {content: \"▾\";}#sk-container-id-2 div.sk-estimator input.sk-toggleable__control:checked~label.sk-toggleable__label {background-color: #d4ebff;}#sk-container-id-2 div.sk-label input.sk-toggleable__control:checked~label.sk-toggleable__label {background-color: #d4ebff;}#sk-container-id-2 input.sk-hidden--visually {border: 0;clip: rect(1px 1px 1px 1px);clip: rect(1px, 1px, 1px, 1px);height: 1px;margin: -1px;overflow: hidden;padding: 0;position: absolute;width: 1px;}#sk-container-id-2 div.sk-estimator {font-family: monospace;background-color: #f0f8ff;border: 1px dotted black;border-radius: 0.25em;box-sizing: border-box;margin-bottom: 0.5em;}#sk-container-id-2 div.sk-estimator:hover {background-color: #d4ebff;}#sk-container-id-2 div.sk-parallel-item::after {content: \"\";width: 100%;border-bottom: 1px solid gray;flex-grow: 1;}#sk-container-id-2 div.sk-label:hover label.sk-toggleable__label {background-color: #d4ebff;}#sk-container-id-2 div.sk-serial::before {content: \"\";position: absolute;border-left: 1px solid gray;box-sizing: border-box;top: 0;bottom: 0;left: 50%;z-index: 0;}#sk-container-id-2 div.sk-serial {display: flex;flex-direction: column;align-items: center;background-color: white;padding-right: 0.2em;padding-left: 0.2em;position: relative;}#sk-container-id-2 div.sk-item {position: relative;z-index: 1;}#sk-container-id-2 div.sk-parallel {display: flex;align-items: stretch;justify-content: center;background-color: white;position: relative;}#sk-container-id-2 div.sk-item::before, #sk-container-id-2 div.sk-parallel-item::before {content: \"\";position: absolute;border-left: 1px solid gray;box-sizing: border-box;top: 0;bottom: 0;left: 50%;z-index: -1;}#sk-container-id-2 div.sk-parallel-item {display: flex;flex-direction: column;z-index: 1;position: relative;background-color: white;}#sk-container-id-2 div.sk-parallel-item:first-child::after {align-self: flex-end;width: 50%;}#sk-container-id-2 div.sk-parallel-item:last-child::after {align-self: flex-start;width: 50%;}#sk-container-id-2 div.sk-parallel-item:only-child::after {width: 0;}#sk-container-id-2 div.sk-dashed-wrapped {border: 1px dashed gray;margin: 0 0.4em 0.5em 0.4em;box-sizing: border-box;padding-bottom: 0.4em;background-color: white;}#sk-container-id-2 div.sk-label label {font-family: monospace;font-weight: bold;display: inline-block;line-height: 1.2em;}#sk-container-id-2 div.sk-label-container {text-align: center;}#sk-container-id-2 div.sk-container {/* jupyter's `normalize.less` sets `[hidden] { display: none; }` but bootstrap.min.css set `[hidden] { display: none !important; }` so we also need the `!important` here to be able to override the default hidden behavior on the sphinx rendered scikit-learn.org. See: https://github.com/scikit-learn/scikit-learn/issues/21755 */display: inline-block !important;position: relative;}#sk-container-id-2 div.sk-text-repr-fallback {display: none;}</style><div id=\"sk-container-id-2\" class=\"sk-top-container\"><div class=\"sk-text-repr-fallback\"><pre>RandomForestRegressor(max_depth=5, n_jobs=-1, random_state=42)</pre><b>In a Jupyter environment, please rerun this cell to show the HTML representation or trust the notebook. <br />On GitHub, the HTML representation is unable to render, please try loading this page with nbviewer.org.</b></div><div class=\"sk-container\" hidden><div class=\"sk-item\"><div class=\"sk-estimator sk-toggleable\"><input class=\"sk-toggleable__control sk-hidden--visually\" id=\"sk-estimator-id-2\" type=\"checkbox\" checked><label for=\"sk-estimator-id-2\" class=\"sk-toggleable__label sk-toggleable__label-arrow\">RandomForestRegressor</label><div class=\"sk-toggleable__content\"><pre>RandomForestRegressor(max_depth=5, n_jobs=-1, random_state=42)</pre></div></div></div></div></div>"
      ],
      "text/plain": [
       "RandomForestRegressor(max_depth=5, n_jobs=-1, random_state=42)"
      ]
     },
     "execution_count": 41,
     "metadata": {},
     "output_type": "execute_result"
    }
   ],
   "source": [
    "model.fit(x_train,y_train)"
   ]
  },
  {
   "cell_type": "code",
   "execution_count": 42,
   "id": "e0a7c3ce-12ab-4cc8-8e46-cd7d7aa37838",
   "metadata": {},
   "outputs": [
    {
     "data": {
      "text/plain": [
       "array([2782.67382153, 2889.92512967, 2567.3739781 , 2710.40317747,\n",
       "       2528.86634262, 3759.04288925, 1416.98058325,  503.05992779,\n",
       "        849.64793068, 3697.93550336])"
      ]
     },
     "execution_count": 42,
     "metadata": {},
     "output_type": "execute_result"
    }
   ],
   "source": [
    "y_predict=model.predict(x_test)\n",
    "y_predict[:10]"
   ]
  },
  {
   "cell_type": "code",
   "execution_count": 43,
   "id": "bfbdce0f",
   "metadata": {},
   "outputs": [
    {
     "name": "stdout",
     "output_type": "stream",
     "text": [
      "accuracy------>>>76.29%\n"
     ]
    }
   ],
   "source": [
    "print(f\"accuracy------>>>{model.score(x_test,y_test)*100:0.2f}%\")"
   ]
  },
  {
   "cell_type": "code",
   "execution_count": 44,
   "id": "e7247aab-5220-464c-a3b1-534bc05ed137",
   "metadata": {},
   "outputs": [
    {
     "name": "stdout",
     "output_type": "stream",
     "text": [
      "trying accuracy model 1 n_estimator\n",
      "model accuracy -->> 68.56%\n",
      "trying accuracy model 11 n_estimator\n",
      "model accuracy -->> 85.35%\n",
      "trying accuracy model 21 n_estimator\n",
      "model accuracy -->> 86.13%\n",
      "trying accuracy model 31 n_estimator\n",
      "model accuracy -->> 86.83%\n",
      "trying accuracy model 41 n_estimator\n",
      "model accuracy -->> 87.25%\n",
      "trying accuracy model 51 n_estimator\n",
      "model accuracy -->> 87.25%\n",
      "trying accuracy model 61 n_estimator\n",
      "model accuracy -->> 87.18%\n",
      "trying accuracy model 71 n_estimator\n",
      "model accuracy -->> 87.32%\n",
      "trying accuracy model 81 n_estimator\n",
      "model accuracy -->> 87.20%\n",
      "trying accuracy model 91 n_estimator\n",
      "model accuracy -->> 87.26%\n"
     ]
    }
   ],
   "source": [
    "# improve from the accuracy :\n",
    "np.random.seed()\n",
    "for i in range(1,101,10):\n",
    "    print(f\"trying accuracy model {i} n_estimator\")\n",
    "    model2=RandomForestRegressor(n_estimators=i).fit(x_train,y_train)\n",
    "    print(f\"model accuracy -->> {model2.score(x_test,y_test)*100:0.2f}%\")  "
   ]
  },
  {
   "cell_type": "code",
   "execution_count": 48,
   "id": "e1ce91da-3e5d-4b3a-9111-eef5389fe278",
   "metadata": {},
   "outputs": [],
   "source": [
    "# Here End The Code"
   ]
  },
  {
   "cell_type": "code",
   "execution_count": null,
   "id": "585145ac-6049-4f4d-8779-e2cb00a5dd4d",
   "metadata": {},
   "outputs": [],
   "source": []
  }
 ],
 "metadata": {
  "kernelspec": {
   "display_name": "Python 3 (ipykernel)",
   "language": "python",
   "name": "python3"
  },
  "language_info": {
   "codemirror_mode": {
    "name": "ipython",
    "version": 3
   },
   "file_extension": ".py",
   "mimetype": "text/x-python",
   "name": "python",
   "nbconvert_exporter": "python",
   "pygments_lexer": "ipython3",
   "version": "3.8.10"
  }
 },
 "nbformat": 4,
 "nbformat_minor": 5
}
