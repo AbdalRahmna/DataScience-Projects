{
 "cells": [
  {
   "cell_type": "code",
   "execution_count": 1,
   "metadata": {
    "executionInfo": {
     "elapsed": 2523,
     "status": "ok",
     "timestamp": 1714574838818,
     "user": {
      "displayName": "abdo gameel",
      "userId": "00425813107454389143"
     },
     "user_tz": -120
    },
    "id": "duhIikd22jMz"
   },
   "outputs": [],
   "source": [
    "# imports :\n",
    "\n",
    "import pandas as pd                                \n",
    " \n",
    "import numpy as np                               \n",
    "\n",
    "import os                                         \n",
    "\n",
    "import matplotlib.pyplot as plt                          \n",
    "\n",
    "import seaborn as sns                                 \n",
    "\n",
    "from wordcloud import WordCloud   \n",
    "\n",
    "import nltk                                         \n",
    "\n",
    "from nltk.stem import PorterStemmer              \n",
    "\n",
    "from nltk.stem import WordNetLemmatizer          \n",
    "\n",
    "from nltk.corpus import stopwords            \n",
    "\n",
    "\n",
    "import re                                \n",
    "\n",
    "from sklearn import linear_model ,svm    \n"
   ]
  },
  {
   "cell_type": "markdown",
   "metadata": {
    "id": "3NQ5p9Wh4kk3"
   },
   "source": [
    "Reading & preprocessing the data:\n"
   ]
  },
  {
   "cell_type": "code",
   "execution_count": 2,
   "metadata": {
    "colab": {
     "base_uri": "https://localhost:8080/"
    },
    "executionInfo": {
     "elapsed": 1026,
     "status": "ok",
     "timestamp": 1714574857353,
     "user": {
      "displayName": "abdo gameel",
      "userId": "00425813107454389143"
     },
     "user_tz": -120
    },
    "id": "NMEEBnwP3qvW",
    "outputId": "cd8797fd-c490-43c7-c134-0508d2265aa4"
   },
   "outputs": [
    {
     "name": "stdout",
     "output_type": "stream",
     "text": [
      "      CATEGORY                                            MESSAGE  \\\n",
      "0            1  Dear Homeowner,\\n\\n \\n\\nInterest Rates are at ...   \n",
      "1            1  ATTENTION: This is a MUST for ALL Computer Use...   \n",
      "2            1  This is a multi-part message in MIME format.\\n...   \n",
      "3            1  IMPORTANT INFORMATION:\\n\\n\\n\\nThe new domain n...   \n",
      "4            1  This is the bottom line.  If you can GIVE AWAY...   \n",
      "...        ...                                                ...   \n",
      "5791         0  I'm one of the 30,000 but it's not working ver...   \n",
      "5792         0  Damien Morton quoted:\\n\\n>W3C approves HTML 4 ...   \n",
      "5793         0  On Mon, 2002-07-22 at 06:50, che wrote:\\n\\n\\n\\...   \n",
      "5794         0  Once upon a time, Manfred wrote :\\n\\n\\n\\n> I w...   \n",
      "5795         0  If you run Pick, and then use the \"New FTOC\" b...   \n",
      "\n",
      "                                   FILE_NAME  \n",
      "0     00249.5f45607c1bffe89f60ba1ec9f878039a  \n",
      "1     00373.ebe8670ac56b04125c25100a36ab0510  \n",
      "2     00214.1367039e50dc6b7adb0f2aa8aba83216  \n",
      "3     00210.050ffd105bd4e006771ee63cabc59978  \n",
      "4     00033.9babb58d9298daa2963d4f514193d7d6  \n",
      "...                                      ...  \n",
      "5791  00609.dd49926ce94a1ea328cce9b62825bc97  \n",
      "5792  00957.e0b56b117f3ec5f85e432a9d2a47801f  \n",
      "5793  01127.841233b48eceb74a825417d8d918abf8  \n",
      "5794  01178.5c977dff972cd6eef64d4173b90307f0  \n",
      "5795  00747.352d424267d36975a7b40b85ffd0885e  \n",
      "\n",
      "[5796 rows x 3 columns]\n"
     ]
    }
   ],
   "source": [
    "data=pd.read_csv(\"spam_Filtaration.csv\")\n",
    "print(data)"
   ]
  },
  {
   "cell_type": "code",
   "execution_count": 3,
   "metadata": {
    "executionInfo": {
     "elapsed": 3,
     "status": "ok",
     "timestamp": 1714574866843,
     "user": {
      "displayName": "abdo gameel",
      "userId": "00425813107454389143"
     },
     "user_tz": -120
    },
    "id": "1N-hXVguaXu4"
   },
   "outputs": [],
   "source": [
    "data.drop('FILE_NAME',axis=1,inplace=True)"
   ]
  },
  {
   "cell_type": "code",
   "execution_count": 4,
   "metadata": {
    "colab": {
     "base_uri": "https://localhost:8080/"
    },
    "executionInfo": {
     "elapsed": 843,
     "status": "ok",
     "timestamp": 1714574881621,
     "user": {
      "displayName": "abdo gameel",
      "userId": "00425813107454389143"
     },
     "user_tz": -120
    },
    "id": "9sNqjcj4aXxk",
    "outputId": "257330e1-4cde-4aab-b453-45a9d6356958"
   },
   "outputs": [
    {
     "data": {
      "text/plain": [
       "CATEGORY\n",
       "0    3900\n",
       "1    1896\n",
       "Name: count, dtype: int64"
      ]
     },
     "execution_count": 4,
     "metadata": {},
     "output_type": "execute_result"
    }
   ],
   "source": [
    "data.CATEGORY.value_counts()"
   ]
  },
  {
   "cell_type": "code",
   "execution_count": 5,
   "metadata": {
    "colab": {
     "base_uri": "https://localhost:8080/",
     "height": 471
    },
    "executionInfo": {
     "elapsed": 519,
     "status": "ok",
     "timestamp": 1714574890022,
     "user": {
      "displayName": "abdo gameel",
      "userId": "00425813107454389143"
     },
     "user_tz": -120
    },
    "id": "uVM_t9dOgT8r",
    "outputId": "3b25e544-7895-4f57-8d41-3d97c598b60a"
   },
   "outputs": [
    {
     "data": {
      "text/plain": [
       "Text(0.5, 0.98, ' 0 -->> not spam & 1 -->> spam')"
      ]
     },
     "execution_count": 5,
     "metadata": {},
     "output_type": "execute_result"
    },
    {
     "data": {
      "image/png": "[encoded data removed]",
      "text/plain": [
       "<Figure size 640x480 with 1 Axes>"
      ]
     },
     "metadata": {},
     "output_type": "display_data"
    }
   ],
   "source": [
    "f={\"family\":\"serif\",\"color\":\"blue\",\"size\":12}\n",
    "data[\"CATEGORY\"].value_counts().plot(kind=\"pie\",legend=True)\n",
    "plt.title(\"spam Vs.ham\",fontdict=f)\n",
    "plt.suptitle(\" 0 -->> not spam & 1 -->> spam\",fontdict=f)\n"
   ]
  },
  {
   "cell_type": "code",
   "execution_count": 6,
   "metadata": {
    "colab": {
     "base_uri": "https://localhost:8080/",
     "height": 509
    },
    "executionInfo": {
     "elapsed": 776,
     "status": "ok",
     "timestamp": 1714574893826,
     "user": {
      "displayName": "abdo gameel",
      "userId": "00425813107454389143"
     },
     "user_tz": -120
    },
    "id": "T7b25F0pGbw9",
    "outputId": "ece7b01e-560c-44ae-96a6-e729b2cf7594"
   },
   "outputs": [
    {
     "data": {
      "text/plain": [
       "Text(0.5, 0.98, ' 0 -->> not spam & 1 -->> spam')"
      ]
     },
     "execution_count": 6,
     "metadata": {},
     "output_type": "execute_result"
    },
    {
     "data": {
      "image/png": "[encoded data removed]",
      "text/plain": [
       "<Figure size 640x480 with 1 Axes>"
      ]
     },
     "metadata": {},
     "output_type": "display_data"
    }
   ],
   "source": [
    "plt.title(\"spam Vs.ham\",fontdict=f)\n",
    "plt.suptitle(\"0 -->> not spam & 1 -->> spam\",fontdict=f)\n",
    "data[\"CATEGORY\"].value_counts().plot(kind=\"bar\",legend=True)\n",
    "plt.suptitle(\" 0 -->> not spam & 1 -->> spam\",fontdict=f)"
   ]
  },
  {
   "cell_type": "code",
   "execution_count": 7,
   "metadata": {
    "colab": {
     "base_uri": "https://localhost:8080/",
     "height": 419
    },
    "executionInfo": {
     "elapsed": 413,
     "status": "ok",
     "timestamp": 1714574898006,
     "user": {
      "displayName": "abdo gameel",
      "userId": "00425813107454389143"
     },
     "user_tz": -120
    },
    "id": "cPnVe6x6aX0i",
    "outputId": "86ef743e-493d-4d16-fa6c-2ec54d270071"
   },
   "outputs": [
    {
     "data": {
      "text/html": [
       "<div>\n",
       "<style scoped>\n",
       "    .dataframe tbody tr th:only-of-type {\n",
       "        vertical-align: middle;\n",
       "    }\n",
       "\n",
       "    .dataframe tbody tr th {\n",
       "        vertical-align: top;\n",
       "    }\n",
       "\n",
       "    .dataframe thead th {\n",
       "        text-align: right;\n",
       "    }\n",
       "</style>\n",
       "<table border=\"1\" class=\"dataframe\">\n",
       "  <thead>\n",
       "    <tr style=\"text-align: right;\">\n",
       "      <th></th>\n",
       "      <th>CATEGORY</th>\n",
       "      <th>MESSAGE</th>\n",
       "    </tr>\n",
       "  </thead>\n",
       "  <tbody>\n",
       "    <tr>\n",
       "      <th>0</th>\n",
       "      <td>1</td>\n",
       "      <td>Dear Homeowner,\\n\\n \\n\\nInterest Rates are at ...</td>\n",
       "    </tr>\n",
       "    <tr>\n",
       "      <th>1</th>\n",
       "      <td>1</td>\n",
       "      <td>ATTENTION: This is a MUST for ALL Computer Use...</td>\n",
       "    </tr>\n",
       "    <tr>\n",
       "      <th>2</th>\n",
       "      <td>1</td>\n",
       "      <td>This is a multi-part message in MIME format.\\n...</td>\n",
       "    </tr>\n",
       "    <tr>\n",
       "      <th>3</th>\n",
       "      <td>1</td>\n",
       "      <td>IMPORTANT INFORMATION:\\n\\n\\n\\nThe new domain n...</td>\n",
       "    </tr>\n",
       "    <tr>\n",
       "      <th>4</th>\n",
       "      <td>1</td>\n",
       "      <td>This is the bottom line.  If you can GIVE AWAY...</td>\n",
       "    </tr>\n",
       "    <tr>\n",
       "      <th>...</th>\n",
       "      <td>...</td>\n",
       "      <td>...</td>\n",
       "    </tr>\n",
       "    <tr>\n",
       "      <th>5791</th>\n",
       "      <td>0</td>\n",
       "      <td>I'm one of the 30,000 but it's not working ver...</td>\n",
       "    </tr>\n",
       "    <tr>\n",
       "      <th>5792</th>\n",
       "      <td>0</td>\n",
       "      <td>Damien Morton quoted:\\n\\n&gt;W3C approves HTML 4 ...</td>\n",
       "    </tr>\n",
       "    <tr>\n",
       "      <th>5793</th>\n",
       "      <td>0</td>\n",
       "      <td>On Mon, 2002-07-22 at 06:50, che wrote:\\n\\n\\n\\...</td>\n",
       "    </tr>\n",
       "    <tr>\n",
       "      <th>5794</th>\n",
       "      <td>0</td>\n",
       "      <td>Once upon a time, Manfred wrote :\\n\\n\\n\\n&gt; I w...</td>\n",
       "    </tr>\n",
       "    <tr>\n",
       "      <th>5795</th>\n",
       "      <td>0</td>\n",
       "      <td>If you run Pick, and then use the \"New FTOC\" b...</td>\n",
       "    </tr>\n",
       "  </tbody>\n",
       "</table>\n",
       "<p>5796 rows × 2 columns</p>\n",
       "</div>"
      ],
      "text/plain": [
       "      CATEGORY                                            MESSAGE\n",
       "0            1  Dear Homeowner,\\n\\n \\n\\nInterest Rates are at ...\n",
       "1            1  ATTENTION: This is a MUST for ALL Computer Use...\n",
       "2            1  This is a multi-part message in MIME format.\\n...\n",
       "3            1  IMPORTANT INFORMATION:\\n\\n\\n\\nThe new domain n...\n",
       "4            1  This is the bottom line.  If you can GIVE AWAY...\n",
       "...        ...                                                ...\n",
       "5791         0  I'm one of the 30,000 but it's not working ver...\n",
       "5792         0  Damien Morton quoted:\\n\\n>W3C approves HTML 4 ...\n",
       "5793         0  On Mon, 2002-07-22 at 06:50, che wrote:\\n\\n\\n\\...\n",
       "5794         0  Once upon a time, Manfred wrote :\\n\\n\\n\\n> I w...\n",
       "5795         0  If you run Pick, and then use the \"New FTOC\" b...\n",
       "\n",
       "[5796 rows x 2 columns]"
      ]
     },
     "execution_count": 7,
     "metadata": {},
     "output_type": "execute_result"
    }
   ],
   "source": [
    "data"
   ]
  },
  {
   "cell_type": "code",
   "execution_count": 8,
   "metadata": {
    "colab": {
     "base_uri": "https://localhost:8080/"
    },
    "executionInfo": {
     "elapsed": 492,
     "status": "ok",
     "timestamp": 1714575005419,
     "user": {
      "displayName": "abdo gameel",
      "userId": "00425813107454389143"
     },
     "user_tz": -120
    },
    "id": "-bWnVJ0DbKDD",
    "outputId": "e723b0ac-91c3-4b93-e96e-22796c097bfd"
   },
   "outputs": [
    {
     "name": "stderr",
     "output_type": "stream",
     "text": [
      "[nltk_data] Downloading package stopwords to\n",
      "[nltk_data]     /home/abdalrahman/nltk_data...\n",
      "[nltk_data]   Package stopwords is already up-to-date!\n"
     ]
    },
    {
     "data": {
      "text/plain": [
       "True"
      ]
     },
     "execution_count": 8,
     "metadata": {},
     "output_type": "execute_result"
    }
   ],
   "source": [
    "import nltk\n",
    "nltk.download('stopwords')"
   ]
  },
  {
   "cell_type": "code",
   "execution_count": 9,
   "metadata": {
    "colab": {
     "base_uri": "https://localhost:8080/"
    },
    "executionInfo": {
     "elapsed": 4,
     "status": "ok",
     "timestamp": 1714575008051,
     "user": {
      "displayName": "abdo gameel",
      "userId": "00425813107454389143"
     },
     "user_tz": -120
    },
    "id": "tANNnccWbWXC",
    "outputId": "6155daa3-5bc1-4f88-ef15-87d26fab9f42"
   },
   "outputs": [
    {
     "name": "stderr",
     "output_type": "stream",
     "text": [
      "[nltk_data] Downloading package omw-1.4 to\n",
      "[nltk_data]     /home/abdalrahman/nltk_data...\n",
      "[nltk_data]   Package omw-1.4 is already up-to-date!\n"
     ]
    },
    {
     "data": {
      "text/plain": [
       "True"
      ]
     },
     "execution_count": 9,
     "metadata": {},
     "output_type": "execute_result"
    }
   ],
   "source": [
    "import nltk\n",
    "nltk.download('omw-1.4')"
   ]
  },
  {
   "cell_type": "code",
   "execution_count": 10,
   "metadata": {
    "colab": {
     "base_uri": "https://localhost:8080/"
    },
    "executionInfo": {
     "elapsed": 7066,
     "status": "ok",
     "timestamp": 1714575017199,
     "user": {
      "displayName": "abdo gameel",
      "userId": "00425813107454389143"
     },
     "user_tz": -120
    },
    "id": "rXXMdoP3b5UU",
    "outputId": "55b47f3b-5294-40a9-f3f5-24c009dfd880"
   },
   "outputs": [
    {
     "name": "stdout",
     "output_type": "stream",
     "text": [
      "Defaulting to user installation because normal site-packages is not writeable\n",
      "Requirement already satisfied: nltk in /home/abdalrahman/.local/lib/python3.8/site-packages (3.8.1)\n",
      "Requirement already satisfied: click in /home/abdalrahman/.local/lib/python3.8/site-packages (from nltk) (8.1.7)\n",
      "Requirement already satisfied: joblib in /home/abdalrahman/.local/lib/python3.8/site-packages (from nltk) (1.3.2)\n",
      "Requirement already satisfied: regex>=2021.8.3 in /home/abdalrahman/.local/lib/python3.8/site-packages (from nltk) (2023.12.25)\n",
      "Requirement already satisfied: tqdm in /home/abdalrahman/.local/lib/python3.8/site-packages (from nltk) (4.66.2)\n",
      "/usr/bin/python: No module named nltk\n"
     ]
    }
   ],
   "source": [
    "!pip install nltk\n",
    "!python -m nltk.downloader wordnet"
   ]
  },
  {
   "cell_type": "code",
   "execution_count": 11,
   "metadata": {
    "executionInfo": {
     "elapsed": 2,
     "status": "ok",
     "timestamp": 1714575245394,
     "user": {
      "displayName": "abdo gameel",
      "userId": "00425813107454389143"
     },
     "user_tz": -120
    },
    "id": "apkhS5q_aX3I"
   },
   "outputs": [],
   "source": [
    "stopword = nltk.corpus.stopwords.words('english')"
   ]
  },
  {
   "cell_type": "code",
   "execution_count": 12,
   "metadata": {
    "executionInfo": {
     "elapsed": 256141,
     "status": "ok",
     "timestamp": 1714575509964,
     "user": {
      "displayName": "abdo gameel",
      "userId": "00425813107454389143"
     },
     "user_tz": -120
    },
    "id": "_tgA63w3aX58"
   },
   "outputs": [],
   "source": [
    "lemmatizer=WordNetLemmatizer()\n",
    "corpus=[]\n",
    "for i in range(len(data)):\n",
    "    review=re.sub('[^a-zA-Z0-9]',' ',data['MESSAGE'][i])  \n",
    "    review=review.lower()                                \n",
    "    review=review.split()                                 \n",
    "    review=[lemmatizer.lemmatize(word) for word in review if word not in set(stopwords.words('english'))]      \n",
    "    review=' '.join(review)                                \n",
    "    corpus.append(review)                                  \n"
   ]
  },
  {
   "cell_type": "code",
   "execution_count": 13,
   "metadata": {},
   "outputs": [],
   "source": [
    "# Converting the Words to Vector using Bag of words\n",
    "\n",
    "from sklearn.feature_extraction.text import CountVectorizer\n",
    "\n",
    "cv=CountVectorizer(max_features=2500,ngram_range=(1,3)) # top 2500 features are taken\n",
    "\n",
    "X=cv.fit_transform(corpus).toarray()\n",
    "\n",
    "y=data['CATEGORY']"
   ]
  },
  {
   "cell_type": "markdown",
   "metadata": {
    "id": "T5MU-adqebse"
   },
   "source": [
    "Modeling:\n",
    "\n",
    "1- Logistic Regression:"
   ]
  },
  {
   "cell_type": "code",
   "execution_count": 14,
   "metadata": {
    "executionInfo": {
     "elapsed": 4,
     "status": "ok",
     "timestamp": 1714575527361,
     "user": {
      "displayName": "abdo gameel",
      "userId": "00425813107454389143"
     },
     "user_tz": -120
    },
    "id": "y5NLcYC-cBh8"
   },
   "outputs": [],
   "source": [
    "from sklearn.model_selection import train_test_split\n",
    "from sklearn.metrics import classification_report,confusion_matrix"
   ]
  },
  {
   "cell_type": "code",
   "execution_count": 15,
   "metadata": {
    "executionInfo": {
     "elapsed": 5,
     "status": "ok",
     "timestamp": 1714575533383,
     "user": {
      "displayName": "abdo gameel",
      "userId": "00425813107454389143"
     },
     "user_tz": -120
    },
    "id": "jkezREJwaX_V"
   },
   "outputs": [],
   "source": [
    "x_train,x_test,y_train,y_test=train_test_split(X,y,test_size=0.3,random_state=1,stratify=y)"
   ]
  },
  {
   "cell_type": "code",
   "execution_count": 16,
   "metadata": {
    "colab": {
     "base_uri": "https://localhost:8080/",
     "height": 210
    },
    "executionInfo": {
     "elapsed": 1645,
     "status": "ok",
     "timestamp": 1714575535024,
     "user": {
      "displayName": "abdo gameel",
      "userId": "00425813107454389143"
     },
     "user_tz": -120
    },
    "id": "l0Mxx-OBaYB4",
    "outputId": "513d27d4-a527-4e54-8240-bbba411248cf"
   },
   "outputs": [
    {
     "name": "stderr",
     "output_type": "stream",
     "text": [
      "/home/abdalrahman/.local/lib/python3.8/site-packages/sklearn/linear_model/_logistic.py:460: ConvergenceWarning: lbfgs failed to converge (status=1):\n",
      "STOP: TOTAL NO. of ITERATIONS REACHED LIMIT.\n",
      "\n",
      "Increase the number of iterations (max_iter) or scale the data as shown in:\n",
      "    https://scikit-learn.org/stable/modules/preprocessing.html\n",
      "Please also refer to the documentation for alternative solver options:\n",
      "    https://scikit-learn.org/stable/modules/linear_model.html#logistic-regression\n",
      "  n_iter_i = _check_optimize_result(\n"
     ]
    },
    {
     "data": {
      "text/html": [
       "<style>#sk-container-id-1 {color: black;}#sk-container-id-1 pre{padding: 0;}#sk-container-id-1 div.sk-toggleable {background-color: white;}#sk-container-id-1 label.sk-toggleable__label {cursor: pointer;display: block;width: 100%;margin-bottom: 0;padding: 0.3em;box-sizing: border-box;text-align: center;}#sk-container-id-1 label.sk-toggleable__label-arrow:before {content: \"▸\";float: left;margin-right: 0.25em;color: #696969;}#sk-container-id-1 label.sk-toggleable__label-arrow:hover:before {color: black;}#sk-container-id-1 div.sk-estimator:hover label.sk-toggleable__label-arrow:before {color: black;}#sk-container-id-1 div.sk-toggleable__content {max-height: 0;max-width: 0;overflow: hidden;text-align: left;background-color: #f0f8ff;}#sk-container-id-1 div.sk-toggleable__content pre {margin: 0.2em;color: black;border-radius: 0.25em;background-color: #f0f8ff;}#sk-container-id-1 input.sk-toggleable__control:checked~div.sk-toggleable__content {max-height: 200px;max-width: 100%;overflow: auto;}#sk-container-id-1 input.sk-toggleable__control:checked~label.sk-toggleable__label-arrow:before {content: \"▾\";}#sk-container-id-1 div.sk-estimator input.sk-toggleable__control:checked~label.sk-toggleable__label {background-color: #d4ebff;}#sk-container-id-1 div.sk-label input.sk-toggleable__control:checked~label.sk-toggleable__label {background-color: #d4ebff;}#sk-container-id-1 input.sk-hidden--visually {border: 0;clip: rect(1px 1px 1px 1px);clip: rect(1px, 1px, 1px, 1px);height: 1px;margin: -1px;overflow: hidden;padding: 0;position: absolute;width: 1px;}#sk-container-id-1 div.sk-estimator {font-family: monospace;background-color: #f0f8ff;border: 1px dotted black;border-radius: 0.25em;box-sizing: border-box;margin-bottom: 0.5em;}#sk-container-id-1 div.sk-estimator:hover {background-color: #d4ebff;}#sk-container-id-1 div.sk-parallel-item::after {content: \"\";width: 100%;border-bottom: 1px solid gray;flex-grow: 1;}#sk-container-id-1 div.sk-label:hover label.sk-toggleable__label {background-color: #d4ebff;}#sk-container-id-1 div.sk-serial::before {content: \"\";position: absolute;border-left: 1px solid gray;box-sizing: border-box;top: 0;bottom: 0;left: 50%;z-index: 0;}#sk-container-id-1 div.sk-serial {display: flex;flex-direction: column;align-items: center;background-color: white;padding-right: 0.2em;padding-left: 0.2em;position: relative;}#sk-container-id-1 div.sk-item {position: relative;z-index: 1;}#sk-container-id-1 div.sk-parallel {display: flex;align-items: stretch;justify-content: center;background-color: white;position: relative;}#sk-container-id-1 div.sk-item::before, #sk-container-id-1 div.sk-parallel-item::before {content: \"\";position: absolute;border-left: 1px solid gray;box-sizing: border-box;top: 0;bottom: 0;left: 50%;z-index: -1;}#sk-container-id-1 div.sk-parallel-item {display: flex;flex-direction: column;z-index: 1;position: relative;background-color: white;}#sk-container-id-1 div.sk-parallel-item:first-child::after {align-self: flex-end;width: 50%;}#sk-container-id-1 div.sk-parallel-item:last-child::after {align-self: flex-start;width: 50%;}#sk-container-id-1 div.sk-parallel-item:only-child::after {width: 0;}#sk-container-id-1 div.sk-dashed-wrapped {border: 1px dashed gray;margin: 0 0.4em 0.5em 0.4em;box-sizing: border-box;padding-bottom: 0.4em;background-color: white;}#sk-container-id-1 div.sk-label label {font-family: monospace;font-weight: bold;display: inline-block;line-height: 1.2em;}#sk-container-id-1 div.sk-label-container {text-align: center;}#sk-container-id-1 div.sk-container {/* jupyter's `normalize.less` sets `[hidden] { display: none; }` but bootstrap.min.css set `[hidden] { display: none !important; }` so we also need the `!important` here to be able to override the default hidden behavior on the sphinx rendered scikit-learn.org. See: https://github.com/scikit-learn/scikit-learn/issues/21755 */display: inline-block !important;position: relative;}#sk-container-id-1 div.sk-text-repr-fallback {display: none;}</style><div id=\"sk-container-id-1\" class=\"sk-top-container\"><div class=\"sk-text-repr-fallback\"><pre>LogisticRegression()</pre><b>In a Jupyter environment, please rerun this cell to show the HTML representation or trust the notebook. <br />On GitHub, the HTML representation is unable to render, please try loading this page with nbviewer.org.</b></div><div class=\"sk-container\" hidden><div class=\"sk-item\"><div class=\"sk-estimator sk-toggleable\"><input class=\"sk-toggleable__control sk-hidden--visually\" id=\"sk-estimator-id-1\" type=\"checkbox\" checked><label for=\"sk-estimator-id-1\" class=\"sk-toggleable__label sk-toggleable__label-arrow\">LogisticRegression</label><div class=\"sk-toggleable__content\"><pre>LogisticRegression()</pre></div></div></div></div></div>"
      ],
      "text/plain": [
       "LogisticRegression()"
      ]
     },
     "execution_count": 16,
     "metadata": {},
     "output_type": "execute_result"
    }
   ],
   "source": [
    "# create model1 (LogisticRegression) --->> Classification\n",
    "\n",
    "model1=linear_model.LogisticRegression()\n",
    "model1.fit(x_train,y_train)\n"
   ]
  },
  {
   "cell_type": "code",
   "execution_count": 17,
   "metadata": {
    "colab": {
     "base_uri": "https://localhost:8080/"
    },
    "executionInfo": {
     "elapsed": 515,
     "status": "ok",
     "timestamp": 1714575989468,
     "user": {
      "displayName": "abdo gameel",
      "userId": "00425813107454389143"
     },
     "user_tz": -120
    },
    "id": "6KXp8aucdM3F",
    "outputId": "3e815318-686e-45c2-ab04-ed2262d4c433"
   },
   "outputs": [
    {
     "data": {
      "text/plain": [
       "array([0, 0, 1, 1, 1, 1, 0, 0, 0, 1, 1, 1, 1, 1, 1])"
      ]
     },
     "execution_count": 17,
     "metadata": {},
     "output_type": "execute_result"
    }
   ],
   "source": [
    "y_predict=model1.predict(x_test)\n",
    "y_predict[:15]"
   ]
  },
  {
   "cell_type": "code",
   "execution_count": 18,
   "metadata": {
    "colab": {
     "base_uri": "https://localhost:8080/"
    },
    "executionInfo": {
     "elapsed": 551,
     "status": "ok",
     "timestamp": 1714575992072,
     "user": {
      "displayName": "abdo gameel",
      "userId": "00425813107454389143"
     },
     "user_tz": -120
    },
    "id": "gmqn8gcIdNBE",
    "outputId": "ede2fb87-1f80-47bd-fb80-9a1e0664d739"
   },
   "outputs": [
    {
     "name": "stdout",
     "output_type": "stream",
     "text": [
      "accuracy --->>> 98.56%\n",
      "accuracy of errors --->>>1.44%\n",
      "------------------------------------\n",
      "True positve prediction : 552\n",
      "True Negative predicion : 1162\n",
      "False positve prediction: 8\n",
      "False Negative prediction: 17\n",
      "------------------------------------\n"
     ]
    }
   ],
   "source": [
    "from sklearn import metrics\n",
    "import sklearn\n",
    "\n",
    "# Acc:\n",
    "\n",
    "print(f\"accuracy --->>> {metrics.accuracy_score(y_test,y_predict)*100:0.2f}%\")\n",
    "print(f\"accuracy of errors --->>>{ 100-(metrics.accuracy_score(y_test,y_predict))*100:0.2f}%\")\n",
    "\n",
    "# confusion:\n",
    "\n",
    "cm=metrics.confusion_matrix(y_test,y_predict)\n",
    "tp,tn,fp,fn= cm[1,1],cm[0,0],cm[0,1],cm[1,0]\n",
    "print(\"------------------------------------\")\n",
    "print(\"True positve prediction :\",tp)\n",
    "print(\"True Negative predicion :\",tn)\n",
    "print(\"False positve prediction:\",fp)\n",
    "print(\"False Negative prediction:\",fn)\n",
    "print(\"------------------------------------\")\n",
    "\n"
   ]
  },
  {
   "cell_type": "markdown",
   "metadata": {
    "id": "NV0qCRZUeoXG"
   },
   "source": [
    "Modeling :\n",
    "\n",
    "\n",
    "\n",
    "2-Support Vector Classifier\n"
   ]
  },
  {
   "cell_type": "code",
   "execution_count": 19,
   "metadata": {
    "colab": {
     "base_uri": "https://localhost:8080/",
     "height": 74
    },
    "executionInfo": {
     "elapsed": 3216,
     "status": "ok",
     "timestamp": 1714576023875,
     "user": {
      "displayName": "abdo gameel",
      "userId": "00425813107454389143"
     },
     "user_tz": -120
    },
    "id": "WdxJuIFmdNGR",
    "outputId": "850a13b6-a1c1-42b5-b93a-28cfb2874ced"
   },
   "outputs": [
    {
     "data": {
      "text/html": [
       "<style>#sk-container-id-2 {color: black;}#sk-container-id-2 pre{padding: 0;}#sk-container-id-2 div.sk-toggleable {background-color: white;}#sk-container-id-2 label.sk-toggleable__label {cursor: pointer;display: block;width: 100%;margin-bottom: 0;padding: 0.3em;box-sizing: border-box;text-align: center;}#sk-container-id-2 label.sk-toggleable__label-arrow:before {content: \"▸\";float: left;margin-right: 0.25em;color: #696969;}#sk-container-id-2 label.sk-toggleable__label-arrow:hover:before {color: black;}#sk-container-id-2 div.sk-estimator:hover label.sk-toggleable__label-arrow:before {color: black;}#sk-container-id-2 div.sk-toggleable__content {max-height: 0;max-width: 0;overflow: hidden;text-align: left;background-color: #f0f8ff;}#sk-container-id-2 div.sk-toggleable__content pre {margin: 0.2em;color: black;border-radius: 0.25em;background-color: #f0f8ff;}#sk-container-id-2 input.sk-toggleable__control:checked~div.sk-toggleable__content {max-height: 200px;max-width: 100%;overflow: auto;}#sk-container-id-2 input.sk-toggleable__control:checked~label.sk-toggleable__label-arrow:before {content: \"▾\";}#sk-container-id-2 div.sk-estimator input.sk-toggleable__control:checked~label.sk-toggleable__label {background-color: #d4ebff;}#sk-container-id-2 div.sk-label input.sk-toggleable__control:checked~label.sk-toggleable__label {background-color: #d4ebff;}#sk-container-id-2 input.sk-hidden--visually {border: 0;clip: rect(1px 1px 1px 1px);clip: rect(1px, 1px, 1px, 1px);height: 1px;margin: -1px;overflow: hidden;padding: 0;position: absolute;width: 1px;}#sk-container-id-2 div.sk-estimator {font-family: monospace;background-color: #f0f8ff;border: 1px dotted black;border-radius: 0.25em;box-sizing: border-box;margin-bottom: 0.5em;}#sk-container-id-2 div.sk-estimator:hover {background-color: #d4ebff;}#sk-container-id-2 div.sk-parallel-item::after {content: \"\";width: 100%;border-bottom: 1px solid gray;flex-grow: 1;}#sk-container-id-2 div.sk-label:hover label.sk-toggleable__label {background-color: #d4ebff;}#sk-container-id-2 div.sk-serial::before {content: \"\";position: absolute;border-left: 1px solid gray;box-sizing: border-box;top: 0;bottom: 0;left: 50%;z-index: 0;}#sk-container-id-2 div.sk-serial {display: flex;flex-direction: column;align-items: center;background-color: white;padding-right: 0.2em;padding-left: 0.2em;position: relative;}#sk-container-id-2 div.sk-item {position: relative;z-index: 1;}#sk-container-id-2 div.sk-parallel {display: flex;align-items: stretch;justify-content: center;background-color: white;position: relative;}#sk-container-id-2 div.sk-item::before, #sk-container-id-2 div.sk-parallel-item::before {content: \"\";position: absolute;border-left: 1px solid gray;box-sizing: border-box;top: 0;bottom: 0;left: 50%;z-index: -1;}#sk-container-id-2 div.sk-parallel-item {display: flex;flex-direction: column;z-index: 1;position: relative;background-color: white;}#sk-container-id-2 div.sk-parallel-item:first-child::after {align-self: flex-end;width: 50%;}#sk-container-id-2 div.sk-parallel-item:last-child::after {align-self: flex-start;width: 50%;}#sk-container-id-2 div.sk-parallel-item:only-child::after {width: 0;}#sk-container-id-2 div.sk-dashed-wrapped {border: 1px dashed gray;margin: 0 0.4em 0.5em 0.4em;box-sizing: border-box;padding-bottom: 0.4em;background-color: white;}#sk-container-id-2 div.sk-label label {font-family: monospace;font-weight: bold;display: inline-block;line-height: 1.2em;}#sk-container-id-2 div.sk-label-container {text-align: center;}#sk-container-id-2 div.sk-container {/* jupyter's `normalize.less` sets `[hidden] { display: none; }` but bootstrap.min.css set `[hidden] { display: none !important; }` so we also need the `!important` here to be able to override the default hidden behavior on the sphinx rendered scikit-learn.org. See: https://github.com/scikit-learn/scikit-learn/issues/21755 */display: inline-block !important;position: relative;}#sk-container-id-2 div.sk-text-repr-fallback {display: none;}</style><div id=\"sk-container-id-2\" class=\"sk-top-container\"><div class=\"sk-text-repr-fallback\"><pre>SVC(kernel=&#x27;linear&#x27;, random_state=42)</pre><b>In a Jupyter environment, please rerun this cell to show the HTML representation or trust the notebook. <br />On GitHub, the HTML representation is unable to render, please try loading this page with nbviewer.org.</b></div><div class=\"sk-container\" hidden><div class=\"sk-item\"><div class=\"sk-estimator sk-toggleable\"><input class=\"sk-toggleable__control sk-hidden--visually\" id=\"sk-estimator-id-2\" type=\"checkbox\" checked><label for=\"sk-estimator-id-2\" class=\"sk-toggleable__label sk-toggleable__label-arrow\">SVC</label><div class=\"sk-toggleable__content\"><pre>SVC(kernel=&#x27;linear&#x27;, random_state=42)</pre></div></div></div></div></div>"
      ],
      "text/plain": [
       "SVC(kernel='linear', random_state=42)"
      ]
     },
     "execution_count": 19,
     "metadata": {},
     "output_type": "execute_result"
    }
   ],
   "source": [
    "from sklearn import svm\n",
    "\n",
    "sm=svm.SVC(random_state=42,kernel=\"linear\")\n",
    "sm.fit(x_train,y_train)"
   ]
  },
  {
   "cell_type": "code",
   "execution_count": 20,
   "metadata": {
    "colab": {
     "base_uri": "https://localhost:8080/"
    },
    "executionInfo": {
     "elapsed": 512,
     "status": "ok",
     "timestamp": 1714576024385,
     "user": {
      "displayName": "abdo gameel",
      "userId": "00425813107454389143"
     },
     "user_tz": -120
    },
    "id": "d15AGTL4dNL1",
    "outputId": "37043202-0a0c-466e-f3f3-c693c0f7f1c4"
   },
   "outputs": [
    {
     "data": {
      "text/plain": [
       "array([0, 0, 1, 1, 1, 1, 0, 0, 0, 1])"
      ]
     },
     "execution_count": 20,
     "metadata": {},
     "output_type": "execute_result"
    }
   ],
   "source": [
    "y_pred=sm.predict(x_test)\n",
    "y_pred[:10]"
   ]
  },
  {
   "cell_type": "code",
   "execution_count": 21,
   "metadata": {
    "colab": {
     "base_uri": "https://localhost:8080/"
    },
    "executionInfo": {
     "elapsed": 5,
     "status": "ok",
     "timestamp": 1714576088218,
     "user": {
      "displayName": "abdo gameel",
      "userId": "00425813107454389143"
     },
     "user_tz": -120
    },
    "id": "lDDCD8AAfGzj",
    "outputId": "b942a387-b7b5-4abc-f5a9-a5e1db10776f"
   },
   "outputs": [
    {
     "name": "stdout",
     "output_type": "stream",
     "text": [
      "accuray=98.04%\n",
      "accuracy of errors --->>>1.43761%\n",
      "-----------------------------------------------\n",
      "True positve prediction : 552\n",
      "True Negative predicion : 1162\n",
      "False positve prediction: 8\n",
      "False Negative prediction: 17\n",
      "---------------------------------------\n",
      "Classification Report:\n",
      "               precision    recall  f1-score   support\n",
      "\n",
      "           0       0.99      0.99      0.99      1170\n",
      "           1       0.99      0.97      0.98       569\n",
      "\n",
      "    accuracy                           0.99      1739\n",
      "   macro avg       0.99      0.98      0.98      1739\n",
      "weighted avg       0.99      0.99      0.99      1739\n",
      "\n"
     ]
    }
   ],
   "source": [
    "print(f\"accuray={metrics.accuracy_score(y_test,y_pred)*100:0.2f}%\")\n",
    "print(f\"accuracy of errors --->>>{ 100-(metrics.accuracy_score(y_test,y_predict))*100:0.5f}%\")\n",
    "print(\"-----------------------------------------------\")\n",
    "cm=metrics.confusion_matrix(y_test,y_predict)\n",
    "tp,tn,fp,fn= cm[1,1],cm[0,0],cm[0,1],cm[1,0]\n",
    "\n",
    "print(\"True positve prediction :\",tp)\n",
    "print(\"True Negative predicion :\",tn)\n",
    "print(\"False positve prediction:\",fp)\n",
    "print(\"False Negative prediction:\",fn)\n",
    "print(\"---------------------------------------\")\n",
    "\n",
    "report = classification_report(y_test, y_predict)\n",
    "print(\"Classification Report:\\n\", report)\n",
    "\n"
   ]
  },
  {
   "cell_type": "code",
   "execution_count": null,
   "metadata": {
    "id": "bzz46PgdbRcu"
   },
   "outputs": [],
   "source": []
  }
 ],
 "metadata": {
  "accelerator": "GPU",
  "colab": {
   "authorship_tag": "ABX9TyN2tFJ7wz1q4iW7/X6zha/W",
   "gpuType": "T4",
   "provenance": []
  },
  "kernelspec": {
   "display_name": "Python 3 (ipykernel)",
   "language": "python",
   "name": "python3"
  },
  "language_info": {
   "codemirror_mode": {
    "name": "ipython",
    "version": 3
   },
   "file_extension": ".py",
   "mimetype": "text/x-python",
   "name": "python",
   "nbconvert_exporter": "python",
   "pygments_lexer": "ipython3",
   "version": "3.8.10"
  }
 },
 "nbformat": 4,
 "nbformat_minor": 4
}
